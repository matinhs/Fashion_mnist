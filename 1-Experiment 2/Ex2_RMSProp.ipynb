{
  "nbformat": 4,
  "nbformat_minor": 0,
  "metadata": {
    "colab": {
      "provenance": [],
      "toc_visible": true
    },
    "kernelspec": {
      "name": "python3",
      "display_name": "Python 3"
    },
    "language_info": {
      "name": "python"
    },
    "accelerator": "GPU",
    "gpuClass": "standard"
  },
  "cells": [
    {
      "cell_type": "markdown",
      "source": [
        "# Importing the libraries"
      ],
      "metadata": {
        "id": "u63o1hNWDFK4"
      }
    },
    {
      "cell_type": "code",
      "execution_count": 191,
      "metadata": {
        "id": "y4tcghPIAgC4"
      },
      "outputs": [],
      "source": [
        "import cv2\n",
        "import numpy as np\n",
        "import tensorflow as tf\n",
        "from sklearn import preprocessing, model_selection\n",
        "from tensorflow.keras.utils import to_categorical\n",
        "from matplotlib import pyplot as plt\n",
        "from sklearn.preprocessing import StandardScaler\n",
        "from keras.models import Sequential\n",
        "from keras.layers import Dense, Activation, Dropout, BatchNormalization, ReLU\n",
        "from keras import regularizers, optimizers\n",
        "from tensorflow.keras.optimizers import RMSprop\n",
        "from keras.metrics import categorical_crossentropy\n",
        "from sklearn.metrics import precision_score, recall_score, f1_score, confusion_matrix, accuracy_score, ConfusionMatrixDisplay"
      ]
    },
    {
      "cell_type": "markdown",
      "source": [
        "# Loading and Preprocessing the data"
      ],
      "metadata": {
        "id": "Pdxi3RwHDKz4"
      }
    },
    {
      "cell_type": "code",
      "source": [
        "fashion_mnist = tf.keras.datasets.fashion_mnist\n",
        "(x_train, y_train), (x_test, y_test) = fashion_mnist.load_data()"
      ],
      "metadata": {
        "id": "dEskrJIuBi79"
      },
      "execution_count": 10,
      "outputs": []
    },
    {
      "cell_type": "code",
      "source": [
        "x_val, x_test, y_val, y_test = model_selection.train_test_split(x_test, y_test, test_size=0.5, random_state=42)"
      ],
      "metadata": {
        "id": "iNNsDiOmCZLb"
      },
      "execution_count": 11,
      "outputs": []
    },
    {
      "cell_type": "code",
      "source": [
        "winSize = (28,28)\n",
        "blockSize = (28,28)\n",
        "blockStride = (2,2)\n",
        "cellSize = (4,4)\n",
        "nbins = 9\n",
        "derivAperture = 1\n",
        "winSigma = 4.\n",
        "histogramNormType = 0\n",
        "L2HysThreshold = 0.2\n",
        "gammaCorrection = 0\n",
        "nlevels = 64\n",
        "signedGradients = True\n",
        "\n",
        "hog = cv2.HOGDescriptor(winSize,blockSize,blockStride,\n",
        "cellSize,nbins,derivAperture,\n",
        "winSigma,histogramNormType,L2HysThreshold,\n",
        "gammaCorrection,nlevels, signedGradients)\n"
      ],
      "metadata": {
        "id": "Tls681NlE01F"
      },
      "execution_count": 29,
      "outputs": []
    },
    {
      "cell_type": "code",
      "source": [
        "x_train_hog = np.array([hog.compute(x_train[0])])\n",
        "x_test_hog = np.array([hog.compute(x_test[0])])\n",
        "x_val_hog = np.array([hog.compute(x_val[0])])\n",
        "for i in range(x_train.shape[0]-1):\n",
        "    descriptor = hog.compute(x_train[i+1])\n",
        "    x_train_hog = np.append(x_train_hog, np.array([descriptor]), axis=0)\n",
        "for i in range(x_test.shape[0]-1):\n",
        "    descriptor2 = hog.compute(x_test[i+1])\n",
        "    x_test_hog = np.append(x_test_hog, np.array([descriptor2]), axis=0)\n",
        "for i in range(x_val.shape[0]-1):\n",
        "    descriptor3 = hog.compute(x_val[i+1])\n",
        "    x_val_hog = np.append(x_val_hog, np.array([descriptor3]), axis=0)\n",
        "\n",
        "sc = StandardScaler()\n",
        "x_train_hog = sc.fit_transform(x_train_hog)\n",
        "x_test_hog = sc.transform(x_test_hog)\n",
        "x_val_hog = sc.transform(x_val_hog)"
      ],
      "metadata": {
        "id": "N_5NmiUdKOJq"
      },
      "execution_count": 30,
      "outputs": []
    },
    {
      "cell_type": "code",
      "source": [
        "y_train = to_categorical(y_train)\n",
        "y_test = to_categorical(y_test)\n",
        "y_val = to_categorical(y_val)"
      ],
      "metadata": {
        "id": "AhNHIs9rSDHk"
      },
      "execution_count": 31,
      "outputs": []
    },
    {
      "cell_type": "markdown",
      "source": [
        "# Implementing the model and training it"
      ],
      "metadata": {
        "id": "-czqXwS7S1up"
      }
    },
    {
      "cell_type": "code",
      "source": [
        "model = tf.keras.models.Sequential()\n",
        "model.add(Dense(units=32, kernel_regularizer=regularizers.l2(1e-5)))\n",
        "model.add(BatchNormalization())\n",
        "model.add(ReLU())\n",
        "model.add(Dropout(0.2))\n",
        "model.add(Dense(units=32, kernel_regularizer=regularizers.l2(1e-5)))\n",
        "model.add(BatchNormalization())\n",
        "model.add(ReLU())\n",
        "model.add(Dense(10, activation='softmax'))"
      ],
      "metadata": {
        "id": "jR_gKUt8S6R1"
      },
      "execution_count": 192,
      "outputs": []
    },
    {
      "cell_type": "code",
      "source": [
        "lr_schedule = tf.keras.optimizers.schedules.ExponentialDecay(\n",
        "    0.001,\n",
        "    decay_steps=100000,\n",
        "    decay_rate=0.96,\n",
        "    staircase=True)"
      ],
      "metadata": {
        "id": "tF-Ye9awVH7o"
      },
      "execution_count": 193,
      "outputs": []
    },
    {
      "cell_type": "code",
      "source": [
        "model.compile(RMSprop(learning_rate=lr_schedule), loss='categorical_crossentropy', metrics=['accuracy'])"
      ],
      "metadata": {
        "id": "F8JcUtWuUEnZ"
      },
      "execution_count": 194,
      "outputs": []
    },
    {
      "cell_type": "code",
      "source": [
        "model.summary()"
      ],
      "metadata": {
        "colab": {
          "base_uri": "https://localhost:8080/"
        },
        "id": "k-DZc00hkh7y",
        "outputId": "f9408447-4a8b-4f4e-a4da-118d6f69934a"
      },
      "execution_count": 197,
      "outputs": [
        {
          "output_type": "stream",
          "name": "stdout",
          "text": [
            "Model: \"sequential_12\"\n",
            "_________________________________________________________________\n",
            " Layer (type)                Output Shape              Param #   \n",
            "=================================================================\n",
            " dense_39 (Dense)            (None, 32)                14144     \n",
            "                                                                 \n",
            " batch_normalization_27 (Bat  (None, 32)               128       \n",
            " chNormalization)                                                \n",
            "                                                                 \n",
            " re_lu_22 (ReLU)             (None, 32)                0         \n",
            "                                                                 \n",
            " dropout_15 (Dropout)        (None, 32)                0         \n",
            "                                                                 \n",
            " dense_40 (Dense)            (None, 32)                1056      \n",
            "                                                                 \n",
            " batch_normalization_28 (Bat  (None, 32)               128       \n",
            " chNormalization)                                                \n",
            "                                                                 \n",
            " re_lu_23 (ReLU)             (None, 32)                0         \n",
            "                                                                 \n",
            " dense_41 (Dense)            (None, 10)                330       \n",
            "                                                                 \n",
            "=================================================================\n",
            "Total params: 15,786\n",
            "Trainable params: 15,658\n",
            "Non-trainable params: 128\n",
            "_________________________________________________________________\n"
          ]
        }
      ]
    },
    {
      "cell_type": "code",
      "source": [
        "history = model.fit(x_train_hog, y_train, batch_size = 64, epochs = 50, validation_data=(x_val_hog, y_val))"
      ],
      "metadata": {
        "colab": {
          "base_uri": "https://localhost:8080/"
        },
        "id": "bUCeNIeNUQd0",
        "outputId": "ca58c804-6f7f-40c4-a2dd-1223fbd50832"
      },
      "execution_count": 196,
      "outputs": [
        {
          "output_type": "stream",
          "name": "stdout",
          "text": [
            "Epoch 1/50\n",
            "938/938 [==============================] - 6s 5ms/step - loss: 0.5999 - accuracy: 0.8098 - val_loss: 0.3644 - val_accuracy: 0.8756\n",
            "Epoch 2/50\n",
            "938/938 [==============================] - 4s 5ms/step - loss: 0.3873 - accuracy: 0.8639 - val_loss: 0.3270 - val_accuracy: 0.8848\n",
            "Epoch 3/50\n",
            "938/938 [==============================] - 5s 5ms/step - loss: 0.3555 - accuracy: 0.8755 - val_loss: 0.3035 - val_accuracy: 0.8914\n",
            "Epoch 4/50\n",
            "938/938 [==============================] - 5s 5ms/step - loss: 0.3378 - accuracy: 0.8813 - val_loss: 0.3021 - val_accuracy: 0.8930\n",
            "Epoch 5/50\n",
            "938/938 [==============================] - 5s 6ms/step - loss: 0.3312 - accuracy: 0.8829 - val_loss: 0.2900 - val_accuracy: 0.8994\n",
            "Epoch 6/50\n",
            "938/938 [==============================] - 4s 5ms/step - loss: 0.3203 - accuracy: 0.8869 - val_loss: 0.2964 - val_accuracy: 0.8942\n",
            "Epoch 7/50\n",
            "938/938 [==============================] - 4s 5ms/step - loss: 0.3106 - accuracy: 0.8900 - val_loss: 0.2836 - val_accuracy: 0.8994\n",
            "Epoch 8/50\n",
            "938/938 [==============================] - 4s 5ms/step - loss: 0.3070 - accuracy: 0.8921 - val_loss: 0.2788 - val_accuracy: 0.9030\n",
            "Epoch 9/50\n",
            "938/938 [==============================] - 5s 5ms/step - loss: 0.3023 - accuracy: 0.8939 - val_loss: 0.2770 - val_accuracy: 0.9026\n",
            "Epoch 10/50\n",
            "938/938 [==============================] - 5s 5ms/step - loss: 0.2977 - accuracy: 0.8948 - val_loss: 0.2795 - val_accuracy: 0.9002\n",
            "Epoch 11/50\n",
            "938/938 [==============================] - 5s 5ms/step - loss: 0.2955 - accuracy: 0.8958 - val_loss: 0.2764 - val_accuracy: 0.9046\n",
            "Epoch 12/50\n",
            "938/938 [==============================] - 5s 5ms/step - loss: 0.2921 - accuracy: 0.8979 - val_loss: 0.2722 - val_accuracy: 0.9038\n",
            "Epoch 13/50\n",
            "938/938 [==============================] - 4s 5ms/step - loss: 0.2889 - accuracy: 0.8994 - val_loss: 0.2787 - val_accuracy: 0.9042\n",
            "Epoch 14/50\n",
            "938/938 [==============================] - 5s 5ms/step - loss: 0.2862 - accuracy: 0.9004 - val_loss: 0.2779 - val_accuracy: 0.9038\n",
            "Epoch 15/50\n",
            "938/938 [==============================] - 5s 5ms/step - loss: 0.2830 - accuracy: 0.9008 - val_loss: 0.2705 - val_accuracy: 0.9050\n",
            "Epoch 16/50\n",
            "938/938 [==============================] - 4s 5ms/step - loss: 0.2846 - accuracy: 0.9004 - val_loss: 0.2725 - val_accuracy: 0.9066\n",
            "Epoch 17/50\n",
            "938/938 [==============================] - 5s 5ms/step - loss: 0.2839 - accuracy: 0.9009 - val_loss: 0.2693 - val_accuracy: 0.9088\n",
            "Epoch 18/50\n",
            "938/938 [==============================] - 4s 5ms/step - loss: 0.2792 - accuracy: 0.9026 - val_loss: 0.2751 - val_accuracy: 0.9062\n",
            "Epoch 19/50\n",
            "938/938 [==============================] - 5s 5ms/step - loss: 0.2799 - accuracy: 0.9018 - val_loss: 0.2752 - val_accuracy: 0.9048\n",
            "Epoch 20/50\n",
            "938/938 [==============================] - 4s 5ms/step - loss: 0.2786 - accuracy: 0.9030 - val_loss: 0.2723 - val_accuracy: 0.9070\n",
            "Epoch 21/50\n",
            "938/938 [==============================] - 5s 5ms/step - loss: 0.2787 - accuracy: 0.9028 - val_loss: 0.2703 - val_accuracy: 0.9078\n",
            "Epoch 22/50\n",
            "938/938 [==============================] - 5s 5ms/step - loss: 0.2758 - accuracy: 0.9042 - val_loss: 0.2739 - val_accuracy: 0.9062\n",
            "Epoch 23/50\n",
            "938/938 [==============================] - 5s 5ms/step - loss: 0.2770 - accuracy: 0.9031 - val_loss: 0.2761 - val_accuracy: 0.9060\n",
            "Epoch 24/50\n",
            "938/938 [==============================] - 5s 5ms/step - loss: 0.2750 - accuracy: 0.9051 - val_loss: 0.2685 - val_accuracy: 0.9092\n",
            "Epoch 25/50\n",
            "938/938 [==============================] - 5s 5ms/step - loss: 0.2741 - accuracy: 0.9036 - val_loss: 0.2721 - val_accuracy: 0.9084\n",
            "Epoch 26/50\n",
            "938/938 [==============================] - 4s 5ms/step - loss: 0.2727 - accuracy: 0.9048 - val_loss: 0.2707 - val_accuracy: 0.9062\n",
            "Epoch 27/50\n",
            "938/938 [==============================] - 5s 5ms/step - loss: 0.2714 - accuracy: 0.9061 - val_loss: 0.2709 - val_accuracy: 0.9076\n",
            "Epoch 28/50\n",
            "938/938 [==============================] - 5s 5ms/step - loss: 0.2723 - accuracy: 0.9052 - val_loss: 0.2725 - val_accuracy: 0.9092\n",
            "Epoch 29/50\n",
            "938/938 [==============================] - 5s 5ms/step - loss: 0.2740 - accuracy: 0.9054 - val_loss: 0.2687 - val_accuracy: 0.9098\n",
            "Epoch 30/50\n",
            "938/938 [==============================] - 5s 5ms/step - loss: 0.2698 - accuracy: 0.9052 - val_loss: 0.2747 - val_accuracy: 0.9084\n",
            "Epoch 31/50\n",
            "938/938 [==============================] - 4s 5ms/step - loss: 0.2705 - accuracy: 0.9058 - val_loss: 0.2742 - val_accuracy: 0.9096\n",
            "Epoch 32/50\n",
            "938/938 [==============================] - 4s 5ms/step - loss: 0.2705 - accuracy: 0.9061 - val_loss: 0.2754 - val_accuracy: 0.9090\n",
            "Epoch 33/50\n",
            "938/938 [==============================] - 5s 5ms/step - loss: 0.2691 - accuracy: 0.9072 - val_loss: 0.2728 - val_accuracy: 0.9076\n",
            "Epoch 34/50\n",
            "938/938 [==============================] - 5s 5ms/step - loss: 0.2678 - accuracy: 0.9067 - val_loss: 0.2707 - val_accuracy: 0.9086\n",
            "Epoch 35/50\n",
            "938/938 [==============================] - 5s 5ms/step - loss: 0.2686 - accuracy: 0.9085 - val_loss: 0.2684 - val_accuracy: 0.9098\n",
            "Epoch 36/50\n",
            "938/938 [==============================] - 5s 5ms/step - loss: 0.2704 - accuracy: 0.9071 - val_loss: 0.2666 - val_accuracy: 0.9102\n",
            "Epoch 37/50\n",
            "938/938 [==============================] - 5s 5ms/step - loss: 0.2684 - accuracy: 0.9062 - val_loss: 0.2729 - val_accuracy: 0.9096\n",
            "Epoch 38/50\n",
            "938/938 [==============================] - 5s 5ms/step - loss: 0.2689 - accuracy: 0.9086 - val_loss: 0.2755 - val_accuracy: 0.9058\n",
            "Epoch 39/50\n",
            "938/938 [==============================] - 4s 5ms/step - loss: 0.2682 - accuracy: 0.9071 - val_loss: 0.2789 - val_accuracy: 0.9070\n",
            "Epoch 40/50\n",
            "938/938 [==============================] - 4s 5ms/step - loss: 0.2681 - accuracy: 0.9081 - val_loss: 0.2741 - val_accuracy: 0.9094\n",
            "Epoch 41/50\n",
            "938/938 [==============================] - 4s 5ms/step - loss: 0.2655 - accuracy: 0.9085 - val_loss: 0.2762 - val_accuracy: 0.9096\n",
            "Epoch 42/50\n",
            "938/938 [==============================] - 4s 5ms/step - loss: 0.2657 - accuracy: 0.9086 - val_loss: 0.2711 - val_accuracy: 0.9114\n",
            "Epoch 43/50\n",
            "938/938 [==============================] - 4s 5ms/step - loss: 0.2695 - accuracy: 0.9083 - val_loss: 0.2764 - val_accuracy: 0.9086\n",
            "Epoch 44/50\n",
            "938/938 [==============================] - 5s 5ms/step - loss: 0.2670 - accuracy: 0.9079 - val_loss: 0.2758 - val_accuracy: 0.9080\n",
            "Epoch 45/50\n",
            "938/938 [==============================] - 4s 5ms/step - loss: 0.2633 - accuracy: 0.9105 - val_loss: 0.2774 - val_accuracy: 0.9062\n",
            "Epoch 46/50\n",
            "938/938 [==============================] - 5s 5ms/step - loss: 0.2649 - accuracy: 0.9096 - val_loss: 0.2771 - val_accuracy: 0.9068\n",
            "Epoch 47/50\n",
            "938/938 [==============================] - 5s 5ms/step - loss: 0.2653 - accuracy: 0.9104 - val_loss: 0.2740 - val_accuracy: 0.9104\n",
            "Epoch 48/50\n",
            "938/938 [==============================] - 5s 5ms/step - loss: 0.2641 - accuracy: 0.9097 - val_loss: 0.2744 - val_accuracy: 0.9094\n",
            "Epoch 49/50\n",
            "938/938 [==============================] - 5s 5ms/step - loss: 0.2674 - accuracy: 0.9089 - val_loss: 0.2774 - val_accuracy: 0.9078\n",
            "Epoch 50/50\n",
            "938/938 [==============================] - 5s 5ms/step - loss: 0.2628 - accuracy: 0.9108 - val_loss: 0.2800 - val_accuracy: 0.9076\n"
          ]
        }
      ]
    },
    {
      "cell_type": "markdown",
      "source": [
        "# Evaluation"
      ],
      "metadata": {
        "id": "J9iLndfoUwW_"
      }
    },
    {
      "cell_type": "code",
      "source": [
        "plt.figure(dpi=160)\n",
        "\n",
        "plt.subplot(231)\n",
        "plt.title('Loss')\n",
        "plt.plot(history.history['loss'], label='train')\n",
        "plt.plot(history.history['val_loss'], label='val')\n",
        "plt.legend()\n",
        "\n",
        "plt.subplot(233)\n",
        "plt.title('Accuracy')\n",
        "plt.plot(history.history['accuracy'], label='train')\n",
        "plt.plot(history.history['val_accuracy'], label='val')\n",
        "plt.legend()\n",
        "plt.show()"
      ],
      "metadata": {
        "colab": {
          "base_uri": "https://localhost:8080/",
          "height": 337
        },
        "id": "6-0ynCwwUy_G",
        "outputId": "ca347bdc-7e68-4efb-cd21-2d0ae3bb1bd6"
      },
      "execution_count": 198,
      "outputs": [
        {
          "output_type": "display_data",
          "data": {
            "text/plain": [
              "<Figure size 960x640 with 2 Axes>"
            ],
            "image/png": "[encoded data removed]"
          },
          "metadata": {
            "needs_background": "light"
          }
        }
      ]
    },
    {
      "cell_type": "code",
      "source": [
        "y_hat = model.predict(x_test_hog)"
      ],
      "metadata": {
        "colab": {
          "base_uri": "https://localhost:8080/"
        },
        "id": "HA43bPFFbgql",
        "outputId": "50d398d1-4e75-4ca6-9b4c-a797bdffb71c"
      },
      "execution_count": 199,
      "outputs": [
        {
          "output_type": "stream",
          "name": "stdout",
          "text": [
            "157/157 [==============================] - 0s 2ms/step\n"
          ]
        }
      ]
    },
    {
      "cell_type": "code",
      "source": [
        "y_hat[y_hat>=0.5] = 1\n",
        "y_hat[y_hat<0.5] = 0"
      ],
      "metadata": {
        "id": "r7qOaqaKcNOW"
      },
      "execution_count": 200,
      "outputs": []
    },
    {
      "cell_type": "code",
      "source": [
        "print('\\nFor Test Set')\n",
        "f1 = f1_score(y_test, y_hat, average='micro')\n",
        "print('F1 score: ' , f1)\n",
        "\n",
        "accuracy = accuracy_score(y_test, y_hat)\n",
        "print('Accuracy: ' , accuracy)\n",
        "\n",
        "precision = precision_score(y_test, y_hat, average='micro')\n",
        "print('Precision: ' , precision)\n",
        "\n",
        "recall = recall_score(y_test, y_hat, average='micro')\n",
        "print('Recall: ' , recall)\n",
        "\n",
        "matrix = ConfusionMatrixDisplay(confusion_matrix(y_test.argmax(axis=1), y_hat.argmax(axis=1)))\n",
        "print('Confusion Matrix: \\n')\n",
        "matrix.plot()\n",
        "plt.show()"
      ],
      "metadata": {
        "colab": {
          "base_uri": "https://localhost:8080/",
          "height": 428
        },
        "id": "CUg-aVrycDY8",
        "outputId": "008d16c1-3297-47fb-ceb5-41b0a2231531"
      },
      "execution_count": 201,
      "outputs": [
        {
          "output_type": "stream",
          "name": "stdout",
          "text": [
            "\n",
            "For Test Set\n",
            "F1 score:  0.9038149350649352\n",
            "Accuracy:  0.8908\n",
            "Precision:  0.9172158154859967\n",
            "Recall:  0.8908\n",
            "Confusion Matrix: \n",
            "\n"
          ]
        },
        {
          "output_type": "display_data",
          "data": {
            "text/plain": [
              "<Figure size 432x288 with 2 Axes>"
            ],
            "image/png": "[encoded data removed]"
          },
          "metadata": {
            "needs_background": "light"
          }
        }
      ]
    }
  ]
}