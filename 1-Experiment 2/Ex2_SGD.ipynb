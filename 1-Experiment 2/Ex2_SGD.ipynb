{
  "nbformat": 4,
  "nbformat_minor": 0,
  "metadata": {
    "colab": {
      "provenance": [],
      "toc_visible": true
    },
    "kernelspec": {
      "name": "python3",
      "display_name": "Python 3"
    },
    "language_info": {
      "name": "python"
    },
    "accelerator": "GPU",
    "gpuClass": "standard"
  },
  "cells": [
    {
      "cell_type": "markdown",
      "source": [
        "# Importing the libraries"
      ],
      "metadata": {
        "id": "u63o1hNWDFK4"
      }
    },
    {
      "cell_type": "code",
      "execution_count": 209,
      "metadata": {
        "id": "y4tcghPIAgC4"
      },
      "outputs": [],
      "source": [
        "import cv2\n",
        "import numpy as np\n",
        "import tensorflow as tf\n",
        "from sklearn import preprocessing, model_selection\n",
        "from tensorflow.keras.utils import to_categorical\n",
        "from matplotlib import pyplot as plt\n",
        "from sklearn.preprocessing import StandardScaler\n",
        "from keras.models import Sequential\n",
        "from keras.layers import Dense, Activation, Dropout, BatchNormalization, ReLU\n",
        "from keras import regularizers, optimizers\n",
        "from tensorflow.keras.optimizers import SGD\n",
        "from keras.metrics import categorical_crossentropy\n",
        "from sklearn.metrics import precision_score, recall_score, f1_score, confusion_matrix, accuracy_score, ConfusionMatrixDisplay"
      ]
    },
    {
      "cell_type": "markdown",
      "source": [
        "# Loading and Preprocessing the data"
      ],
      "metadata": {
        "id": "Pdxi3RwHDKz4"
      }
    },
    {
      "cell_type": "code",
      "source": [
        "fashion_mnist = tf.keras.datasets.fashion_mnist\n",
        "(x_train, y_train), (x_test, y_test) = fashion_mnist.load_data()"
      ],
      "metadata": {
        "id": "dEskrJIuBi79"
      },
      "execution_count": 10,
      "outputs": []
    },
    {
      "cell_type": "code",
      "source": [
        "x_val, x_test, y_val, y_test = model_selection.train_test_split(x_test, y_test, test_size=0.5, random_state=42)"
      ],
      "metadata": {
        "id": "iNNsDiOmCZLb"
      },
      "execution_count": 11,
      "outputs": []
    },
    {
      "cell_type": "code",
      "source": [
        "winSize = (28,28)\n",
        "blockSize = (28,28)\n",
        "blockStride = (2,2)\n",
        "cellSize = (4,4)\n",
        "nbins = 9\n",
        "derivAperture = 1\n",
        "winSigma = 4.\n",
        "histogramNormType = 0\n",
        "L2HysThreshold = 0.2\n",
        "gammaCorrection = 0\n",
        "nlevels = 64\n",
        "signedGradients = True\n",
        "\n",
        "hog = cv2.HOGDescriptor(winSize,blockSize,blockStride,\n",
        "cellSize,nbins,derivAperture,\n",
        "winSigma,histogramNormType,L2HysThreshold,\n",
        "gammaCorrection,nlevels, signedGradients)\n"
      ],
      "metadata": {
        "id": "Tls681NlE01F"
      },
      "execution_count": 29,
      "outputs": []
    },
    {
      "cell_type": "code",
      "source": [
        "x_train_hog = np.array([hog.compute(x_train[0])])\n",
        "x_test_hog = np.array([hog.compute(x_test[0])])\n",
        "x_val_hog = np.array([hog.compute(x_val[0])])\n",
        "for i in range(x_train.shape[0]-1):\n",
        "    descriptor = hog.compute(x_train[i+1])\n",
        "    x_train_hog = np.append(x_train_hog, np.array([descriptor]), axis=0)\n",
        "for i in range(x_test.shape[0]-1):\n",
        "    descriptor2 = hog.compute(x_test[i+1])\n",
        "    x_test_hog = np.append(x_test_hog, np.array([descriptor2]), axis=0)\n",
        "for i in range(x_val.shape[0]-1):\n",
        "    descriptor3 = hog.compute(x_val[i+1])\n",
        "    x_val_hog = np.append(x_val_hog, np.array([descriptor3]), axis=0)\n",
        "\n",
        "sc = StandardScaler()\n",
        "x_train_hog = sc.fit_transform(x_train_hog)\n",
        "x_test_hog = sc.transform(x_test_hog)\n",
        "x_val_hog = sc.transform(x_val_hog)"
      ],
      "metadata": {
        "id": "N_5NmiUdKOJq"
      },
      "execution_count": 30,
      "outputs": []
    },
    {
      "cell_type": "code",
      "source": [
        "y_train = to_categorical(y_train)\n",
        "y_test = to_categorical(y_test)\n",
        "y_val = to_categorical(y_val)"
      ],
      "metadata": {
        "id": "AhNHIs9rSDHk"
      },
      "execution_count": 31,
      "outputs": []
    },
    {
      "cell_type": "markdown",
      "source": [
        "# Implementing the model and training it"
      ],
      "metadata": {
        "id": "-czqXwS7S1up"
      }
    },
    {
      "cell_type": "code",
      "source": [
        "model = tf.keras.models.Sequential()\n",
        "model.add(Dense(units=32, kernel_regularizer=regularizers.l2(1e-5)))\n",
        "model.add(BatchNormalization())\n",
        "model.add(ReLU())\n",
        "model.add(Dropout(0.2))\n",
        "model.add(Dense(units=32, kernel_regularizer=regularizers.l2(1e-5)))\n",
        "model.add(BatchNormalization())\n",
        "model.add(ReLU())\n",
        "model.add(Dense(10, activation='softmax'))"
      ],
      "metadata": {
        "id": "jR_gKUt8S6R1"
      },
      "execution_count": 192,
      "outputs": []
    },
    {
      "cell_type": "code",
      "source": [
        "lr_schedule = tf.keras.optimizers.schedules.ExponentialDecay(\n",
        "    0.001,\n",
        "    decay_steps=100000,\n",
        "    decay_rate=0.96,\n",
        "    staircase=True)"
      ],
      "metadata": {
        "id": "tF-Ye9awVH7o"
      },
      "execution_count": 193,
      "outputs": []
    },
    {
      "cell_type": "code",
      "source": [
        "model.compile(SGD(learning_rate=lr_schedule, momentum=0), loss='categorical_crossentropy', metrics=['accuracy'])"
      ],
      "metadata": {
        "id": "F8JcUtWuUEnZ"
      },
      "execution_count": 216,
      "outputs": []
    },
    {
      "cell_type": "code",
      "source": [
        "model.summary()"
      ],
      "metadata": {
        "colab": {
          "base_uri": "https://localhost:8080/"
        },
        "id": "k-DZc00hkh7y",
        "outputId": "f9408447-4a8b-4f4e-a4da-118d6f69934a"
      },
      "execution_count": 197,
      "outputs": [
        {
          "output_type": "stream",
          "name": "stdout",
          "text": [
            "Model: \"sequential_12\"\n",
            "_________________________________________________________________\n",
            " Layer (type)                Output Shape              Param #   \n",
            "=================================================================\n",
            " dense_39 (Dense)            (None, 32)                14144     \n",
            "                                                                 \n",
            " batch_normalization_27 (Bat  (None, 32)               128       \n",
            " chNormalization)                                                \n",
            "                                                                 \n",
            " re_lu_22 (ReLU)             (None, 32)                0         \n",
            "                                                                 \n",
            " dropout_15 (Dropout)        (None, 32)                0         \n",
            "                                                                 \n",
            " dense_40 (Dense)            (None, 32)                1056      \n",
            "                                                                 \n",
            " batch_normalization_28 (Bat  (None, 32)               128       \n",
            " chNormalization)                                                \n",
            "                                                                 \n",
            " re_lu_23 (ReLU)             (None, 32)                0         \n",
            "                                                                 \n",
            " dense_41 (Dense)            (None, 10)                330       \n",
            "                                                                 \n",
            "=================================================================\n",
            "Total params: 15,786\n",
            "Trainable params: 15,658\n",
            "Non-trainable params: 128\n",
            "_________________________________________________________________\n"
          ]
        }
      ]
    },
    {
      "cell_type": "code",
      "source": [
        "history = model.fit(x_train_hog, y_train, batch_size = 64, epochs = 50, validation_data=(x_val_hog, y_val))"
      ],
      "metadata": {
        "colab": {
          "base_uri": "https://localhost:8080/"
        },
        "id": "bUCeNIeNUQd0",
        "outputId": "db7848a0-6c19-4995-aa97-8c40e5ce8533"
      },
      "execution_count": 217,
      "outputs": [
        {
          "output_type": "stream",
          "name": "stdout",
          "text": [
            "Epoch 1/50\n",
            "938/938 [==============================] - 8s 6ms/step - loss: 0.2385 - accuracy: 0.9166 - val_loss: 0.2662 - val_accuracy: 0.9114\n",
            "Epoch 2/50\n",
            "938/938 [==============================] - 4s 4ms/step - loss: 0.2391 - accuracy: 0.9169 - val_loss: 0.2653 - val_accuracy: 0.9110\n",
            "Epoch 3/50\n",
            "938/938 [==============================] - 4s 5ms/step - loss: 0.2382 - accuracy: 0.9187 - val_loss: 0.2655 - val_accuracy: 0.9116\n",
            "Epoch 4/50\n",
            "938/938 [==============================] - 4s 4ms/step - loss: 0.2378 - accuracy: 0.9176 - val_loss: 0.2661 - val_accuracy: 0.9118\n",
            "Epoch 5/50\n",
            "938/938 [==============================] - 4s 4ms/step - loss: 0.2356 - accuracy: 0.9187 - val_loss: 0.2662 - val_accuracy: 0.9110\n",
            "Epoch 6/50\n",
            "938/938 [==============================] - 4s 4ms/step - loss: 0.2385 - accuracy: 0.9179 - val_loss: 0.2659 - val_accuracy: 0.9110\n",
            "Epoch 7/50\n",
            "938/938 [==============================] - 4s 4ms/step - loss: 0.2372 - accuracy: 0.9183 - val_loss: 0.2657 - val_accuracy: 0.9104\n",
            "Epoch 8/50\n",
            "938/938 [==============================] - 4s 4ms/step - loss: 0.2349 - accuracy: 0.9192 - val_loss: 0.2662 - val_accuracy: 0.9104\n",
            "Epoch 9/50\n",
            "938/938 [==============================] - 4s 4ms/step - loss: 0.2376 - accuracy: 0.9185 - val_loss: 0.2662 - val_accuracy: 0.9104\n",
            "Epoch 10/50\n",
            "938/938 [==============================] - 4s 4ms/step - loss: 0.2360 - accuracy: 0.9177 - val_loss: 0.2664 - val_accuracy: 0.9106\n",
            "Epoch 11/50\n",
            "938/938 [==============================] - 4s 4ms/step - loss: 0.2382 - accuracy: 0.9175 - val_loss: 0.2662 - val_accuracy: 0.9102\n",
            "Epoch 12/50\n",
            "938/938 [==============================] - 4s 4ms/step - loss: 0.2378 - accuracy: 0.9182 - val_loss: 0.2665 - val_accuracy: 0.9106\n",
            "Epoch 13/50\n",
            "938/938 [==============================] - 4s 4ms/step - loss: 0.2362 - accuracy: 0.9197 - val_loss: 0.2662 - val_accuracy: 0.9094\n",
            "Epoch 14/50\n",
            "938/938 [==============================] - 4s 4ms/step - loss: 0.2387 - accuracy: 0.9179 - val_loss: 0.2659 - val_accuracy: 0.9104\n",
            "Epoch 15/50\n",
            "938/938 [==============================] - 4s 4ms/step - loss: 0.2367 - accuracy: 0.9182 - val_loss: 0.2664 - val_accuracy: 0.9108\n",
            "Epoch 16/50\n",
            "938/938 [==============================] - 4s 4ms/step - loss: 0.2377 - accuracy: 0.9172 - val_loss: 0.2665 - val_accuracy: 0.9100\n",
            "Epoch 17/50\n",
            "938/938 [==============================] - 5s 5ms/step - loss: 0.2363 - accuracy: 0.9189 - val_loss: 0.2665 - val_accuracy: 0.9106\n",
            "Epoch 18/50\n",
            "938/938 [==============================] - 5s 5ms/step - loss: 0.2341 - accuracy: 0.9195 - val_loss: 0.2669 - val_accuracy: 0.9104\n",
            "Epoch 19/50\n",
            "938/938 [==============================] - 5s 5ms/step - loss: 0.2358 - accuracy: 0.9185 - val_loss: 0.2664 - val_accuracy: 0.9106\n",
            "Epoch 20/50\n",
            "938/938 [==============================] - 4s 4ms/step - loss: 0.2375 - accuracy: 0.9176 - val_loss: 0.2665 - val_accuracy: 0.9100\n",
            "Epoch 21/50\n",
            "938/938 [==============================] - 4s 4ms/step - loss: 0.2395 - accuracy: 0.9185 - val_loss: 0.2664 - val_accuracy: 0.9106\n",
            "Epoch 22/50\n",
            "938/938 [==============================] - 4s 4ms/step - loss: 0.2369 - accuracy: 0.9187 - val_loss: 0.2668 - val_accuracy: 0.9098\n",
            "Epoch 23/50\n",
            "938/938 [==============================] - 4s 4ms/step - loss: 0.2381 - accuracy: 0.9179 - val_loss: 0.2662 - val_accuracy: 0.9102\n",
            "Epoch 24/50\n",
            "938/938 [==============================] - 4s 4ms/step - loss: 0.2329 - accuracy: 0.9192 - val_loss: 0.2661 - val_accuracy: 0.9110\n",
            "Epoch 25/50\n",
            "938/938 [==============================] - 4s 4ms/step - loss: 0.2375 - accuracy: 0.9180 - val_loss: 0.2654 - val_accuracy: 0.9102\n",
            "Epoch 26/50\n",
            "938/938 [==============================] - 4s 4ms/step - loss: 0.2371 - accuracy: 0.9180 - val_loss: 0.2657 - val_accuracy: 0.9104\n",
            "Epoch 27/50\n",
            "938/938 [==============================] - 4s 4ms/step - loss: 0.2379 - accuracy: 0.9187 - val_loss: 0.2662 - val_accuracy: 0.9098\n",
            "Epoch 28/50\n",
            "938/938 [==============================] - 4s 4ms/step - loss: 0.2364 - accuracy: 0.9195 - val_loss: 0.2655 - val_accuracy: 0.9104\n",
            "Epoch 29/50\n",
            "938/938 [==============================] - 4s 4ms/step - loss: 0.2363 - accuracy: 0.9190 - val_loss: 0.2660 - val_accuracy: 0.9096\n",
            "Epoch 30/50\n",
            "938/938 [==============================] - 4s 4ms/step - loss: 0.2377 - accuracy: 0.9183 - val_loss: 0.2665 - val_accuracy: 0.9100\n",
            "Epoch 31/50\n",
            "938/938 [==============================] - 4s 4ms/step - loss: 0.2360 - accuracy: 0.9185 - val_loss: 0.2662 - val_accuracy: 0.9096\n",
            "Epoch 32/50\n",
            "938/938 [==============================] - 4s 4ms/step - loss: 0.2360 - accuracy: 0.9186 - val_loss: 0.2666 - val_accuracy: 0.9098\n",
            "Epoch 33/50\n",
            "938/938 [==============================] - 4s 4ms/step - loss: 0.2358 - accuracy: 0.9191 - val_loss: 0.2661 - val_accuracy: 0.9092\n",
            "Epoch 34/50\n",
            "938/938 [==============================] - 4s 4ms/step - loss: 0.2371 - accuracy: 0.9180 - val_loss: 0.2664 - val_accuracy: 0.9098\n",
            "Epoch 35/50\n",
            "938/938 [==============================] - 4s 4ms/step - loss: 0.2369 - accuracy: 0.9182 - val_loss: 0.2662 - val_accuracy: 0.9102\n",
            "Epoch 36/50\n",
            "938/938 [==============================] - 4s 4ms/step - loss: 0.2385 - accuracy: 0.9178 - val_loss: 0.2671 - val_accuracy: 0.9104\n",
            "Epoch 37/50\n",
            "938/938 [==============================] - 4s 4ms/step - loss: 0.2358 - accuracy: 0.9198 - val_loss: 0.2667 - val_accuracy: 0.9096\n",
            "Epoch 38/50\n",
            "938/938 [==============================] - 4s 4ms/step - loss: 0.2391 - accuracy: 0.9179 - val_loss: 0.2665 - val_accuracy: 0.9098\n",
            "Epoch 39/50\n",
            "938/938 [==============================] - 4s 4ms/step - loss: 0.2361 - accuracy: 0.9182 - val_loss: 0.2665 - val_accuracy: 0.9102\n",
            "Epoch 40/50\n",
            "938/938 [==============================] - 4s 5ms/step - loss: 0.2389 - accuracy: 0.9178 - val_loss: 0.2660 - val_accuracy: 0.9110\n",
            "Epoch 41/50\n",
            "938/938 [==============================] - 4s 4ms/step - loss: 0.2359 - accuracy: 0.9183 - val_loss: 0.2668 - val_accuracy: 0.9106\n",
            "Epoch 42/50\n",
            "938/938 [==============================] - 4s 4ms/step - loss: 0.2362 - accuracy: 0.9187 - val_loss: 0.2666 - val_accuracy: 0.9102\n",
            "Epoch 43/50\n",
            "938/938 [==============================] - 4s 4ms/step - loss: 0.2371 - accuracy: 0.9179 - val_loss: 0.2665 - val_accuracy: 0.9102\n",
            "Epoch 44/50\n",
            "938/938 [==============================] - 4s 4ms/step - loss: 0.2385 - accuracy: 0.9177 - val_loss: 0.2658 - val_accuracy: 0.9112\n",
            "Epoch 45/50\n",
            "938/938 [==============================] - 4s 4ms/step - loss: 0.2343 - accuracy: 0.9184 - val_loss: 0.2669 - val_accuracy: 0.9104\n",
            "Epoch 46/50\n",
            "938/938 [==============================] - 4s 4ms/step - loss: 0.2393 - accuracy: 0.9163 - val_loss: 0.2671 - val_accuracy: 0.9102\n",
            "Epoch 47/50\n",
            "938/938 [==============================] - 4s 4ms/step - loss: 0.2369 - accuracy: 0.9184 - val_loss: 0.2669 - val_accuracy: 0.9098\n",
            "Epoch 48/50\n",
            "938/938 [==============================] - 4s 4ms/step - loss: 0.2334 - accuracy: 0.9199 - val_loss: 0.2664 - val_accuracy: 0.9090\n",
            "Epoch 49/50\n",
            "938/938 [==============================] - 4s 4ms/step - loss: 0.2373 - accuracy: 0.9175 - val_loss: 0.2667 - val_accuracy: 0.9102\n",
            "Epoch 50/50\n",
            "938/938 [==============================] - 4s 4ms/step - loss: 0.2371 - accuracy: 0.9172 - val_loss: 0.2663 - val_accuracy: 0.9102\n"
          ]
        }
      ]
    },
    {
      "cell_type": "markdown",
      "source": [
        "# Evaluation"
      ],
      "metadata": {
        "id": "J9iLndfoUwW_"
      }
    },
    {
      "cell_type": "code",
      "source": [
        "plt.figure(dpi=160)\n",
        "\n",
        "plt.subplot(231)\n",
        "plt.title('Loss')\n",
        "plt.plot(history.history['loss'], label='train')\n",
        "plt.plot(history.history['val_loss'], label='val')\n",
        "plt.legend()\n",
        "\n",
        "plt.subplot(233)\n",
        "plt.title('Accuracy')\n",
        "plt.plot(history.history['accuracy'], label='train')\n",
        "plt.plot(history.history['val_accuracy'], label='val')\n",
        "plt.legend()\n",
        "plt.show()"
      ],
      "metadata": {
        "colab": {
          "base_uri": "https://localhost:8080/",
          "height": 337
        },
        "id": "6-0ynCwwUy_G",
        "outputId": "741d1702-339c-412c-b86d-c9e029193d44"
      },
      "execution_count": 218,
      "outputs": [
        {
          "output_type": "display_data",
          "data": {
            "text/plain": [
              "<Figure size 960x640 with 2 Axes>"
            ],
            "image/png": "[encoded data removed]"
          },
          "metadata": {
            "needs_background": "light"
          }
        }
      ]
    },
    {
      "cell_type": "code",
      "source": [
        "y_hat = model.predict(x_test_hog)"
      ],
      "metadata": {
        "colab": {
          "base_uri": "https://localhost:8080/"
        },
        "id": "HA43bPFFbgql",
        "outputId": "68a0de09-ffcc-4832-8f63-9f3983296d26"
      },
      "execution_count": 219,
      "outputs": [
        {
          "output_type": "stream",
          "name": "stdout",
          "text": [
            "157/157 [==============================] - 0s 2ms/step\n"
          ]
        }
      ]
    },
    {
      "cell_type": "code",
      "source": [
        "y_hat[y_hat>=0.5] = 1\n",
        "y_hat[y_hat<0.5] = 0"
      ],
      "metadata": {
        "id": "r7qOaqaKcNOW"
      },
      "execution_count": 220,
      "outputs": []
    },
    {
      "cell_type": "code",
      "source": [
        "print('\\nFor Test Set')\n",
        "f1 = f1_score(y_test, y_hat, average='micro')\n",
        "print('F1 score: ' , f1)\n",
        "\n",
        "accuracy = accuracy_score(y_test, y_hat)\n",
        "print('Accuracy: ' , accuracy)\n",
        "\n",
        "precision = precision_score(y_test, y_hat, average='micro')\n",
        "print('Precision: ' , precision)\n",
        "\n",
        "recall = recall_score(y_test, y_hat, average='micro')\n",
        "print('Recall: ' , recall)\n",
        "\n",
        "matrix = ConfusionMatrixDisplay(confusion_matrix(y_test.argmax(axis=1), y_hat.argmax(axis=1)))\n",
        "print('Confusion Matrix: \\n')\n",
        "matrix.plot()\n",
        "plt.show()"
      ],
      "metadata": {
        "colab": {
          "base_uri": "https://localhost:8080/",
          "height": 425
        },
        "id": "CUg-aVrycDY8",
        "outputId": "a069ff63-2a86-42bb-cf3b-f2fa28aaf242"
      },
      "execution_count": 222,
      "outputs": [
        {
          "output_type": "stream",
          "name": "stdout",
          "text": [
            "\n",
            "For Test Set\n",
            "F1 score:  0.9081332928187987\n",
            "Accuracy:  0.8966\n",
            "Precision:  0.9199671660168274\n",
            "Recall:  0.8966\n",
            "Confusion Matrix: \n",
            "\n"
          ]
        },
        {
          "output_type": "display_data",
          "data": {
            "text/plain": [
              "<Figure size 432x288 with 2 Axes>"
            ],
            "image/png": "[encoded data removed]"
          },
          "metadata": {
            "needs_background": "light"
          }
        }
      ]
    }
  ]
}