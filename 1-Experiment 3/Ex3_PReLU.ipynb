{
  "nbformat": 4,
  "nbformat_minor": 0,
  "metadata": {
    "colab": {
      "provenance": [],
      "toc_visible": true
    },
    "kernelspec": {
      "name": "python3",
      "display_name": "Python 3"
    },
    "language_info": {
      "name": "python"
    },
    "accelerator": "GPU",
    "gpuClass": "standard"
  },
  "cells": [
    {
      "cell_type": "markdown",
      "source": [
        "# Importing the libraries"
      ],
      "metadata": {
        "id": "u63o1hNWDFK4"
      }
    },
    {
      "cell_type": "code",
      "execution_count": 259,
      "metadata": {
        "id": "y4tcghPIAgC4"
      },
      "outputs": [],
      "source": [
        "import cv2\n",
        "import numpy as np\n",
        "import tensorflow as tf\n",
        "from sklearn import preprocessing, model_selection\n",
        "from tensorflow.keras.utils import to_categorical\n",
        "from matplotlib import pyplot as plt\n",
        "from sklearn.preprocessing import StandardScaler\n",
        "from keras.models import Sequential\n",
        "from keras.layers import Dense, Activation, Dropout, BatchNormalization, PReLU \n",
        "from keras import regularizers, optimizers\n",
        "from tensorflow.keras.optimizers import SGD\n",
        "from keras.metrics import categorical_crossentropy\n",
        "from sklearn.metrics import precision_score, recall_score, f1_score, confusion_matrix, accuracy_score, ConfusionMatrixDisplay"
      ]
    },
    {
      "cell_type": "markdown",
      "source": [
        "# Loading and Preprocessing the data"
      ],
      "metadata": {
        "id": "Pdxi3RwHDKz4"
      }
    },
    {
      "cell_type": "code",
      "source": [
        "fashion_mnist = tf.keras.datasets.fashion_mnist\n",
        "(x_train, y_train), (x_test, y_test) = fashion_mnist.load_data()"
      ],
      "metadata": {
        "id": "dEskrJIuBi79"
      },
      "execution_count": 10,
      "outputs": []
    },
    {
      "cell_type": "code",
      "source": [
        "x_val, x_test, y_val, y_test = model_selection.train_test_split(x_test, y_test, test_size=0.5, random_state=42)"
      ],
      "metadata": {
        "id": "iNNsDiOmCZLb"
      },
      "execution_count": 11,
      "outputs": []
    },
    {
      "cell_type": "code",
      "source": [
        "winSize = (28,28)\n",
        "blockSize = (28,28)\n",
        "blockStride = (2,2)\n",
        "cellSize = (4,4)\n",
        "nbins = 9\n",
        "derivAperture = 1\n",
        "winSigma = 4.\n",
        "histogramNormType = 0\n",
        "L2HysThreshold = 0.2\n",
        "gammaCorrection = 0\n",
        "nlevels = 64\n",
        "signedGradients = True\n",
        "\n",
        "hog = cv2.HOGDescriptor(winSize,blockSize,blockStride,\n",
        "cellSize,nbins,derivAperture,\n",
        "winSigma,histogramNormType,L2HysThreshold,\n",
        "gammaCorrection,nlevels, signedGradients)\n"
      ],
      "metadata": {
        "id": "Tls681NlE01F"
      },
      "execution_count": 29,
      "outputs": []
    },
    {
      "cell_type": "code",
      "source": [
        "x_train_hog = np.array([hog.compute(x_train[0])])\n",
        "x_test_hog = np.array([hog.compute(x_test[0])])\n",
        "x_val_hog = np.array([hog.compute(x_val[0])])\n",
        "for i in range(x_train.shape[0]-1):\n",
        "    descriptor = hog.compute(x_train[i+1])\n",
        "    x_train_hog = np.append(x_train_hog, np.array([descriptor]), axis=0)\n",
        "for i in range(x_test.shape[0]-1):\n",
        "    descriptor2 = hog.compute(x_test[i+1])\n",
        "    x_test_hog = np.append(x_test_hog, np.array([descriptor2]), axis=0)\n",
        "for i in range(x_val.shape[0]-1):\n",
        "    descriptor3 = hog.compute(x_val[i+1])\n",
        "    x_val_hog = np.append(x_val_hog, np.array([descriptor3]), axis=0)\n",
        "\n",
        "sc = StandardScaler()\n",
        "x_train_hog = sc.fit_transform(x_train_hog)\n",
        "x_test_hog = sc.transform(x_test_hog)\n",
        "x_val_hog = sc.transform(x_val_hog)"
      ],
      "metadata": {
        "id": "N_5NmiUdKOJq"
      },
      "execution_count": 30,
      "outputs": []
    },
    {
      "cell_type": "code",
      "source": [
        "y_train = to_categorical(y_train)\n",
        "y_test = to_categorical(y_test)\n",
        "y_val = to_categorical(y_val)"
      ],
      "metadata": {
        "id": "AhNHIs9rSDHk"
      },
      "execution_count": 31,
      "outputs": []
    },
    {
      "cell_type": "markdown",
      "source": [
        "# Implementing the model and training it"
      ],
      "metadata": {
        "id": "-czqXwS7S1up"
      }
    },
    {
      "cell_type": "code",
      "source": [
        "model = tf.keras.models.Sequential()\n",
        "model.add(Dense(units=32, kernel_regularizer=regularizers.l2(1e-5)))\n",
        "model.add(BatchNormalization())\n",
        "model.add(PReLU())\n",
        "model.add(Dropout(0.2))\n",
        "model.add(Dense(units=32, kernel_regularizer=regularizers.l2(1e-5)))\n",
        "model.add(BatchNormalization())\n",
        "model.add(PReLU())\n",
        "model.add(Dense(10, activation='softmax'))"
      ],
      "metadata": {
        "id": "jR_gKUt8S6R1"
      },
      "execution_count": 260,
      "outputs": []
    },
    {
      "cell_type": "code",
      "source": [
        "lr_schedule = tf.keras.optimizers.schedules.ExponentialDecay(\n",
        "    0.001,\n",
        "    decay_steps=100000,\n",
        "    decay_rate=0.96,\n",
        "    staircase=True)"
      ],
      "metadata": {
        "id": "tF-Ye9awVH7o"
      },
      "execution_count": 261,
      "outputs": []
    },
    {
      "cell_type": "code",
      "source": [
        "model.compile(SGD(learning_rate=lr_schedule, momentum=0.9), loss='categorical_crossentropy', metrics=['accuracy'])"
      ],
      "metadata": {
        "id": "F8JcUtWuUEnZ"
      },
      "execution_count": 262,
      "outputs": []
    },
    {
      "cell_type": "code",
      "source": [
        "model.summary()"
      ],
      "metadata": {
        "colab": {
          "base_uri": "https://localhost:8080/"
        },
        "id": "k-DZc00hkh7y",
        "outputId": "dbcfd625-297b-4d77-8ef6-a3992aa662bb"
      },
      "execution_count": 266,
      "outputs": [
        {
          "output_type": "stream",
          "name": "stdout",
          "text": [
            "Model: \"sequential_18\"\n",
            "_________________________________________________________________\n",
            " Layer (type)                Output Shape              Param #   \n",
            "=================================================================\n",
            " dense_53 (Dense)            (None, 32)                14144     \n",
            "                                                                 \n",
            " batch_normalization_37 (Bat  (None, 32)               128       \n",
            " chNormalization)                                                \n",
            "                                                                 \n",
            " p_re_lu (PReLU)             (None, 32)                32        \n",
            "                                                                 \n",
            " dropout_19 (Dropout)        (None, 32)                0         \n",
            "                                                                 \n",
            " dense_54 (Dense)            (None, 32)                1056      \n",
            "                                                                 \n",
            " batch_normalization_38 (Bat  (None, 32)               128       \n",
            " chNormalization)                                                \n",
            "                                                                 \n",
            " p_re_lu_1 (PReLU)           (None, 32)                32        \n",
            "                                                                 \n",
            " dense_55 (Dense)            (None, 10)                330       \n",
            "                                                                 \n",
            "=================================================================\n",
            "Total params: 15,850\n",
            "Trainable params: 15,722\n",
            "Non-trainable params: 128\n",
            "_________________________________________________________________\n"
          ]
        }
      ]
    },
    {
      "cell_type": "code",
      "source": [
        "history = model.fit(x_train_hog, y_train, batch_size = 64, epochs = 50, validation_data=(x_val_hog, y_val))"
      ],
      "metadata": {
        "colab": {
          "base_uri": "https://localhost:8080/"
        },
        "id": "bUCeNIeNUQd0",
        "outputId": "5bb3bf34-2214-4a60-9134-150190103d06"
      },
      "execution_count": 263,
      "outputs": [
        {
          "output_type": "stream",
          "name": "stdout",
          "text": [
            "Epoch 1/50\n",
            "938/938 [==============================] - 5s 5ms/step - loss: 1.1522 - accuracy: 0.6480 - val_loss: 0.6488 - val_accuracy: 0.8020\n",
            "Epoch 2/50\n",
            "938/938 [==============================] - 4s 4ms/step - loss: 0.6364 - accuracy: 0.7939 - val_loss: 0.4833 - val_accuracy: 0.8420\n",
            "Epoch 3/50\n",
            "938/938 [==============================] - 4s 5ms/step - loss: 0.5251 - accuracy: 0.8240 - val_loss: 0.4271 - val_accuracy: 0.8502\n",
            "Epoch 4/50\n",
            "938/938 [==============================] - 4s 4ms/step - loss: 0.4749 - accuracy: 0.8369 - val_loss: 0.3962 - val_accuracy: 0.8638\n",
            "Epoch 5/50\n",
            "938/938 [==============================] - 4s 5ms/step - loss: 0.4453 - accuracy: 0.8472 - val_loss: 0.3760 - val_accuracy: 0.8714\n",
            "Epoch 6/50\n",
            "938/938 [==============================] - 4s 4ms/step - loss: 0.4216 - accuracy: 0.8532 - val_loss: 0.3615 - val_accuracy: 0.8756\n",
            "Epoch 7/50\n",
            "938/938 [==============================] - 4s 5ms/step - loss: 0.4045 - accuracy: 0.8585 - val_loss: 0.3501 - val_accuracy: 0.8808\n",
            "Epoch 8/50\n",
            "938/938 [==============================] - 4s 5ms/step - loss: 0.3890 - accuracy: 0.8642 - val_loss: 0.3414 - val_accuracy: 0.8832\n",
            "Epoch 9/50\n",
            "938/938 [==============================] - 4s 5ms/step - loss: 0.3808 - accuracy: 0.8665 - val_loss: 0.3363 - val_accuracy: 0.8838\n",
            "Epoch 10/50\n",
            "938/938 [==============================] - 4s 4ms/step - loss: 0.3709 - accuracy: 0.8705 - val_loss: 0.3303 - val_accuracy: 0.8854\n",
            "Epoch 11/50\n",
            "938/938 [==============================] - 4s 4ms/step - loss: 0.3612 - accuracy: 0.8724 - val_loss: 0.3246 - val_accuracy: 0.8880\n",
            "Epoch 12/50\n",
            "938/938 [==============================] - 4s 5ms/step - loss: 0.3574 - accuracy: 0.8743 - val_loss: 0.3215 - val_accuracy: 0.8864\n",
            "Epoch 13/50\n",
            "938/938 [==============================] - 4s 4ms/step - loss: 0.3488 - accuracy: 0.8775 - val_loss: 0.3166 - val_accuracy: 0.8910\n",
            "Epoch 14/50\n",
            "938/938 [==============================] - 4s 5ms/step - loss: 0.3430 - accuracy: 0.8792 - val_loss: 0.3164 - val_accuracy: 0.8910\n",
            "Epoch 15/50\n",
            "938/938 [==============================] - 4s 4ms/step - loss: 0.3396 - accuracy: 0.8779 - val_loss: 0.3125 - val_accuracy: 0.8946\n",
            "Epoch 16/50\n",
            "938/938 [==============================] - 4s 5ms/step - loss: 0.3339 - accuracy: 0.8819 - val_loss: 0.3078 - val_accuracy: 0.8930\n",
            "Epoch 17/50\n",
            "938/938 [==============================] - 4s 4ms/step - loss: 0.3287 - accuracy: 0.8832 - val_loss: 0.3068 - val_accuracy: 0.8942\n",
            "Epoch 18/50\n",
            "938/938 [==============================] - 4s 4ms/step - loss: 0.3257 - accuracy: 0.8852 - val_loss: 0.3029 - val_accuracy: 0.8950\n",
            "Epoch 19/50\n",
            "938/938 [==============================] - 4s 4ms/step - loss: 0.3213 - accuracy: 0.8869 - val_loss: 0.2990 - val_accuracy: 0.8970\n",
            "Epoch 20/50\n",
            "938/938 [==============================] - 4s 4ms/step - loss: 0.3198 - accuracy: 0.8869 - val_loss: 0.2981 - val_accuracy: 0.8970\n",
            "Epoch 21/50\n",
            "938/938 [==============================] - 4s 4ms/step - loss: 0.3183 - accuracy: 0.8874 - val_loss: 0.2954 - val_accuracy: 0.8954\n",
            "Epoch 22/50\n",
            "938/938 [==============================] - 4s 5ms/step - loss: 0.3111 - accuracy: 0.8912 - val_loss: 0.2938 - val_accuracy: 0.8972\n",
            "Epoch 23/50\n",
            "938/938 [==============================] - 4s 4ms/step - loss: 0.3111 - accuracy: 0.8894 - val_loss: 0.2916 - val_accuracy: 0.8976\n",
            "Epoch 24/50\n",
            "938/938 [==============================] - 4s 4ms/step - loss: 0.3068 - accuracy: 0.8895 - val_loss: 0.2908 - val_accuracy: 0.8984\n",
            "Epoch 25/50\n",
            "938/938 [==============================] - 4s 4ms/step - loss: 0.3048 - accuracy: 0.8914 - val_loss: 0.2881 - val_accuracy: 0.8992\n",
            "Epoch 26/50\n",
            "938/938 [==============================] - 4s 5ms/step - loss: 0.3033 - accuracy: 0.8903 - val_loss: 0.2881 - val_accuracy: 0.8986\n",
            "Epoch 27/50\n",
            "938/938 [==============================] - 5s 5ms/step - loss: 0.3000 - accuracy: 0.8918 - val_loss: 0.2859 - val_accuracy: 0.9002\n",
            "Epoch 28/50\n",
            "938/938 [==============================] - 4s 5ms/step - loss: 0.2972 - accuracy: 0.8938 - val_loss: 0.2859 - val_accuracy: 0.8994\n",
            "Epoch 29/50\n",
            "938/938 [==============================] - 4s 5ms/step - loss: 0.2971 - accuracy: 0.8932 - val_loss: 0.2830 - val_accuracy: 0.8996\n",
            "Epoch 30/50\n",
            "938/938 [==============================] - 4s 5ms/step - loss: 0.2929 - accuracy: 0.8950 - val_loss: 0.2819 - val_accuracy: 0.9012\n",
            "Epoch 31/50\n",
            "938/938 [==============================] - 4s 5ms/step - loss: 0.2922 - accuracy: 0.8945 - val_loss: 0.2810 - val_accuracy: 0.9024\n",
            "Epoch 32/50\n",
            "938/938 [==============================] - 4s 4ms/step - loss: 0.2918 - accuracy: 0.8957 - val_loss: 0.2806 - val_accuracy: 0.9016\n",
            "Epoch 33/50\n",
            "938/938 [==============================] - 4s 5ms/step - loss: 0.2901 - accuracy: 0.8952 - val_loss: 0.2795 - val_accuracy: 0.9032\n",
            "Epoch 34/50\n",
            "938/938 [==============================] - 4s 4ms/step - loss: 0.2887 - accuracy: 0.8972 - val_loss: 0.2778 - val_accuracy: 0.9002\n",
            "Epoch 35/50\n",
            "938/938 [==============================] - 4s 5ms/step - loss: 0.2863 - accuracy: 0.8979 - val_loss: 0.2766 - val_accuracy: 0.9020\n",
            "Epoch 36/50\n",
            "938/938 [==============================] - 4s 4ms/step - loss: 0.2842 - accuracy: 0.8976 - val_loss: 0.2764 - val_accuracy: 0.9020\n",
            "Epoch 37/50\n",
            "938/938 [==============================] - 4s 4ms/step - loss: 0.2845 - accuracy: 0.8971 - val_loss: 0.2741 - val_accuracy: 0.9042\n",
            "Epoch 38/50\n",
            "938/938 [==============================] - 4s 4ms/step - loss: 0.2822 - accuracy: 0.8982 - val_loss: 0.2783 - val_accuracy: 0.9022\n",
            "Epoch 39/50\n",
            "938/938 [==============================] - 4s 4ms/step - loss: 0.2787 - accuracy: 0.8996 - val_loss: 0.2733 - val_accuracy: 0.9034\n",
            "Epoch 40/50\n",
            "938/938 [==============================] - 4s 4ms/step - loss: 0.2818 - accuracy: 0.8998 - val_loss: 0.2722 - val_accuracy: 0.9078\n",
            "Epoch 41/50\n",
            "938/938 [==============================] - 4s 4ms/step - loss: 0.2754 - accuracy: 0.9013 - val_loss: 0.2714 - val_accuracy: 0.9042\n",
            "Epoch 42/50\n",
            "938/938 [==============================] - 4s 4ms/step - loss: 0.2781 - accuracy: 0.9006 - val_loss: 0.2727 - val_accuracy: 0.9030\n",
            "Epoch 43/50\n",
            "938/938 [==============================] - 4s 5ms/step - loss: 0.2757 - accuracy: 0.9008 - val_loss: 0.2720 - val_accuracy: 0.9054\n",
            "Epoch 44/50\n",
            "938/938 [==============================] - 4s 4ms/step - loss: 0.2717 - accuracy: 0.9012 - val_loss: 0.2691 - val_accuracy: 0.9048\n",
            "Epoch 45/50\n",
            "938/938 [==============================] - 4s 4ms/step - loss: 0.2714 - accuracy: 0.9021 - val_loss: 0.2705 - val_accuracy: 0.9058\n",
            "Epoch 46/50\n",
            "938/938 [==============================] - 4s 4ms/step - loss: 0.2682 - accuracy: 0.9028 - val_loss: 0.2692 - val_accuracy: 0.9062\n",
            "Epoch 47/50\n",
            "938/938 [==============================] - 4s 4ms/step - loss: 0.2716 - accuracy: 0.9024 - val_loss: 0.2709 - val_accuracy: 0.9038\n",
            "Epoch 48/50\n",
            "938/938 [==============================] - 4s 4ms/step - loss: 0.2681 - accuracy: 0.9033 - val_loss: 0.2707 - val_accuracy: 0.9080\n",
            "Epoch 49/50\n",
            "938/938 [==============================] - 4s 4ms/step - loss: 0.2674 - accuracy: 0.9028 - val_loss: 0.2685 - val_accuracy: 0.9082\n",
            "Epoch 50/50\n",
            "938/938 [==============================] - 4s 5ms/step - loss: 0.2684 - accuracy: 0.9027 - val_loss: 0.2701 - val_accuracy: 0.9040\n"
          ]
        }
      ]
    },
    {
      "cell_type": "markdown",
      "source": [
        "# Evaluation"
      ],
      "metadata": {
        "id": "J9iLndfoUwW_"
      }
    },
    {
      "cell_type": "code",
      "source": [
        "plt.figure(dpi=160)\n",
        "\n",
        "plt.subplot(231)\n",
        "plt.title('Loss')\n",
        "plt.plot(history.history['loss'], label='train')\n",
        "plt.plot(history.history['val_loss'], label='val')\n",
        "plt.legend()\n",
        "\n",
        "plt.subplot(233)\n",
        "plt.title('Accuracy')\n",
        "plt.plot(history.history['accuracy'], label='train')\n",
        "plt.plot(history.history['val_accuracy'], label='val')\n",
        "plt.legend()\n",
        "plt.show()"
      ],
      "metadata": {
        "colab": {
          "base_uri": "https://localhost:8080/",
          "height": 337
        },
        "id": "6-0ynCwwUy_G",
        "outputId": "fdcf5dd2-1012-4062-8b4a-1aec0e449997"
      },
      "execution_count": 265,
      "outputs": [
        {
          "output_type": "display_data",
          "data": {
            "text/plain": [
              "<Figure size 960x640 with 2 Axes>"
            ],
            "image/png": "[encoded data removed]"
          },
          "metadata": {
            "needs_background": "light"
          }
        }
      ]
    },
    {
      "cell_type": "code",
      "source": [
        "y_hat = model.predict(x_test_hog)"
      ],
      "metadata": {
        "colab": {
          "base_uri": "https://localhost:8080/"
        },
        "id": "HA43bPFFbgql",
        "outputId": "4cb6107d-7f56-4857-8da6-e2c24e953a31"
      },
      "execution_count": 267,
      "outputs": [
        {
          "output_type": "stream",
          "name": "stdout",
          "text": [
            "157/157 [==============================] - 0s 2ms/step\n"
          ]
        }
      ]
    },
    {
      "cell_type": "code",
      "source": [
        "y_hat[y_hat>=0.5] = 1\n",
        "y_hat[y_hat<0.5] = 0"
      ],
      "metadata": {
        "id": "r7qOaqaKcNOW"
      },
      "execution_count": 268,
      "outputs": []
    },
    {
      "cell_type": "code",
      "source": [
        "print('\\nFor Test Set')\n",
        "f1 = f1_score(y_test, y_hat, average='micro')\n",
        "print('F1 score: ' , f1)\n",
        "\n",
        "accuracy = accuracy_score(y_test, y_hat)\n",
        "print('Accuracy: ' , accuracy)\n",
        "\n",
        "precision = precision_score(y_test, y_hat, average='micro')\n",
        "print('Precision: ' , precision)\n",
        "\n",
        "recall = recall_score(y_test, y_hat, average='micro')\n",
        "print('Recall: ' , recall)\n",
        "\n",
        "matrix = ConfusionMatrixDisplay(confusion_matrix(y_test.argmax(axis=1), y_hat.argmax(axis=1)))\n",
        "print('Confusion Matrix: \\n')\n",
        "matrix.plot()\n",
        "plt.show()"
      ],
      "metadata": {
        "colab": {
          "base_uri": "https://localhost:8080/",
          "height": 426
        },
        "id": "CUg-aVrycDY8",
        "outputId": "c9044c5a-d3e6-4adc-bbda-b2aa2043c305"
      },
      "execution_count": 269,
      "outputs": [
        {
          "output_type": "stream",
          "name": "stdout",
          "text": [
            "\n",
            "For Test Set\n",
            "F1 score:  0.9038149350649352\n",
            "Accuracy:  0.8908\n",
            "Precision:  0.9172158154859967\n",
            "Recall:  0.8908\n",
            "Confusion Matrix: \n",
            "\n"
          ]
        },
        {
          "output_type": "display_data",
          "data": {
            "text/plain": [
              "<Figure size 432x288 with 2 Axes>"
            ],
            "image/png": "[encoded data removed]"
          },
          "metadata": {
            "needs_background": "light"
          }
        }
      ]
    }
  ]
}