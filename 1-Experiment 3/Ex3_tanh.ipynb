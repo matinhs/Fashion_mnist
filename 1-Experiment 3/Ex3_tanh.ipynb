{
  "nbformat": 4,
  "nbformat_minor": 0,
  "metadata": {
    "colab": {
      "provenance": [],
      "toc_visible": true
    },
    "kernelspec": {
      "name": "python3",
      "display_name": "Python 3"
    },
    "language_info": {
      "name": "python"
    },
    "accelerator": "GPU",
    "gpuClass": "standard"
  },
  "cells": [
    {
      "cell_type": "markdown",
      "source": [
        "# Importing the libraries"
      ],
      "metadata": {
        "id": "u63o1hNWDFK4"
      }
    },
    {
      "cell_type": "code",
      "execution_count": 239,
      "metadata": {
        "id": "y4tcghPIAgC4"
      },
      "outputs": [],
      "source": [
        "import cv2\n",
        "import numpy as np\n",
        "import tensorflow as tf\n",
        "from sklearn import preprocessing, model_selection\n",
        "from tensorflow.keras.utils import to_categorical\n",
        "from matplotlib import pyplot as plt\n",
        "from sklearn.preprocessing import StandardScaler\n",
        "from keras.models import Sequential\n",
        "from keras.layers import Dense, Activation, Dropout, BatchNormalization, Activation \n",
        "from keras import regularizers, optimizers\n",
        "from tensorflow.keras.optimizers import SGD\n",
        "from keras.metrics import categorical_crossentropy\n",
        "from sklearn.metrics import precision_score, recall_score, f1_score, confusion_matrix, accuracy_score, ConfusionMatrixDisplay"
      ]
    },
    {
      "cell_type": "markdown",
      "source": [
        "# Loading and Preprocessing the data"
      ],
      "metadata": {
        "id": "Pdxi3RwHDKz4"
      }
    },
    {
      "cell_type": "code",
      "source": [
        "fashion_mnist = tf.keras.datasets.fashion_mnist\n",
        "(x_train, y_train), (x_test, y_test) = fashion_mnist.load_data()"
      ],
      "metadata": {
        "id": "dEskrJIuBi79"
      },
      "execution_count": 10,
      "outputs": []
    },
    {
      "cell_type": "code",
      "source": [
        "x_val, x_test, y_val, y_test = model_selection.train_test_split(x_test, y_test, test_size=0.5, random_state=42)"
      ],
      "metadata": {
        "id": "iNNsDiOmCZLb"
      },
      "execution_count": 11,
      "outputs": []
    },
    {
      "cell_type": "code",
      "source": [
        "winSize = (28,28)\n",
        "blockSize = (28,28)\n",
        "blockStride = (2,2)\n",
        "cellSize = (4,4)\n",
        "nbins = 9\n",
        "derivAperture = 1\n",
        "winSigma = 4.\n",
        "histogramNormType = 0\n",
        "L2HysThreshold = 0.2\n",
        "gammaCorrection = 0\n",
        "nlevels = 64\n",
        "signedGradients = True\n",
        "\n",
        "hog = cv2.HOGDescriptor(winSize,blockSize,blockStride,\n",
        "cellSize,nbins,derivAperture,\n",
        "winSigma,histogramNormType,L2HysThreshold,\n",
        "gammaCorrection,nlevels, signedGradients)\n"
      ],
      "metadata": {
        "id": "Tls681NlE01F"
      },
      "execution_count": 29,
      "outputs": []
    },
    {
      "cell_type": "code",
      "source": [
        "x_train_hog = np.array([hog.compute(x_train[0])])\n",
        "x_test_hog = np.array([hog.compute(x_test[0])])\n",
        "x_val_hog = np.array([hog.compute(x_val[0])])\n",
        "for i in range(x_train.shape[0]-1):\n",
        "    descriptor = hog.compute(x_train[i+1])\n",
        "    x_train_hog = np.append(x_train_hog, np.array([descriptor]), axis=0)\n",
        "for i in range(x_test.shape[0]-1):\n",
        "    descriptor2 = hog.compute(x_test[i+1])\n",
        "    x_test_hog = np.append(x_test_hog, np.array([descriptor2]), axis=0)\n",
        "for i in range(x_val.shape[0]-1):\n",
        "    descriptor3 = hog.compute(x_val[i+1])\n",
        "    x_val_hog = np.append(x_val_hog, np.array([descriptor3]), axis=0)\n",
        "\n",
        "sc = StandardScaler()\n",
        "x_train_hog = sc.fit_transform(x_train_hog)\n",
        "x_test_hog = sc.transform(x_test_hog)\n",
        "x_val_hog = sc.transform(x_val_hog)"
      ],
      "metadata": {
        "id": "N_5NmiUdKOJq"
      },
      "execution_count": 30,
      "outputs": []
    },
    {
      "cell_type": "code",
      "source": [
        "y_train = to_categorical(y_train)\n",
        "y_test = to_categorical(y_test)\n",
        "y_val = to_categorical(y_val)"
      ],
      "metadata": {
        "id": "AhNHIs9rSDHk"
      },
      "execution_count": 31,
      "outputs": []
    },
    {
      "cell_type": "markdown",
      "source": [
        "# Implementing the model and training it"
      ],
      "metadata": {
        "id": "-czqXwS7S1up"
      }
    },
    {
      "cell_type": "code",
      "source": [
        "model = tf.keras.models.Sequential()\n",
        "model.add(Dense(units=32, kernel_regularizer=regularizers.l2(1e-5)))\n",
        "model.add(BatchNormalization())\n",
        "model.add(Activation(tf.keras.activations.tanh))\n",
        "model.add(Dropout(0.2))\n",
        "model.add(Dense(units=32, kernel_regularizer=regularizers.l2(1e-5)))\n",
        "model.add(BatchNormalization())\n",
        "model.add(Activation(tf.keras.activations.tanh))\n",
        "model.add(Dense(10, activation='softmax'))"
      ],
      "metadata": {
        "id": "jR_gKUt8S6R1"
      },
      "execution_count": 241,
      "outputs": []
    },
    {
      "cell_type": "code",
      "source": [
        "lr_schedule = tf.keras.optimizers.schedules.ExponentialDecay(\n",
        "    0.001,\n",
        "    decay_steps=100000,\n",
        "    decay_rate=0.96,\n",
        "    staircase=True)"
      ],
      "metadata": {
        "id": "tF-Ye9awVH7o"
      },
      "execution_count": 242,
      "outputs": []
    },
    {
      "cell_type": "code",
      "source": [
        "model.compile(SGD(learning_rate=lr_schedule, momentum=0.9), loss='categorical_crossentropy', metrics=['accuracy'])"
      ],
      "metadata": {
        "id": "F8JcUtWuUEnZ"
      },
      "execution_count": 243,
      "outputs": []
    },
    {
      "cell_type": "code",
      "source": [
        "model.summary()"
      ],
      "metadata": {
        "colab": {
          "base_uri": "https://localhost:8080/"
        },
        "id": "k-DZc00hkh7y",
        "outputId": "9bdef9c0-76d4-4b76-cc6d-b2cdaf4bb19c"
      },
      "execution_count": 246,
      "outputs": [
        {
          "output_type": "stream",
          "name": "stdout",
          "text": [
            "Model: \"sequential_16\"\n",
            "_________________________________________________________________\n",
            " Layer (type)                Output Shape              Param #   \n",
            "=================================================================\n",
            " dense_47 (Dense)            (None, 32)                14144     \n",
            "                                                                 \n",
            " batch_normalization_33 (Bat  (None, 32)               128       \n",
            " chNormalization)                                                \n",
            "                                                                 \n",
            " activation (Activation)     (None, 32)                0         \n",
            "                                                                 \n",
            " dropout_17 (Dropout)        (None, 32)                0         \n",
            "                                                                 \n",
            " dense_48 (Dense)            (None, 32)                1056      \n",
            "                                                                 \n",
            " batch_normalization_34 (Bat  (None, 32)               128       \n",
            " chNormalization)                                                \n",
            "                                                                 \n",
            " activation_1 (Activation)   (None, 32)                0         \n",
            "                                                                 \n",
            " dense_49 (Dense)            (None, 10)                330       \n",
            "                                                                 \n",
            "=================================================================\n",
            "Total params: 15,786\n",
            "Trainable params: 15,658\n",
            "Non-trainable params: 128\n",
            "_________________________________________________________________\n"
          ]
        }
      ]
    },
    {
      "cell_type": "code",
      "source": [
        "history = model.fit(x_train_hog, y_train, batch_size = 64, epochs = 50, validation_data=(x_val_hog, y_val))"
      ],
      "metadata": {
        "colab": {
          "base_uri": "https://localhost:8080/"
        },
        "id": "bUCeNIeNUQd0",
        "outputId": "4431ada9-b97d-4a93-c29a-4d0a8cb0dbb5"
      },
      "execution_count": 245,
      "outputs": [
        {
          "output_type": "stream",
          "name": "stdout",
          "text": [
            "Epoch 1/50\n",
            "938/938 [==============================] - 5s 4ms/step - loss: 0.9428 - accuracy: 0.7145 - val_loss: 0.5781 - val_accuracy: 0.8130\n",
            "Epoch 2/50\n",
            "938/938 [==============================] - 4s 4ms/step - loss: 0.5529 - accuracy: 0.8203 - val_loss: 0.4652 - val_accuracy: 0.8450\n",
            "Epoch 3/50\n",
            "938/938 [==============================] - 4s 4ms/step - loss: 0.4710 - accuracy: 0.8425 - val_loss: 0.4196 - val_accuracy: 0.8590\n",
            "Epoch 4/50\n",
            "938/938 [==============================] - 4s 4ms/step - loss: 0.4321 - accuracy: 0.8546 - val_loss: 0.3926 - val_accuracy: 0.8652\n",
            "Epoch 5/50\n",
            "938/938 [==============================] - 4s 4ms/step - loss: 0.4082 - accuracy: 0.8605 - val_loss: 0.3762 - val_accuracy: 0.8702\n",
            "Epoch 6/50\n",
            "938/938 [==============================] - 4s 4ms/step - loss: 0.3910 - accuracy: 0.8656 - val_loss: 0.3632 - val_accuracy: 0.8728\n",
            "Epoch 7/50\n",
            "938/938 [==============================] - 4s 4ms/step - loss: 0.3768 - accuracy: 0.8702 - val_loss: 0.3536 - val_accuracy: 0.8788\n",
            "Epoch 8/50\n",
            "938/938 [==============================] - 4s 4ms/step - loss: 0.3665 - accuracy: 0.8734 - val_loss: 0.3451 - val_accuracy: 0.8796\n",
            "Epoch 9/50\n",
            "938/938 [==============================] - 4s 4ms/step - loss: 0.3587 - accuracy: 0.8741 - val_loss: 0.3388 - val_accuracy: 0.8802\n",
            "Epoch 10/50\n",
            "938/938 [==============================] - 4s 5ms/step - loss: 0.3531 - accuracy: 0.8767 - val_loss: 0.3334 - val_accuracy: 0.8832\n",
            "Epoch 11/50\n",
            "938/938 [==============================] - 4s 4ms/step - loss: 0.3477 - accuracy: 0.8795 - val_loss: 0.3281 - val_accuracy: 0.8848\n",
            "Epoch 12/50\n",
            "938/938 [==============================] - 4s 5ms/step - loss: 0.3406 - accuracy: 0.8822 - val_loss: 0.3245 - val_accuracy: 0.8862\n",
            "Epoch 13/50\n",
            "938/938 [==============================] - 4s 5ms/step - loss: 0.3358 - accuracy: 0.8826 - val_loss: 0.3208 - val_accuracy: 0.8870\n",
            "Epoch 14/50\n",
            "938/938 [==============================] - 4s 4ms/step - loss: 0.3330 - accuracy: 0.8831 - val_loss: 0.3168 - val_accuracy: 0.8888\n",
            "Epoch 15/50\n",
            "938/938 [==============================] - 4s 4ms/step - loss: 0.3277 - accuracy: 0.8858 - val_loss: 0.3132 - val_accuracy: 0.8900\n",
            "Epoch 16/50\n",
            "938/938 [==============================] - 4s 5ms/step - loss: 0.3229 - accuracy: 0.8878 - val_loss: 0.3107 - val_accuracy: 0.8888\n",
            "Epoch 17/50\n",
            "938/938 [==============================] - 4s 4ms/step - loss: 0.3223 - accuracy: 0.8872 - val_loss: 0.3080 - val_accuracy: 0.8938\n",
            "Epoch 18/50\n",
            "938/938 [==============================] - 4s 4ms/step - loss: 0.3185 - accuracy: 0.8883 - val_loss: 0.3085 - val_accuracy: 0.8884\n",
            "Epoch 19/50\n",
            "938/938 [==============================] - 4s 4ms/step - loss: 0.3160 - accuracy: 0.8886 - val_loss: 0.3034 - val_accuracy: 0.8914\n",
            "Epoch 20/50\n",
            "938/938 [==============================] - 4s 4ms/step - loss: 0.3118 - accuracy: 0.8907 - val_loss: 0.3021 - val_accuracy: 0.8930\n",
            "Epoch 21/50\n",
            "938/938 [==============================] - 4s 4ms/step - loss: 0.3094 - accuracy: 0.8923 - val_loss: 0.3005 - val_accuracy: 0.8950\n",
            "Epoch 22/50\n",
            "938/938 [==============================] - 4s 4ms/step - loss: 0.3073 - accuracy: 0.8924 - val_loss: 0.2987 - val_accuracy: 0.8956\n",
            "Epoch 23/50\n",
            "938/938 [==============================] - 4s 4ms/step - loss: 0.3081 - accuracy: 0.8916 - val_loss: 0.2959 - val_accuracy: 0.8942\n",
            "Epoch 24/50\n",
            "938/938 [==============================] - 4s 4ms/step - loss: 0.3039 - accuracy: 0.8927 - val_loss: 0.2961 - val_accuracy: 0.8932\n",
            "Epoch 25/50\n",
            "938/938 [==============================] - 4s 4ms/step - loss: 0.3016 - accuracy: 0.8932 - val_loss: 0.2940 - val_accuracy: 0.8966\n",
            "Epoch 26/50\n",
            "938/938 [==============================] - 4s 4ms/step - loss: 0.2996 - accuracy: 0.8949 - val_loss: 0.2945 - val_accuracy: 0.8938\n",
            "Epoch 27/50\n",
            "938/938 [==============================] - 4s 4ms/step - loss: 0.2986 - accuracy: 0.8951 - val_loss: 0.2921 - val_accuracy: 0.8952\n",
            "Epoch 28/50\n",
            "938/938 [==============================] - 4s 5ms/step - loss: 0.2977 - accuracy: 0.8952 - val_loss: 0.2917 - val_accuracy: 0.8962\n",
            "Epoch 29/50\n",
            "938/938 [==============================] - 5s 5ms/step - loss: 0.2949 - accuracy: 0.8963 - val_loss: 0.2893 - val_accuracy: 0.8954\n",
            "Epoch 30/50\n",
            "938/938 [==============================] - 4s 4ms/step - loss: 0.2916 - accuracy: 0.8974 - val_loss: 0.2905 - val_accuracy: 0.8964\n",
            "Epoch 31/50\n",
            "938/938 [==============================] - 4s 4ms/step - loss: 0.2932 - accuracy: 0.8957 - val_loss: 0.2880 - val_accuracy: 0.8968\n",
            "Epoch 32/50\n",
            "938/938 [==============================] - 4s 4ms/step - loss: 0.2900 - accuracy: 0.8972 - val_loss: 0.2868 - val_accuracy: 0.8990\n",
            "Epoch 33/50\n",
            "938/938 [==============================] - 4s 4ms/step - loss: 0.2869 - accuracy: 0.8980 - val_loss: 0.2862 - val_accuracy: 0.8978\n",
            "Epoch 34/50\n",
            "938/938 [==============================] - 4s 4ms/step - loss: 0.2883 - accuracy: 0.8979 - val_loss: 0.2885 - val_accuracy: 0.8970\n",
            "Epoch 35/50\n",
            "938/938 [==============================] - 4s 4ms/step - loss: 0.2864 - accuracy: 0.8979 - val_loss: 0.2877 - val_accuracy: 0.8980\n",
            "Epoch 36/50\n",
            "938/938 [==============================] - 4s 4ms/step - loss: 0.2858 - accuracy: 0.8992 - val_loss: 0.2865 - val_accuracy: 0.8998\n",
            "Epoch 37/50\n",
            "938/938 [==============================] - 4s 4ms/step - loss: 0.2859 - accuracy: 0.8988 - val_loss: 0.2859 - val_accuracy: 0.8974\n",
            "Epoch 38/50\n",
            "938/938 [==============================] - 4s 4ms/step - loss: 0.2828 - accuracy: 0.9000 - val_loss: 0.2833 - val_accuracy: 0.8982\n",
            "Epoch 39/50\n",
            "938/938 [==============================] - 4s 4ms/step - loss: 0.2825 - accuracy: 0.8999 - val_loss: 0.2819 - val_accuracy: 0.8992\n",
            "Epoch 40/50\n",
            "938/938 [==============================] - 4s 4ms/step - loss: 0.2817 - accuracy: 0.8997 - val_loss: 0.2817 - val_accuracy: 0.8996\n",
            "Epoch 41/50\n",
            "938/938 [==============================] - 4s 4ms/step - loss: 0.2791 - accuracy: 0.9008 - val_loss: 0.2816 - val_accuracy: 0.8994\n",
            "Epoch 42/50\n",
            "938/938 [==============================] - 4s 4ms/step - loss: 0.2760 - accuracy: 0.9016 - val_loss: 0.2805 - val_accuracy: 0.9002\n",
            "Epoch 43/50\n",
            "938/938 [==============================] - 4s 4ms/step - loss: 0.2800 - accuracy: 0.8997 - val_loss: 0.2802 - val_accuracy: 0.8980\n",
            "Epoch 44/50\n",
            "938/938 [==============================] - 4s 4ms/step - loss: 0.2772 - accuracy: 0.9014 - val_loss: 0.2805 - val_accuracy: 0.8986\n",
            "Epoch 45/50\n",
            "938/938 [==============================] - 4s 4ms/step - loss: 0.2753 - accuracy: 0.9022 - val_loss: 0.2819 - val_accuracy: 0.8974\n",
            "Epoch 46/50\n",
            "938/938 [==============================] - 4s 4ms/step - loss: 0.2764 - accuracy: 0.9004 - val_loss: 0.2797 - val_accuracy: 0.8988\n",
            "Epoch 47/50\n",
            "938/938 [==============================] - 4s 4ms/step - loss: 0.2767 - accuracy: 0.9006 - val_loss: 0.2777 - val_accuracy: 0.9000\n",
            "Epoch 48/50\n",
            "938/938 [==============================] - 4s 4ms/step - loss: 0.2748 - accuracy: 0.9025 - val_loss: 0.2798 - val_accuracy: 0.8998\n",
            "Epoch 49/50\n",
            "938/938 [==============================] - 4s 4ms/step - loss: 0.2726 - accuracy: 0.9031 - val_loss: 0.2811 - val_accuracy: 0.9032\n",
            "Epoch 50/50\n",
            "938/938 [==============================] - 4s 4ms/step - loss: 0.2722 - accuracy: 0.9028 - val_loss: 0.2780 - val_accuracy: 0.9004\n"
          ]
        }
      ]
    },
    {
      "cell_type": "markdown",
      "source": [
        "# Evaluation"
      ],
      "metadata": {
        "id": "J9iLndfoUwW_"
      }
    },
    {
      "cell_type": "code",
      "source": [
        "plt.figure(dpi=160)\n",
        "\n",
        "plt.subplot(231)\n",
        "plt.title('Loss')\n",
        "plt.plot(history.history['loss'], label='train')\n",
        "plt.plot(history.history['val_loss'], label='val')\n",
        "plt.legend()\n",
        "\n",
        "plt.subplot(233)\n",
        "plt.title('Accuracy')\n",
        "plt.plot(history.history['accuracy'], label='train')\n",
        "plt.plot(history.history['val_accuracy'], label='val')\n",
        "plt.legend()\n",
        "plt.show()"
      ],
      "metadata": {
        "colab": {
          "base_uri": "https://localhost:8080/",
          "height": 337
        },
        "id": "6-0ynCwwUy_G",
        "outputId": "b5a01db7-a272-4ae6-c354-3f069d95514b"
      },
      "execution_count": 247,
      "outputs": [
        {
          "output_type": "display_data",
          "data": {
            "text/plain": [
              "<Figure size 960x640 with 2 Axes>"
            ],
            "image/png": "[encoded data removed]"
          },
          "metadata": {
            "needs_background": "light"
          }
        }
      ]
    },
    {
      "cell_type": "code",
      "source": [
        "y_hat = model.predict(x_test_hog)"
      ],
      "metadata": {
        "colab": {
          "base_uri": "https://localhost:8080/"
        },
        "id": "HA43bPFFbgql",
        "outputId": "48c30185-2124-42c5-d1b0-1859aee590a5"
      },
      "execution_count": 248,
      "outputs": [
        {
          "output_type": "stream",
          "name": "stdout",
          "text": [
            "157/157 [==============================] - 1s 3ms/step\n"
          ]
        }
      ]
    },
    {
      "cell_type": "code",
      "source": [
        "y_hat[y_hat>=0.5] = 1\n",
        "y_hat[y_hat<0.5] = 0"
      ],
      "metadata": {
        "id": "r7qOaqaKcNOW"
      },
      "execution_count": 249,
      "outputs": []
    },
    {
      "cell_type": "code",
      "source": [
        "print('\\nFor Test Set')\n",
        "f1 = f1_score(y_test, y_hat, average='micro')\n",
        "print('F1 score: ' , f1)\n",
        "\n",
        "accuracy = accuracy_score(y_test, y_hat)\n",
        "print('Accuracy: ' , accuracy)\n",
        "\n",
        "precision = precision_score(y_test, y_hat, average='micro')\n",
        "print('Precision: ' , precision)\n",
        "\n",
        "recall = recall_score(y_test, y_hat, average='micro')\n",
        "print('Recall: ' , recall)\n",
        "\n",
        "matrix = ConfusionMatrixDisplay(confusion_matrix(y_test.argmax(axis=1), y_hat.argmax(axis=1)))\n",
        "print('Confusion Matrix: \\n')\n",
        "matrix.plot()\n",
        "plt.show()"
      ],
      "metadata": {
        "colab": {
          "base_uri": "https://localhost:8080/",
          "height": 428
        },
        "id": "CUg-aVrycDY8",
        "outputId": "38645974-552d-463c-97aa-02f72408e652"
      },
      "execution_count": 250,
      "outputs": [
        {
          "output_type": "stream",
          "name": "stdout",
          "text": [
            "\n",
            "For Test Set\n",
            "F1 score:  0.8999493157627978\n",
            "Accuracy:  0.8878\n",
            "Precision:  0.9124357656731757\n",
            "Recall:  0.8878\n",
            "Confusion Matrix: \n",
            "\n"
          ]
        },
        {
          "output_type": "display_data",
          "data": {
            "text/plain": [
              "<Figure size 432x288 with 2 Axes>"
            ],
            "image/png": "[encoded data removed]"
          },
          "metadata": {
            "needs_background": "light"
          }
        }
      ]
    }
  ]
}