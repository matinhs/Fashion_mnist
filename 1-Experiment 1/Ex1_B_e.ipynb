{
  "nbformat": 4,
  "nbformat_minor": 0,
  "metadata": {
    "colab": {
      "provenance": [],
      "toc_visible": true
    },
    "kernelspec": {
      "name": "python3",
      "display_name": "Python 3"
    },
    "language_info": {
      "name": "python"
    },
    "accelerator": "GPU",
    "gpuClass": "standard"
  },
  "cells": [
    {
      "cell_type": "markdown",
      "source": [
        "# Importing the libraries"
      ],
      "metadata": {
        "id": "u63o1hNWDFK4"
      }
    },
    {
      "cell_type": "code",
      "execution_count": 121,
      "metadata": {
        "id": "y4tcghPIAgC4"
      },
      "outputs": [],
      "source": [
        "import cv2\n",
        "import numpy as np\n",
        "import tensorflow as tf\n",
        "from sklearn import preprocessing, model_selection\n",
        "from tensorflow.keras.utils import to_categorical\n",
        "from matplotlib import pyplot as plt\n",
        "from sklearn.preprocessing import StandardScaler\n",
        "from keras.models import Sequential\n",
        "from keras.layers import Dense, Activation, Dropout, BatchNormalization, ReLU\n",
        "from keras import regularizers, optimizers\n",
        "from tensorflow.keras.optimizers import Adam\n",
        "from keras.metrics import categorical_crossentropy\n",
        "from sklearn.metrics import precision_score, recall_score, f1_score, confusion_matrix, accuracy_score, ConfusionMatrixDisplay"
      ]
    },
    {
      "cell_type": "markdown",
      "source": [
        "# Loading and Preprocessing the data"
      ],
      "metadata": {
        "id": "Pdxi3RwHDKz4"
      }
    },
    {
      "cell_type": "code",
      "source": [
        "fashion_mnist = tf.keras.datasets.fashion_mnist\n",
        "(x_train, y_train), (x_test, y_test) = fashion_mnist.load_data()"
      ],
      "metadata": {
        "id": "dEskrJIuBi79"
      },
      "execution_count": 10,
      "outputs": []
    },
    {
      "cell_type": "code",
      "source": [
        "x_val, x_test, y_val, y_test = model_selection.train_test_split(x_test, y_test, test_size=0.5, random_state=42)"
      ],
      "metadata": {
        "id": "iNNsDiOmCZLb"
      },
      "execution_count": 11,
      "outputs": []
    },
    {
      "cell_type": "code",
      "source": [
        "winSize = (28,28)\n",
        "blockSize = (28,28)\n",
        "blockStride = (2,2)\n",
        "cellSize = (4,4)\n",
        "nbins = 9\n",
        "derivAperture = 1\n",
        "winSigma = 4.\n",
        "histogramNormType = 0\n",
        "L2HysThreshold = 0.2\n",
        "gammaCorrection = 0\n",
        "nlevels = 64\n",
        "signedGradients = True\n",
        "\n",
        "hog = cv2.HOGDescriptor(winSize,blockSize,blockStride,\n",
        "cellSize,nbins,derivAperture,\n",
        "winSigma,histogramNormType,L2HysThreshold,\n",
        "gammaCorrection,nlevels, signedGradients)\n"
      ],
      "metadata": {
        "id": "Tls681NlE01F"
      },
      "execution_count": 29,
      "outputs": []
    },
    {
      "cell_type": "code",
      "source": [
        "x_train_hog = np.array([hog.compute(x_train[0])])\n",
        "x_test_hog = np.array([hog.compute(x_test[0])])\n",
        "x_val_hog = np.array([hog.compute(x_val[0])])\n",
        "for i in range(x_train.shape[0]-1):\n",
        "    descriptor = hog.compute(x_train[i+1])\n",
        "    x_train_hog = np.append(x_train_hog, np.array([descriptor]), axis=0)\n",
        "for i in range(x_test.shape[0]-1):\n",
        "    descriptor2 = hog.compute(x_test[i+1])\n",
        "    x_test_hog = np.append(x_test_hog, np.array([descriptor2]), axis=0)\n",
        "for i in range(x_val.shape[0]-1):\n",
        "    descriptor3 = hog.compute(x_val[i+1])\n",
        "    x_val_hog = np.append(x_val_hog, np.array([descriptor3]), axis=0)\n",
        "\n",
        "sc = StandardScaler()\n",
        "x_train_hog = sc.fit_transform(x_train_hog)\n",
        "x_test_hog = sc.transform(x_test_hog)\n",
        "x_val_hog = sc.transform(x_val_hog)"
      ],
      "metadata": {
        "id": "N_5NmiUdKOJq"
      },
      "execution_count": 30,
      "outputs": []
    },
    {
      "cell_type": "code",
      "source": [
        "y_train = to_categorical(y_train)\n",
        "y_test = to_categorical(y_test)\n",
        "y_val = to_categorical(y_val)"
      ],
      "metadata": {
        "id": "AhNHIs9rSDHk"
      },
      "execution_count": 31,
      "outputs": []
    },
    {
      "cell_type": "markdown",
      "source": [
        "# Implementing the model and training it"
      ],
      "metadata": {
        "id": "-czqXwS7S1up"
      }
    },
    {
      "cell_type": "code",
      "source": [
        "model = tf.keras.models.Sequential()\n",
        "model.add(Dense(units=32, kernel_regularizer=regularizers.l2(1e-4)))\n",
        "model.add(BatchNormalization())\n",
        "model.add(ReLU())\n",
        "model.add(Dropout(0.2))\n",
        "model.add(Dense(units=32, kernel_regularizer=regularizers.l2(1e-4)))\n",
        "model.add(BatchNormalization())\n",
        "model.add(ReLU())\n",
        "model.add(Dropout(0.2))\n",
        "model.add(Dense(units=32, kernel_regularizer=regularizers.l2(1e-4)))\n",
        "model.add(BatchNormalization())\n",
        "model.add(ReLU())\n",
        "model.add(Dropout(0.3))\n",
        "model.add(Dense(units=32, kernel_regularizer=regularizers.l2(1e-4)))\n",
        "model.add(BatchNormalization())\n",
        "model.add(ReLU())\n",
        "model.add(Dropout(0.3))\n",
        "model.add(Dense(units=32, kernel_regularizer=regularizers.l2(1e-4)))\n",
        "model.add(BatchNormalization())\n",
        "model.add(ReLU())\n",
        "model.add(Dense(10, activation='softmax'))"
      ],
      "metadata": {
        "id": "jR_gKUt8S6R1"
      },
      "execution_count": 161,
      "outputs": []
    },
    {
      "cell_type": "code",
      "source": [
        "lr_schedule = tf.keras.optimizers.schedules.ExponentialDecay(\n",
        "    0.001,\n",
        "    decay_steps=100000,\n",
        "    decay_rate=0.96,\n",
        "    staircase=True)"
      ],
      "metadata": {
        "id": "tF-Ye9awVH7o"
      },
      "execution_count": 162,
      "outputs": []
    },
    {
      "cell_type": "code",
      "source": [
        "model.compile(Adam(learning_rate=lr_schedule), loss='categorical_crossentropy', metrics=['accuracy'])"
      ],
      "metadata": {
        "id": "F8JcUtWuUEnZ"
      },
      "execution_count": 163,
      "outputs": []
    },
    {
      "cell_type": "code",
      "source": [
        "model.summary()"
      ],
      "metadata": {
        "colab": {
          "base_uri": "https://localhost:8080/"
        },
        "id": "k-DZc00hkh7y",
        "outputId": "de7b4eff-2c3c-44ef-8643-db30ac12f70e"
      },
      "execution_count": 170,
      "outputs": [
        {
          "output_type": "stream",
          "name": "stdout",
          "text": [
            "Model: \"sequential_9\"\n",
            "_________________________________________________________________\n",
            " Layer (type)                Output Shape              Param #   \n",
            "=================================================================\n",
            " dense_26 (Dense)            (None, 32)                14144     \n",
            "                                                                 \n",
            " batch_normalization_17 (Bat  (None, 32)               128       \n",
            " chNormalization)                                                \n",
            "                                                                 \n",
            " re_lu_12 (ReLU)             (None, 32)                0         \n",
            "                                                                 \n",
            " dropout_8 (Dropout)         (None, 32)                0         \n",
            "                                                                 \n",
            " dense_27 (Dense)            (None, 32)                1056      \n",
            "                                                                 \n",
            " batch_normalization_18 (Bat  (None, 32)               128       \n",
            " chNormalization)                                                \n",
            "                                                                 \n",
            " re_lu_13 (ReLU)             (None, 32)                0         \n",
            "                                                                 \n",
            " dropout_9 (Dropout)         (None, 32)                0         \n",
            "                                                                 \n",
            " dense_28 (Dense)            (None, 32)                1056      \n",
            "                                                                 \n",
            " batch_normalization_19 (Bat  (None, 32)               128       \n",
            " chNormalization)                                                \n",
            "                                                                 \n",
            " re_lu_14 (ReLU)             (None, 32)                0         \n",
            "                                                                 \n",
            " dropout_10 (Dropout)        (None, 32)                0         \n",
            "                                                                 \n",
            " dense_29 (Dense)            (None, 32)                1056      \n",
            "                                                                 \n",
            " batch_normalization_20 (Bat  (None, 32)               128       \n",
            " chNormalization)                                                \n",
            "                                                                 \n",
            " re_lu_15 (ReLU)             (None, 32)                0         \n",
            "                                                                 \n",
            " dropout_11 (Dropout)        (None, 32)                0         \n",
            "                                                                 \n",
            " dense_30 (Dense)            (None, 32)                1056      \n",
            "                                                                 \n",
            " batch_normalization_21 (Bat  (None, 32)               128       \n",
            " chNormalization)                                                \n",
            "                                                                 \n",
            " re_lu_16 (ReLU)             (None, 32)                0         \n",
            "                                                                 \n",
            " dense_31 (Dense)            (None, 10)                330       \n",
            "                                                                 \n",
            "=================================================================\n",
            "Total params: 19,338\n",
            "Trainable params: 19,018\n",
            "Non-trainable params: 320\n",
            "_________________________________________________________________\n"
          ]
        }
      ]
    },
    {
      "cell_type": "code",
      "source": [
        "history = model.fit(x_train_hog, y_train, batch_size = 64, epochs = 50, validation_data=(x_val_hog, y_val))"
      ],
      "metadata": {
        "colab": {
          "base_uri": "https://localhost:8080/"
        },
        "id": "bUCeNIeNUQd0",
        "outputId": "cb09ba89-ab54-4cdd-fedf-bdc382833baf"
      },
      "execution_count": 165,
      "outputs": [
        {
          "output_type": "stream",
          "name": "stdout",
          "text": [
            "Epoch 1/50\n",
            "938/938 [==============================] - 9s 8ms/step - loss: 1.1364 - accuracy: 0.6198 - val_loss: 0.5073 - val_accuracy: 0.8150\n",
            "Epoch 2/50\n",
            "938/938 [==============================] - 8s 8ms/step - loss: 0.6882 - accuracy: 0.7728 - val_loss: 0.4521 - val_accuracy: 0.8542\n",
            "Epoch 3/50\n",
            "938/938 [==============================] - 6s 7ms/step - loss: 0.6105 - accuracy: 0.8065 - val_loss: 0.4155 - val_accuracy: 0.8686\n",
            "Epoch 4/50\n",
            "938/938 [==============================] - 6s 7ms/step - loss: 0.5760 - accuracy: 0.8208 - val_loss: 0.4080 - val_accuracy: 0.8772\n",
            "Epoch 5/50\n",
            "938/938 [==============================] - 6s 7ms/step - loss: 0.5512 - accuracy: 0.8317 - val_loss: 0.3869 - val_accuracy: 0.8786\n",
            "Epoch 6/50\n",
            "938/938 [==============================] - 6s 7ms/step - loss: 0.5267 - accuracy: 0.8424 - val_loss: 0.3858 - val_accuracy: 0.8840\n",
            "Epoch 7/50\n",
            "938/938 [==============================] - 6s 7ms/step - loss: 0.5154 - accuracy: 0.8459 - val_loss: 0.3752 - val_accuracy: 0.8898\n",
            "Epoch 8/50\n",
            "938/938 [==============================] - 7s 7ms/step - loss: 0.5004 - accuracy: 0.8504 - val_loss: 0.3673 - val_accuracy: 0.8906\n",
            "Epoch 9/50\n",
            "938/938 [==============================] - 7s 7ms/step - loss: 0.4982 - accuracy: 0.8529 - val_loss: 0.3718 - val_accuracy: 0.8898\n",
            "Epoch 10/50\n",
            "938/938 [==============================] - 6s 7ms/step - loss: 0.4867 - accuracy: 0.8570 - val_loss: 0.3665 - val_accuracy: 0.8922\n",
            "Epoch 11/50\n",
            "938/938 [==============================] - 6s 7ms/step - loss: 0.4871 - accuracy: 0.8563 - val_loss: 0.3591 - val_accuracy: 0.8926\n",
            "Epoch 12/50\n",
            "938/938 [==============================] - 6s 7ms/step - loss: 0.4847 - accuracy: 0.8597 - val_loss: 0.3672 - val_accuracy: 0.8938\n",
            "Epoch 13/50\n",
            "938/938 [==============================] - 6s 7ms/step - loss: 0.4776 - accuracy: 0.8617 - val_loss: 0.3577 - val_accuracy: 0.8968\n",
            "Epoch 14/50\n",
            "938/938 [==============================] - 7s 7ms/step - loss: 0.4714 - accuracy: 0.8620 - val_loss: 0.3533 - val_accuracy: 0.8944\n",
            "Epoch 15/50\n",
            "938/938 [==============================] - 6s 7ms/step - loss: 0.4670 - accuracy: 0.8634 - val_loss: 0.3525 - val_accuracy: 0.8958\n",
            "Epoch 16/50\n",
            "938/938 [==============================] - 6s 7ms/step - loss: 0.4654 - accuracy: 0.8634 - val_loss: 0.3542 - val_accuracy: 0.8974\n",
            "Epoch 17/50\n",
            "938/938 [==============================] - 6s 7ms/step - loss: 0.4685 - accuracy: 0.8645 - val_loss: 0.3516 - val_accuracy: 0.9002\n",
            "Epoch 18/50\n",
            "938/938 [==============================] - 6s 7ms/step - loss: 0.4672 - accuracy: 0.8651 - val_loss: 0.3496 - val_accuracy: 0.8992\n",
            "Epoch 19/50\n",
            "938/938 [==============================] - 6s 7ms/step - loss: 0.4605 - accuracy: 0.8659 - val_loss: 0.3578 - val_accuracy: 0.8938\n",
            "Epoch 20/50\n",
            "938/938 [==============================] - 6s 7ms/step - loss: 0.4612 - accuracy: 0.8657 - val_loss: 0.3463 - val_accuracy: 0.8988\n",
            "Epoch 21/50\n",
            "938/938 [==============================] - 6s 7ms/step - loss: 0.4563 - accuracy: 0.8669 - val_loss: 0.3570 - val_accuracy: 0.8994\n",
            "Epoch 22/50\n",
            "938/938 [==============================] - 7s 7ms/step - loss: 0.4543 - accuracy: 0.8699 - val_loss: 0.3501 - val_accuracy: 0.9000\n",
            "Epoch 23/50\n",
            "938/938 [==============================] - 6s 7ms/step - loss: 0.4489 - accuracy: 0.8698 - val_loss: 0.3465 - val_accuracy: 0.9004\n",
            "Epoch 24/50\n",
            "938/938 [==============================] - 8s 8ms/step - loss: 0.4520 - accuracy: 0.8687 - val_loss: 0.3428 - val_accuracy: 0.9006\n",
            "Epoch 25/50\n",
            "938/938 [==============================] - 7s 7ms/step - loss: 0.4486 - accuracy: 0.8694 - val_loss: 0.3591 - val_accuracy: 0.8982\n",
            "Epoch 26/50\n",
            "938/938 [==============================] - 6s 7ms/step - loss: 0.4499 - accuracy: 0.8706 - val_loss: 0.3486 - val_accuracy: 0.9014\n",
            "Epoch 27/50\n",
            "938/938 [==============================] - 6s 7ms/step - loss: 0.4521 - accuracy: 0.8696 - val_loss: 0.3484 - val_accuracy: 0.8992\n",
            "Epoch 28/50\n",
            "938/938 [==============================] - 6s 7ms/step - loss: 0.4452 - accuracy: 0.8708 - val_loss: 0.3558 - val_accuracy: 0.8968\n",
            "Epoch 29/50\n",
            "938/938 [==============================] - 6s 7ms/step - loss: 0.4457 - accuracy: 0.8718 - val_loss: 0.3537 - val_accuracy: 0.8998\n",
            "Epoch 30/50\n",
            "938/938 [==============================] - 6s 7ms/step - loss: 0.4436 - accuracy: 0.8732 - val_loss: 0.3572 - val_accuracy: 0.9004\n",
            "Epoch 31/50\n",
            "938/938 [==============================] - 6s 7ms/step - loss: 0.4426 - accuracy: 0.8720 - val_loss: 0.3532 - val_accuracy: 0.9016\n",
            "Epoch 32/50\n",
            "938/938 [==============================] - 7s 7ms/step - loss: 0.4424 - accuracy: 0.8722 - val_loss: 0.3521 - val_accuracy: 0.9012\n",
            "Epoch 33/50\n",
            "938/938 [==============================] - 6s 7ms/step - loss: 0.4412 - accuracy: 0.8726 - val_loss: 0.3556 - val_accuracy: 0.8978\n",
            "Epoch 34/50\n",
            "938/938 [==============================] - 6s 7ms/step - loss: 0.4404 - accuracy: 0.8752 - val_loss: 0.3449 - val_accuracy: 0.9034\n",
            "Epoch 35/50\n",
            "938/938 [==============================] - 6s 7ms/step - loss: 0.4358 - accuracy: 0.8769 - val_loss: 0.3527 - val_accuracy: 0.9016\n",
            "Epoch 36/50\n",
            "938/938 [==============================] - 6s 7ms/step - loss: 0.4397 - accuracy: 0.8739 - val_loss: 0.3569 - val_accuracy: 0.8994\n",
            "Epoch 37/50\n",
            "938/938 [==============================] - 6s 7ms/step - loss: 0.4425 - accuracy: 0.8725 - val_loss: 0.3530 - val_accuracy: 0.9000\n",
            "Epoch 38/50\n",
            "938/938 [==============================] - 6s 7ms/step - loss: 0.4376 - accuracy: 0.8729 - val_loss: 0.3468 - val_accuracy: 0.9020\n",
            "Epoch 39/50\n",
            "938/938 [==============================] - 6s 7ms/step - loss: 0.4400 - accuracy: 0.8727 - val_loss: 0.3525 - val_accuracy: 0.8988\n",
            "Epoch 40/50\n",
            "938/938 [==============================] - 7s 7ms/step - loss: 0.4334 - accuracy: 0.8766 - val_loss: 0.3490 - val_accuracy: 0.8994\n",
            "Epoch 41/50\n",
            "938/938 [==============================] - 6s 7ms/step - loss: 0.4399 - accuracy: 0.8746 - val_loss: 0.3554 - val_accuracy: 0.8998\n",
            "Epoch 42/50\n",
            "938/938 [==============================] - 7s 7ms/step - loss: 0.4352 - accuracy: 0.8748 - val_loss: 0.3511 - val_accuracy: 0.9018\n",
            "Epoch 43/50\n",
            "938/938 [==============================] - 6s 7ms/step - loss: 0.4356 - accuracy: 0.8739 - val_loss: 0.3499 - val_accuracy: 0.8974\n",
            "Epoch 44/50\n",
            "938/938 [==============================] - 7s 7ms/step - loss: 0.4351 - accuracy: 0.8763 - val_loss: 0.3523 - val_accuracy: 0.9002\n",
            "Epoch 45/50\n",
            "938/938 [==============================] - 7s 7ms/step - loss: 0.4366 - accuracy: 0.8755 - val_loss: 0.3516 - val_accuracy: 0.9014\n",
            "Epoch 46/50\n",
            "938/938 [==============================] - 8s 8ms/step - loss: 0.4350 - accuracy: 0.8758 - val_loss: 0.3516 - val_accuracy: 0.8996\n",
            "Epoch 47/50\n",
            "938/938 [==============================] - 6s 7ms/step - loss: 0.4349 - accuracy: 0.8770 - val_loss: 0.3447 - val_accuracy: 0.9026\n",
            "Epoch 48/50\n",
            "938/938 [==============================] - 6s 7ms/step - loss: 0.4320 - accuracy: 0.8771 - val_loss: 0.3535 - val_accuracy: 0.9000\n",
            "Epoch 49/50\n",
            "938/938 [==============================] - 6s 7ms/step - loss: 0.4336 - accuracy: 0.8764 - val_loss: 0.3547 - val_accuracy: 0.9004\n",
            "Epoch 50/50\n",
            "938/938 [==============================] - 6s 7ms/step - loss: 0.4345 - accuracy: 0.8770 - val_loss: 0.3516 - val_accuracy: 0.9044\n"
          ]
        }
      ]
    },
    {
      "cell_type": "markdown",
      "source": [
        "# Evaluation"
      ],
      "metadata": {
        "id": "J9iLndfoUwW_"
      }
    },
    {
      "cell_type": "code",
      "source": [
        "plt.figure(dpi=160)\n",
        "\n",
        "plt.subplot(231)\n",
        "plt.title('Loss')\n",
        "plt.plot(history.history['loss'], label='train')\n",
        "plt.plot(history.history['val_loss'], label='val')\n",
        "plt.legend()\n",
        "\n",
        "plt.subplot(233)\n",
        "plt.title('Accuracy')\n",
        "plt.plot(history.history['accuracy'], label='train')\n",
        "plt.plot(history.history['val_accuracy'], label='val')\n",
        "plt.legend()\n",
        "plt.show()"
      ],
      "metadata": {
        "colab": {
          "base_uri": "https://localhost:8080/",
          "height": 337
        },
        "id": "6-0ynCwwUy_G",
        "outputId": "01ddca77-d9db-410b-bf3f-4098b0d05cdb"
      },
      "execution_count": 166,
      "outputs": [
        {
          "output_type": "display_data",
          "data": {
            "text/plain": [
              "<Figure size 960x640 with 2 Axes>"
            ],
            "image/png": "[encoded data removed]"
          },
          "metadata": {
            "needs_background": "light"
          }
        }
      ]
    },
    {
      "cell_type": "code",
      "source": [
        "y_hat = model.predict(x_test_hog)"
      ],
      "metadata": {
        "colab": {
          "base_uri": "https://localhost:8080/"
        },
        "id": "HA43bPFFbgql",
        "outputId": "9a4d84b0-592e-4f2f-9d4a-4ecdadf7dffd"
      },
      "execution_count": 167,
      "outputs": [
        {
          "output_type": "stream",
          "name": "stdout",
          "text": [
            "157/157 [==============================] - 0s 2ms/step\n"
          ]
        }
      ]
    },
    {
      "cell_type": "code",
      "source": [
        "y_hat[y_hat>=0.5] = 1\n",
        "y_hat[y_hat<0.5] = 0"
      ],
      "metadata": {
        "id": "r7qOaqaKcNOW"
      },
      "execution_count": 168,
      "outputs": []
    },
    {
      "cell_type": "code",
      "source": [
        "print('\\nFor Test Set')\n",
        "f1 = f1_score(y_test, y_hat, average='micro')\n",
        "print('F1 score: ' , f1)\n",
        "\n",
        "accuracy = accuracy_score(y_test, y_hat)\n",
        "print('Accuracy: ' , accuracy)\n",
        "\n",
        "precision = precision_score(y_test, y_hat, average='micro')\n",
        "print('Precision: ' , precision)\n",
        "\n",
        "recall = recall_score(y_test, y_hat, average='micro')\n",
        "print('Recall: ' , recall)\n",
        "\n",
        "matrix = ConfusionMatrixDisplay(confusion_matrix(y_test.argmax(axis=1), y_hat.argmax(axis=1)))\n",
        "print('Confusion Matrix: \\n')\n",
        "matrix.plot()\n",
        "plt.show()"
      ],
      "metadata": {
        "colab": {
          "base_uri": "https://localhost:8080/",
          "height": 425
        },
        "id": "CUg-aVrycDY8",
        "outputId": "edade3f3-d8f0-44fb-d09f-7271d9c1f524"
      },
      "execution_count": 169,
      "outputs": [
        {
          "output_type": "stream",
          "name": "stdout",
          "text": [
            "\n",
            "For Test Set\n",
            "F1 score:  0.900679719995942\n",
            "Accuracy:  0.8878\n",
            "Precision:  0.9139386452542722\n",
            "Recall:  0.8878\n",
            "Confusion Matrix: \n",
            "\n"
          ]
        },
        {
          "output_type": "display_data",
          "data": {
            "text/plain": [
              "<Figure size 432x288 with 2 Axes>"
            ],
            "image/png": "[encoded data removed]"
          },
          "metadata": {
            "needs_background": "light"
          }
        }
      ]
    }
  ]
}