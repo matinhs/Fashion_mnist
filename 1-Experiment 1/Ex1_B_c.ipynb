{
  "nbformat": 4,
  "nbformat_minor": 0,
  "metadata": {
    "colab": {
      "provenance": [],
      "toc_visible": true
    },
    "kernelspec": {
      "name": "python3",
      "display_name": "Python 3"
    },
    "language_info": {
      "name": "python"
    },
    "accelerator": "GPU",
    "gpuClass": "standard"
  },
  "cells": [
    {
      "cell_type": "markdown",
      "source": [
        "# Importing the libraries"
      ],
      "metadata": {
        "id": "u63o1hNWDFK4"
      }
    },
    {
      "cell_type": "code",
      "execution_count": 121,
      "metadata": {
        "id": "y4tcghPIAgC4"
      },
      "outputs": [],
      "source": [
        "import cv2\n",
        "import numpy as np\n",
        "import tensorflow as tf\n",
        "from sklearn import preprocessing, model_selection\n",
        "from tensorflow.keras.utils import to_categorical\n",
        "from matplotlib import pyplot as plt\n",
        "from sklearn.preprocessing import StandardScaler\n",
        "from keras.models import Sequential\n",
        "from keras.layers import Dense, Activation, Dropout, BatchNormalization, ReLU\n",
        "from keras import regularizers, optimizers\n",
        "from tensorflow.keras.optimizers import Adam\n",
        "from keras.metrics import categorical_crossentropy\n",
        "from sklearn.metrics import precision_score, recall_score, f1_score, confusion_matrix, accuracy_score, ConfusionMatrixDisplay"
      ]
    },
    {
      "cell_type": "markdown",
      "source": [
        "# Loading and Preprocessing the data"
      ],
      "metadata": {
        "id": "Pdxi3RwHDKz4"
      }
    },
    {
      "cell_type": "code",
      "source": [
        "fashion_mnist = tf.keras.datasets.fashion_mnist\n",
        "(x_train, y_train), (x_test, y_test) = fashion_mnist.load_data()"
      ],
      "metadata": {
        "id": "dEskrJIuBi79"
      },
      "execution_count": 10,
      "outputs": []
    },
    {
      "cell_type": "code",
      "source": [
        "x_val, x_test, y_val, y_test = model_selection.train_test_split(x_test, y_test, test_size=0.5, random_state=42)"
      ],
      "metadata": {
        "id": "iNNsDiOmCZLb"
      },
      "execution_count": 11,
      "outputs": []
    },
    {
      "cell_type": "code",
      "source": [
        "winSize = (28,28)\n",
        "blockSize = (28,28)\n",
        "blockStride = (2,2)\n",
        "cellSize = (4,4)\n",
        "nbins = 9\n",
        "derivAperture = 1\n",
        "winSigma = 4.\n",
        "histogramNormType = 0\n",
        "L2HysThreshold = 0.2\n",
        "gammaCorrection = 0\n",
        "nlevels = 64\n",
        "signedGradients = True\n",
        "\n",
        "hog = cv2.HOGDescriptor(winSize,blockSize,blockStride,\n",
        "cellSize,nbins,derivAperture,\n",
        "winSigma,histogramNormType,L2HysThreshold,\n",
        "gammaCorrection,nlevels, signedGradients)\n"
      ],
      "metadata": {
        "id": "Tls681NlE01F"
      },
      "execution_count": 29,
      "outputs": []
    },
    {
      "cell_type": "code",
      "source": [
        "x_train_hog = np.array([hog.compute(x_train[0])])\n",
        "x_test_hog = np.array([hog.compute(x_test[0])])\n",
        "x_val_hog = np.array([hog.compute(x_val[0])])\n",
        "for i in range(x_train.shape[0]-1):\n",
        "    descriptor = hog.compute(x_train[i+1])\n",
        "    x_train_hog = np.append(x_train_hog, np.array([descriptor]), axis=0)\n",
        "for i in range(x_test.shape[0]-1):\n",
        "    descriptor2 = hog.compute(x_test[i+1])\n",
        "    x_test_hog = np.append(x_test_hog, np.array([descriptor2]), axis=0)\n",
        "for i in range(x_val.shape[0]-1):\n",
        "    descriptor3 = hog.compute(x_val[i+1])\n",
        "    x_val_hog = np.append(x_val_hog, np.array([descriptor3]), axis=0)\n",
        "\n",
        "sc = StandardScaler()\n",
        "x_train_hog = sc.fit_transform(x_train_hog)\n",
        "x_test_hog = sc.transform(x_test_hog)\n",
        "x_val_hog = sc.transform(x_val_hog)"
      ],
      "metadata": {
        "id": "N_5NmiUdKOJq"
      },
      "execution_count": 30,
      "outputs": []
    },
    {
      "cell_type": "code",
      "source": [
        "y_train = to_categorical(y_train)\n",
        "y_test = to_categorical(y_test)\n",
        "y_val = to_categorical(y_val)"
      ],
      "metadata": {
        "id": "AhNHIs9rSDHk"
      },
      "execution_count": 31,
      "outputs": []
    },
    {
      "cell_type": "markdown",
      "source": [
        "# Implementing the model and training it"
      ],
      "metadata": {
        "id": "-czqXwS7S1up"
      }
    },
    {
      "cell_type": "code",
      "source": [
        "model = tf.keras.models.Sequential()\n",
        "model.add(Dense(units=32, kernel_regularizer=regularizers.l2(1e-5)))\n",
        "model.add(BatchNormalization())\n",
        "model.add(ReLU())\n",
        "model.add(Dropout(0.2))\n",
        "model.add(Dense(units=32, kernel_regularizer=regularizers.l2(1e-5)))\n",
        "model.add(BatchNormalization())\n",
        "model.add(ReLU())\n",
        "model.add(Dropout(0.2))\n",
        "model.add(Dense(units=32, kernel_regularizer=regularizers.l2(1e-5)))\n",
        "model.add(BatchNormalization())\n",
        "model.add(ReLU())\n",
        "model.add(Dense(10, activation='softmax'))"
      ],
      "metadata": {
        "id": "jR_gKUt8S6R1"
      },
      "execution_count": 171,
      "outputs": []
    },
    {
      "cell_type": "code",
      "source": [
        "lr_schedule = tf.keras.optimizers.schedules.ExponentialDecay(\n",
        "    0.001,\n",
        "    decay_steps=100000,\n",
        "    decay_rate=0.96,\n",
        "    staircase=True)"
      ],
      "metadata": {
        "id": "tF-Ye9awVH7o"
      },
      "execution_count": 172,
      "outputs": []
    },
    {
      "cell_type": "code",
      "source": [
        "model.compile(Adam(learning_rate=lr_schedule), loss='categorical_crossentropy', metrics=['accuracy'])"
      ],
      "metadata": {
        "id": "F8JcUtWuUEnZ"
      },
      "execution_count": 173,
      "outputs": []
    },
    {
      "cell_type": "code",
      "source": [
        "model.summary()"
      ],
      "metadata": {
        "colab": {
          "base_uri": "https://localhost:8080/"
        },
        "id": "k-DZc00hkh7y",
        "outputId": "7a096e34-4305-4420-fa9a-12988da35bb8"
      },
      "execution_count": 176,
      "outputs": [
        {
          "output_type": "stream",
          "name": "stdout",
          "text": [
            "Model: \"sequential_10\"\n",
            "_________________________________________________________________\n",
            " Layer (type)                Output Shape              Param #   \n",
            "=================================================================\n",
            " dense_32 (Dense)            (None, 32)                14144     \n",
            "                                                                 \n",
            " batch_normalization_22 (Bat  (None, 32)               128       \n",
            " chNormalization)                                                \n",
            "                                                                 \n",
            " re_lu_17 (ReLU)             (None, 32)                0         \n",
            "                                                                 \n",
            " dropout_12 (Dropout)        (None, 32)                0         \n",
            "                                                                 \n",
            " dense_33 (Dense)            (None, 32)                1056      \n",
            "                                                                 \n",
            " batch_normalization_23 (Bat  (None, 32)               128       \n",
            " chNormalization)                                                \n",
            "                                                                 \n",
            " re_lu_18 (ReLU)             (None, 32)                0         \n",
            "                                                                 \n",
            " dropout_13 (Dropout)        (None, 32)                0         \n",
            "                                                                 \n",
            " dense_34 (Dense)            (None, 32)                1056      \n",
            "                                                                 \n",
            " batch_normalization_24 (Bat  (None, 32)               128       \n",
            " chNormalization)                                                \n",
            "                                                                 \n",
            " re_lu_19 (ReLU)             (None, 32)                0         \n",
            "                                                                 \n",
            " dense_35 (Dense)            (None, 10)                330       \n",
            "                                                                 \n",
            "=================================================================\n",
            "Total params: 16,970\n",
            "Trainable params: 16,778\n",
            "Non-trainable params: 192\n",
            "_________________________________________________________________\n"
          ]
        }
      ]
    },
    {
      "cell_type": "code",
      "source": [
        "history = model.fit(x_train_hog, y_train, batch_size = 64, epochs = 50, validation_data=(x_val_hog, y_val))"
      ],
      "metadata": {
        "colab": {
          "base_uri": "https://localhost:8080/"
        },
        "id": "bUCeNIeNUQd0",
        "outputId": "b22cef6f-efc8-4a7f-d789-e8754707f635"
      },
      "execution_count": 175,
      "outputs": [
        {
          "output_type": "stream",
          "name": "stdout",
          "text": [
            "Epoch 1/50\n",
            "938/938 [==============================] - 6s 5ms/step - loss: 0.7726 - accuracy: 0.7471 - val_loss: 0.3863 - val_accuracy: 0.8656\n",
            "Epoch 2/50\n",
            "938/938 [==============================] - 5s 5ms/step - loss: 0.4591 - accuracy: 0.8420 - val_loss: 0.3334 - val_accuracy: 0.8820\n",
            "Epoch 3/50\n",
            "938/938 [==============================] - 5s 5ms/step - loss: 0.4144 - accuracy: 0.8578 - val_loss: 0.3121 - val_accuracy: 0.8918\n",
            "Epoch 4/50\n",
            "938/938 [==============================] - 5s 5ms/step - loss: 0.3881 - accuracy: 0.8661 - val_loss: 0.3053 - val_accuracy: 0.8956\n",
            "Epoch 5/50\n",
            "938/938 [==============================] - 5s 5ms/step - loss: 0.3727 - accuracy: 0.8712 - val_loss: 0.2965 - val_accuracy: 0.8916\n",
            "Epoch 6/50\n",
            "938/938 [==============================] - 5s 5ms/step - loss: 0.3630 - accuracy: 0.8757 - val_loss: 0.2876 - val_accuracy: 0.8966\n",
            "Epoch 7/50\n",
            "938/938 [==============================] - 5s 5ms/step - loss: 0.3522 - accuracy: 0.8786 - val_loss: 0.2814 - val_accuracy: 0.8996\n",
            "Epoch 8/50\n",
            "938/938 [==============================] - 5s 5ms/step - loss: 0.3510 - accuracy: 0.8786 - val_loss: 0.2872 - val_accuracy: 0.8958\n",
            "Epoch 9/50\n",
            "938/938 [==============================] - 5s 5ms/step - loss: 0.3421 - accuracy: 0.8807 - val_loss: 0.2806 - val_accuracy: 0.8982\n",
            "Epoch 10/50\n",
            "938/938 [==============================] - 5s 5ms/step - loss: 0.3381 - accuracy: 0.8824 - val_loss: 0.2834 - val_accuracy: 0.9004\n",
            "Epoch 11/50\n",
            "938/938 [==============================] - 5s 5ms/step - loss: 0.3334 - accuracy: 0.8856 - val_loss: 0.2752 - val_accuracy: 0.9034\n",
            "Epoch 12/50\n",
            "938/938 [==============================] - 5s 5ms/step - loss: 0.3233 - accuracy: 0.8895 - val_loss: 0.2764 - val_accuracy: 0.9006\n",
            "Epoch 13/50\n",
            "938/938 [==============================] - 5s 5ms/step - loss: 0.3267 - accuracy: 0.8863 - val_loss: 0.2745 - val_accuracy: 0.9044\n",
            "Epoch 14/50\n",
            "938/938 [==============================] - 5s 5ms/step - loss: 0.3240 - accuracy: 0.8873 - val_loss: 0.2678 - val_accuracy: 0.9056\n",
            "Epoch 15/50\n",
            "938/938 [==============================] - 6s 6ms/step - loss: 0.3180 - accuracy: 0.8894 - val_loss: 0.2750 - val_accuracy: 0.9032\n",
            "Epoch 16/50\n",
            "938/938 [==============================] - 5s 6ms/step - loss: 0.3195 - accuracy: 0.8896 - val_loss: 0.2685 - val_accuracy: 0.9058\n",
            "Epoch 17/50\n",
            "938/938 [==============================] - 5s 5ms/step - loss: 0.3146 - accuracy: 0.8907 - val_loss: 0.2696 - val_accuracy: 0.9066\n",
            "Epoch 18/50\n",
            "938/938 [==============================] - 5s 5ms/step - loss: 0.3095 - accuracy: 0.8937 - val_loss: 0.2661 - val_accuracy: 0.9108\n",
            "Epoch 19/50\n",
            "938/938 [==============================] - 5s 5ms/step - loss: 0.3089 - accuracy: 0.8938 - val_loss: 0.2682 - val_accuracy: 0.9074\n",
            "Epoch 20/50\n",
            "938/938 [==============================] - 5s 5ms/step - loss: 0.3099 - accuracy: 0.8921 - val_loss: 0.2689 - val_accuracy: 0.9072\n",
            "Epoch 21/50\n",
            "938/938 [==============================] - 5s 5ms/step - loss: 0.3064 - accuracy: 0.8933 - val_loss: 0.2668 - val_accuracy: 0.9060\n",
            "Epoch 22/50\n",
            "938/938 [==============================] - 5s 5ms/step - loss: 0.3089 - accuracy: 0.8931 - val_loss: 0.2713 - val_accuracy: 0.9038\n",
            "Epoch 23/50\n",
            "938/938 [==============================] - 5s 5ms/step - loss: 0.3061 - accuracy: 0.8944 - val_loss: 0.2705 - val_accuracy: 0.9074\n",
            "Epoch 24/50\n",
            "938/938 [==============================] - 5s 5ms/step - loss: 0.3051 - accuracy: 0.8942 - val_loss: 0.2654 - val_accuracy: 0.9108\n",
            "Epoch 25/50\n",
            "938/938 [==============================] - 5s 5ms/step - loss: 0.3020 - accuracy: 0.8952 - val_loss: 0.2698 - val_accuracy: 0.9070\n",
            "Epoch 26/50\n",
            "938/938 [==============================] - 5s 5ms/step - loss: 0.3022 - accuracy: 0.8953 - val_loss: 0.2677 - val_accuracy: 0.9076\n",
            "Epoch 27/50\n",
            "938/938 [==============================] - 5s 5ms/step - loss: 0.3006 - accuracy: 0.8975 - val_loss: 0.2658 - val_accuracy: 0.9088\n",
            "Epoch 28/50\n",
            "938/938 [==============================] - 5s 5ms/step - loss: 0.3001 - accuracy: 0.8952 - val_loss: 0.2641 - val_accuracy: 0.9092\n",
            "Epoch 29/50\n",
            "938/938 [==============================] - 5s 5ms/step - loss: 0.2969 - accuracy: 0.8972 - val_loss: 0.2621 - val_accuracy: 0.9104\n",
            "Epoch 30/50\n",
            "938/938 [==============================] - 5s 5ms/step - loss: 0.2967 - accuracy: 0.8988 - val_loss: 0.2617 - val_accuracy: 0.9104\n",
            "Epoch 31/50\n",
            "938/938 [==============================] - 5s 5ms/step - loss: 0.2999 - accuracy: 0.8962 - val_loss: 0.2613 - val_accuracy: 0.9102\n",
            "Epoch 32/50\n",
            "938/938 [==============================] - 5s 5ms/step - loss: 0.2948 - accuracy: 0.8973 - val_loss: 0.2658 - val_accuracy: 0.9080\n",
            "Epoch 33/50\n",
            "938/938 [==============================] - 5s 5ms/step - loss: 0.2988 - accuracy: 0.8971 - val_loss: 0.2631 - val_accuracy: 0.9084\n",
            "Epoch 34/50\n",
            "938/938 [==============================] - 5s 5ms/step - loss: 0.2957 - accuracy: 0.8988 - val_loss: 0.2633 - val_accuracy: 0.9092\n",
            "Epoch 35/50\n",
            "938/938 [==============================] - 5s 5ms/step - loss: 0.2967 - accuracy: 0.8967 - val_loss: 0.2626 - val_accuracy: 0.9112\n",
            "Epoch 36/50\n",
            "938/938 [==============================] - 5s 5ms/step - loss: 0.2935 - accuracy: 0.8992 - val_loss: 0.2622 - val_accuracy: 0.9106\n",
            "Epoch 37/50\n",
            "938/938 [==============================] - 5s 5ms/step - loss: 0.2930 - accuracy: 0.8996 - val_loss: 0.2614 - val_accuracy: 0.9124\n",
            "Epoch 38/50\n",
            "938/938 [==============================] - 5s 5ms/step - loss: 0.2928 - accuracy: 0.8988 - val_loss: 0.2622 - val_accuracy: 0.9090\n",
            "Epoch 39/50\n",
            "938/938 [==============================] - 5s 5ms/step - loss: 0.2906 - accuracy: 0.9002 - val_loss: 0.2598 - val_accuracy: 0.9104\n",
            "Epoch 40/50\n",
            "938/938 [==============================] - 5s 5ms/step - loss: 0.2883 - accuracy: 0.8997 - val_loss: 0.2618 - val_accuracy: 0.9124\n",
            "Epoch 41/50\n",
            "938/938 [==============================] - 5s 5ms/step - loss: 0.2897 - accuracy: 0.9005 - val_loss: 0.2639 - val_accuracy: 0.9108\n",
            "Epoch 42/50\n",
            "938/938 [==============================] - 5s 5ms/step - loss: 0.2876 - accuracy: 0.9003 - val_loss: 0.2615 - val_accuracy: 0.9104\n",
            "Epoch 43/50\n",
            "938/938 [==============================] - 5s 5ms/step - loss: 0.2910 - accuracy: 0.9006 - val_loss: 0.2672 - val_accuracy: 0.9078\n",
            "Epoch 44/50\n",
            "938/938 [==============================] - 6s 6ms/step - loss: 0.2898 - accuracy: 0.9010 - val_loss: 0.2647 - val_accuracy: 0.9086\n",
            "Epoch 45/50\n",
            "938/938 [==============================] - 5s 5ms/step - loss: 0.2864 - accuracy: 0.9020 - val_loss: 0.2620 - val_accuracy: 0.9100\n",
            "Epoch 46/50\n",
            "938/938 [==============================] - 5s 5ms/step - loss: 0.2892 - accuracy: 0.9007 - val_loss: 0.2670 - val_accuracy: 0.9096\n",
            "Epoch 47/50\n",
            "938/938 [==============================] - 5s 5ms/step - loss: 0.2895 - accuracy: 0.9004 - val_loss: 0.2646 - val_accuracy: 0.9096\n",
            "Epoch 48/50\n",
            "938/938 [==============================] - 5s 5ms/step - loss: 0.2897 - accuracy: 0.9005 - val_loss: 0.2654 - val_accuracy: 0.9086\n",
            "Epoch 49/50\n",
            "938/938 [==============================] - 5s 5ms/step - loss: 0.2866 - accuracy: 0.9010 - val_loss: 0.2670 - val_accuracy: 0.9078\n",
            "Epoch 50/50\n",
            "938/938 [==============================] - 5s 5ms/step - loss: 0.2874 - accuracy: 0.9021 - val_loss: 0.2650 - val_accuracy: 0.9104\n"
          ]
        }
      ]
    },
    {
      "cell_type": "markdown",
      "source": [
        "# Evaluation"
      ],
      "metadata": {
        "id": "J9iLndfoUwW_"
      }
    },
    {
      "cell_type": "code",
      "source": [
        "plt.figure(dpi=160)\n",
        "\n",
        "plt.subplot(231)\n",
        "plt.title('Loss')\n",
        "plt.plot(history.history['loss'], label='train')\n",
        "plt.plot(history.history['val_loss'], label='val')\n",
        "plt.legend()\n",
        "\n",
        "plt.subplot(233)\n",
        "plt.title('Accuracy')\n",
        "plt.plot(history.history['accuracy'], label='train')\n",
        "plt.plot(history.history['val_accuracy'], label='val')\n",
        "plt.legend()\n",
        "plt.show()"
      ],
      "metadata": {
        "colab": {
          "base_uri": "https://localhost:8080/",
          "height": 337
        },
        "id": "6-0ynCwwUy_G",
        "outputId": "69ae2b85-38b0-4c74-d55c-930ded9a4918"
      },
      "execution_count": 177,
      "outputs": [
        {
          "output_type": "display_data",
          "data": {
            "text/plain": [
              "<Figure size 960x640 with 2 Axes>"
            ],
            "image/png": "[encoded data removed]"
          },
          "metadata": {
            "needs_background": "light"
          }
        }
      ]
    },
    {
      "cell_type": "code",
      "source": [
        "y_hat = model.predict(x_test_hog)"
      ],
      "metadata": {
        "colab": {
          "base_uri": "https://localhost:8080/"
        },
        "id": "HA43bPFFbgql",
        "outputId": "86d1058a-0738-4f64-f71e-48da9dc0f52a"
      },
      "execution_count": 178,
      "outputs": [
        {
          "output_type": "stream",
          "name": "stdout",
          "text": [
            "157/157 [==============================] - 1s 3ms/step\n"
          ]
        }
      ]
    },
    {
      "cell_type": "code",
      "source": [
        "y_hat[y_hat>=0.5] = 1\n",
        "y_hat[y_hat<0.5] = 0"
      ],
      "metadata": {
        "id": "r7qOaqaKcNOW"
      },
      "execution_count": 179,
      "outputs": []
    },
    {
      "cell_type": "code",
      "source": [
        "print('\\nFor Test Set')\n",
        "f1 = f1_score(y_test, y_hat, average='micro')\n",
        "print('F1 score: ' , f1)\n",
        "\n",
        "accuracy = accuracy_score(y_test, y_hat)\n",
        "print('Accuracy: ' , accuracy)\n",
        "\n",
        "precision = precision_score(y_test, y_hat, average='micro')\n",
        "print('Precision: ' , precision)\n",
        "\n",
        "recall = recall_score(y_test, y_hat, average='micro')\n",
        "print('Recall: ' , recall)\n",
        "\n",
        "matrix = ConfusionMatrixDisplay(confusion_matrix(y_test.argmax(axis=1), y_hat.argmax(axis=1)))\n",
        "print('Confusion Matrix: \\n')\n",
        "matrix.plot()\n",
        "plt.show()"
      ],
      "metadata": {
        "colab": {
          "base_uri": "https://localhost:8080/",
          "height": 427
        },
        "id": "CUg-aVrycDY8",
        "outputId": "73f47646-9ba9-4c1d-ca25-5feab89ace17"
      },
      "execution_count": 181,
      "outputs": [
        {
          "output_type": "stream",
          "name": "stdout",
          "text": [
            "\n",
            "For Test Set\n",
            "F1 score:  0.9036437246963562\n",
            "Accuracy:  0.8928\n",
            "Precision:  0.9147540983606557\n",
            "Recall:  0.8928\n",
            "Confusion Matrix: \n",
            "\n"
          ]
        },
        {
          "output_type": "display_data",
          "data": {
            "text/plain": [
              "<Figure size 432x288 with 2 Axes>"
            ],
            "image/png": "[encoded data removed]"
          },
          "metadata": {
            "needs_background": "light"
          }
        }
      ]
    }
  ]
}