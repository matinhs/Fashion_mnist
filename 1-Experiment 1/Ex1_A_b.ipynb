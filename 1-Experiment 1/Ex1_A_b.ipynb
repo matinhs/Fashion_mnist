{
  "nbformat": 4,
  "nbformat_minor": 0,
  "metadata": {
    "colab": {
      "provenance": []
    },
    "kernelspec": {
      "name": "python3",
      "display_name": "Python 3"
    },
    "language_info": {
      "name": "python"
    },
    "accelerator": "GPU",
    "gpuClass": "standard"
  },
  "cells": [
    {
      "cell_type": "markdown",
      "source": [
        "# Importing the libraries"
      ],
      "metadata": {
        "id": "u63o1hNWDFK4"
      }
    },
    {
      "cell_type": "code",
      "execution_count": 70,
      "metadata": {
        "id": "y4tcghPIAgC4"
      },
      "outputs": [],
      "source": [
        "import cv2\n",
        "import numpy as np\n",
        "import tensorflow as tf\n",
        "from sklearn import preprocessing, model_selection\n",
        "from tensorflow.keras.utils import to_categorical\n",
        "from matplotlib import pyplot as plt\n",
        "from sklearn.preprocessing import StandardScaler\n",
        "from keras.models import Sequential\n",
        "from keras.layers import Dense, Activation, Dropout, BatchNormalization\n",
        "from keras import regularizers, optimizers\n",
        "from tensorflow.keras.optimizers import Adam\n",
        "from keras.metrics import categorical_crossentropy\n",
        "from sklearn.metrics import precision_score, recall_score, f1_score, confusion_matrix, accuracy_score, ConfusionMatrixDisplay"
      ]
    },
    {
      "cell_type": "markdown",
      "source": [
        "# Loading and Preprocessing the data"
      ],
      "metadata": {
        "id": "Pdxi3RwHDKz4"
      }
    },
    {
      "cell_type": "code",
      "source": [
        "fashion_mnist = tf.keras.datasets.fashion_mnist\n",
        "(x_train, y_train), (x_test, y_test) = fashion_mnist.load_data()"
      ],
      "metadata": {
        "id": "dEskrJIuBi79"
      },
      "execution_count": 10,
      "outputs": []
    },
    {
      "cell_type": "code",
      "source": [
        "x_val, x_test, y_val, y_test = model_selection.train_test_split(x_test, y_test, test_size=0.5, random_state=42)"
      ],
      "metadata": {
        "id": "iNNsDiOmCZLb"
      },
      "execution_count": 11,
      "outputs": []
    },
    {
      "cell_type": "code",
      "source": [
        "winSize = (28,28)\n",
        "blockSize = (28,28)\n",
        "blockStride = (2,2)\n",
        "cellSize = (4,4)\n",
        "nbins = 9\n",
        "derivAperture = 1\n",
        "winSigma = 4.\n",
        "histogramNormType = 0\n",
        "L2HysThreshold = 0.2\n",
        "gammaCorrection = 0\n",
        "nlevels = 64\n",
        "signedGradients = True\n",
        "\n",
        "hog = cv2.HOGDescriptor(winSize,blockSize,blockStride,\n",
        "cellSize,nbins,derivAperture,\n",
        "winSigma,histogramNormType,L2HysThreshold,\n",
        "gammaCorrection,nlevels, signedGradients)\n"
      ],
      "metadata": {
        "id": "Tls681NlE01F"
      },
      "execution_count": 29,
      "outputs": []
    },
    {
      "cell_type": "code",
      "source": [
        "x_train_hog = np.array([hog.compute(x_train[0])])\n",
        "x_test_hog = np.array([hog.compute(x_test[0])])\n",
        "x_val_hog = np.array([hog.compute(x_val[0])])\n",
        "for i in range(x_train.shape[0]-1):\n",
        "    descriptor = hog.compute(x_train[i+1])\n",
        "    x_train_hog = np.append(x_train_hog, np.array([descriptor]), axis=0)\n",
        "for i in range(x_test.shape[0]-1):\n",
        "    descriptor2 = hog.compute(x_test[i+1])\n",
        "    x_test_hog = np.append(x_test_hog, np.array([descriptor2]), axis=0)\n",
        "for i in range(x_val.shape[0]-1):\n",
        "    descriptor3 = hog.compute(x_val[i+1])\n",
        "    x_val_hog = np.append(x_val_hog, np.array([descriptor3]), axis=0)\n",
        "\n",
        "sc = StandardScaler()\n",
        "x_train_hog = sc.fit_transform(x_train_hog)\n",
        "x_test_hog = sc.transform(x_test_hog)\n",
        "x_val_hog = sc.transform(x_val_hog)"
      ],
      "metadata": {
        "id": "N_5NmiUdKOJq"
      },
      "execution_count": 30,
      "outputs": []
    },
    {
      "cell_type": "code",
      "source": [
        "y_train = to_categorical(y_train)\n",
        "y_test = to_categorical(y_test)\n",
        "y_val = to_categorical(y_val)"
      ],
      "metadata": {
        "id": "AhNHIs9rSDHk"
      },
      "execution_count": 31,
      "outputs": []
    },
    {
      "cell_type": "markdown",
      "source": [
        "# Implementing the model and training it"
      ],
      "metadata": {
        "id": "-czqXwS7S1up"
      }
    },
    {
      "cell_type": "code",
      "source": [
        "model = tf.keras.models.Sequential()\n",
        "model.add(Dense(units=64, activation='relu', kernel_regularizer=regularizers.l2(1e-5)))\n",
        "model.add(BatchNormalization())\n",
        "model.add(Dense(10, activation='softmax'))"
      ],
      "metadata": {
        "id": "jR_gKUt8S6R1"
      },
      "execution_count": 89,
      "outputs": []
    },
    {
      "cell_type": "code",
      "source": [
        "lr_schedule = tf.keras.optimizers.schedules.ExponentialDecay(\n",
        "    0.001,\n",
        "    decay_steps=100000,\n",
        "    decay_rate=0.96,\n",
        "    staircase=True)"
      ],
      "metadata": {
        "id": "tF-Ye9awVH7o"
      },
      "execution_count": 90,
      "outputs": []
    },
    {
      "cell_type": "code",
      "source": [
        "model.compile(Adam(learning_rate=lr_schedule), loss='categorical_crossentropy', metrics=['accuracy'])"
      ],
      "metadata": {
        "id": "F8JcUtWuUEnZ"
      },
      "execution_count": 91,
      "outputs": []
    },
    {
      "cell_type": "code",
      "source": [
        "history = model.fit(x_train_hog, y_train, batch_size = 64, epochs = 50, validation_data=(x_val_hog, y_val))"
      ],
      "metadata": {
        "colab": {
          "base_uri": "https://localhost:8080/"
        },
        "id": "bUCeNIeNUQd0",
        "outputId": "ccc71a54-9a00-426a-bc24-2138d289527c"
      },
      "execution_count": 92,
      "outputs": [
        {
          "output_type": "stream",
          "name": "stdout",
          "text": [
            "Epoch 1/50\n",
            "938/938 [==============================] - 4s 4ms/step - loss: 0.4176 - accuracy: 0.8561 - val_loss: 0.3164 - val_accuracy: 0.8896\n",
            "Epoch 2/50\n",
            "938/938 [==============================] - 3s 4ms/step - loss: 0.2844 - accuracy: 0.8994 - val_loss: 0.2790 - val_accuracy: 0.9016\n",
            "Epoch 3/50\n",
            "938/938 [==============================] - 3s 4ms/step - loss: 0.2526 - accuracy: 0.9106 - val_loss: 0.2669 - val_accuracy: 0.9046\n",
            "Epoch 4/50\n",
            "938/938 [==============================] - 4s 4ms/step - loss: 0.2315 - accuracy: 0.9169 - val_loss: 0.2557 - val_accuracy: 0.9100\n",
            "Epoch 5/50\n",
            "938/938 [==============================] - 3s 4ms/step - loss: 0.2172 - accuracy: 0.9230 - val_loss: 0.2665 - val_accuracy: 0.9100\n",
            "Epoch 6/50\n",
            "938/938 [==============================] - 3s 4ms/step - loss: 0.2021 - accuracy: 0.9276 - val_loss: 0.2648 - val_accuracy: 0.9088\n",
            "Epoch 7/50\n",
            "938/938 [==============================] - 3s 4ms/step - loss: 0.1921 - accuracy: 0.9317 - val_loss: 0.2605 - val_accuracy: 0.9098\n",
            "Epoch 8/50\n",
            "938/938 [==============================] - 3s 4ms/step - loss: 0.1823 - accuracy: 0.9348 - val_loss: 0.2605 - val_accuracy: 0.9130\n",
            "Epoch 9/50\n",
            "938/938 [==============================] - 3s 4ms/step - loss: 0.1731 - accuracy: 0.9385 - val_loss: 0.2608 - val_accuracy: 0.9158\n",
            "Epoch 10/50\n",
            "938/938 [==============================] - 3s 4ms/step - loss: 0.1658 - accuracy: 0.9417 - val_loss: 0.2667 - val_accuracy: 0.9130\n",
            "Epoch 11/50\n",
            "938/938 [==============================] - 3s 4ms/step - loss: 0.1592 - accuracy: 0.9442 - val_loss: 0.2669 - val_accuracy: 0.9108\n",
            "Epoch 12/50\n",
            "938/938 [==============================] - 4s 5ms/step - loss: 0.1530 - accuracy: 0.9465 - val_loss: 0.2748 - val_accuracy: 0.9156\n",
            "Epoch 13/50\n",
            "938/938 [==============================] - 3s 4ms/step - loss: 0.1463 - accuracy: 0.9493 - val_loss: 0.2910 - val_accuracy: 0.9100\n",
            "Epoch 14/50\n",
            "938/938 [==============================] - 3s 4ms/step - loss: 0.1409 - accuracy: 0.9512 - val_loss: 0.2834 - val_accuracy: 0.9064\n",
            "Epoch 15/50\n",
            "938/938 [==============================] - 3s 4ms/step - loss: 0.1385 - accuracy: 0.9514 - val_loss: 0.2910 - val_accuracy: 0.9074\n",
            "Epoch 16/50\n",
            "938/938 [==============================] - 3s 4ms/step - loss: 0.1339 - accuracy: 0.9536 - val_loss: 0.2951 - val_accuracy: 0.9124\n",
            "Epoch 17/50\n",
            "938/938 [==============================] - 3s 4ms/step - loss: 0.1301 - accuracy: 0.9557 - val_loss: 0.3072 - val_accuracy: 0.9058\n",
            "Epoch 18/50\n",
            "938/938 [==============================] - 3s 3ms/step - loss: 0.1263 - accuracy: 0.9567 - val_loss: 0.2970 - val_accuracy: 0.9118\n",
            "Epoch 19/50\n",
            "938/938 [==============================] - 3s 4ms/step - loss: 0.1200 - accuracy: 0.9588 - val_loss: 0.3159 - val_accuracy: 0.9084\n",
            "Epoch 20/50\n",
            "938/938 [==============================] - 4s 4ms/step - loss: 0.1187 - accuracy: 0.9591 - val_loss: 0.3129 - val_accuracy: 0.9096\n",
            "Epoch 21/50\n",
            "938/938 [==============================] - 4s 4ms/step - loss: 0.1166 - accuracy: 0.9594 - val_loss: 0.3164 - val_accuracy: 0.9088\n",
            "Epoch 22/50\n",
            "938/938 [==============================] - 3s 4ms/step - loss: 0.1139 - accuracy: 0.9619 - val_loss: 0.3263 - val_accuracy: 0.9108\n",
            "Epoch 23/50\n",
            "938/938 [==============================] - 3s 4ms/step - loss: 0.1110 - accuracy: 0.9624 - val_loss: 0.3268 - val_accuracy: 0.9094\n",
            "Epoch 24/50\n",
            "938/938 [==============================] - 3s 4ms/step - loss: 0.1059 - accuracy: 0.9654 - val_loss: 0.3359 - val_accuracy: 0.9092\n",
            "Epoch 25/50\n",
            "938/938 [==============================] - 3s 3ms/step - loss: 0.1065 - accuracy: 0.9639 - val_loss: 0.3330 - val_accuracy: 0.9096\n",
            "Epoch 26/50\n",
            "938/938 [==============================] - 3s 4ms/step - loss: 0.1034 - accuracy: 0.9653 - val_loss: 0.3539 - val_accuracy: 0.9066\n",
            "Epoch 27/50\n",
            "938/938 [==============================] - 3s 4ms/step - loss: 0.1016 - accuracy: 0.9664 - val_loss: 0.3558 - val_accuracy: 0.9066\n",
            "Epoch 28/50\n",
            "938/938 [==============================] - 3s 4ms/step - loss: 0.0982 - accuracy: 0.9676 - val_loss: 0.3622 - val_accuracy: 0.9102\n",
            "Epoch 29/50\n",
            "938/938 [==============================] - 3s 4ms/step - loss: 0.0978 - accuracy: 0.9677 - val_loss: 0.3645 - val_accuracy: 0.9078\n",
            "Epoch 30/50\n",
            "938/938 [==============================] - 3s 4ms/step - loss: 0.0955 - accuracy: 0.9681 - val_loss: 0.3690 - val_accuracy: 0.9062\n",
            "Epoch 31/50\n",
            "938/938 [==============================] - 3s 3ms/step - loss: 0.0917 - accuracy: 0.9698 - val_loss: 0.3698 - val_accuracy: 0.9086\n",
            "Epoch 32/50\n",
            "938/938 [==============================] - 3s 4ms/step - loss: 0.0929 - accuracy: 0.9695 - val_loss: 0.3761 - val_accuracy: 0.9054\n",
            "Epoch 33/50\n",
            "938/938 [==============================] - 3s 4ms/step - loss: 0.0903 - accuracy: 0.9707 - val_loss: 0.3805 - val_accuracy: 0.9070\n",
            "Epoch 34/50\n",
            "938/938 [==============================] - 3s 4ms/step - loss: 0.0883 - accuracy: 0.9714 - val_loss: 0.3873 - val_accuracy: 0.9058\n",
            "Epoch 35/50\n",
            "938/938 [==============================] - 3s 4ms/step - loss: 0.0888 - accuracy: 0.9710 - val_loss: 0.3875 - val_accuracy: 0.9106\n",
            "Epoch 36/50\n",
            "938/938 [==============================] - 3s 4ms/step - loss: 0.0874 - accuracy: 0.9726 - val_loss: 0.3999 - val_accuracy: 0.9112\n",
            "Epoch 37/50\n",
            "938/938 [==============================] - 3s 4ms/step - loss: 0.0842 - accuracy: 0.9733 - val_loss: 0.4127 - val_accuracy: 0.9032\n",
            "Epoch 38/50\n",
            "938/938 [==============================] - 3s 4ms/step - loss: 0.0833 - accuracy: 0.9734 - val_loss: 0.4007 - val_accuracy: 0.9068\n",
            "Epoch 39/50\n",
            "938/938 [==============================] - 3s 4ms/step - loss: 0.0828 - accuracy: 0.9735 - val_loss: 0.4151 - val_accuracy: 0.9072\n",
            "Epoch 40/50\n",
            "938/938 [==============================] - 3s 4ms/step - loss: 0.0801 - accuracy: 0.9746 - val_loss: 0.4391 - val_accuracy: 0.9016\n",
            "Epoch 41/50\n",
            "938/938 [==============================] - 3s 4ms/step - loss: 0.0777 - accuracy: 0.9754 - val_loss: 0.4253 - val_accuracy: 0.9086\n",
            "Epoch 42/50\n",
            "938/938 [==============================] - 3s 4ms/step - loss: 0.0796 - accuracy: 0.9751 - val_loss: 0.4201 - val_accuracy: 0.9060\n",
            "Epoch 43/50\n",
            "938/938 [==============================] - 3s 4ms/step - loss: 0.0790 - accuracy: 0.9747 - val_loss: 0.4247 - val_accuracy: 0.9084\n",
            "Epoch 44/50\n",
            "938/938 [==============================] - 3s 4ms/step - loss: 0.0778 - accuracy: 0.9755 - val_loss: 0.4321 - val_accuracy: 0.9082\n",
            "Epoch 45/50\n",
            "938/938 [==============================] - 3s 4ms/step - loss: 0.0755 - accuracy: 0.9766 - val_loss: 0.4467 - val_accuracy: 0.9046\n",
            "Epoch 46/50\n",
            "938/938 [==============================] - 3s 4ms/step - loss: 0.0769 - accuracy: 0.9760 - val_loss: 0.4364 - val_accuracy: 0.9088\n",
            "Epoch 47/50\n",
            "938/938 [==============================] - 3s 4ms/step - loss: 0.0755 - accuracy: 0.9768 - val_loss: 0.4360 - val_accuracy: 0.9060\n",
            "Epoch 48/50\n",
            "938/938 [==============================] - 3s 4ms/step - loss: 0.0747 - accuracy: 0.9767 - val_loss: 0.4561 - val_accuracy: 0.9026\n",
            "Epoch 49/50\n",
            "938/938 [==============================] - 3s 4ms/step - loss: 0.0743 - accuracy: 0.9770 - val_loss: 0.4434 - val_accuracy: 0.9088\n",
            "Epoch 50/50\n",
            "938/938 [==============================] - 3s 3ms/step - loss: 0.0714 - accuracy: 0.9785 - val_loss: 0.4504 - val_accuracy: 0.9078\n"
          ]
        }
      ]
    },
    {
      "cell_type": "markdown",
      "source": [
        "# Evaluation"
      ],
      "metadata": {
        "id": "J9iLndfoUwW_"
      }
    },
    {
      "cell_type": "code",
      "source": [
        "plt.figure(dpi=160)\n",
        "\n",
        "plt.subplot(231)\n",
        "plt.title('Loss')\n",
        "plt.plot(history.history['loss'], label='train')\n",
        "plt.plot(history.history['val_loss'], label='val')\n",
        "plt.legend()\n",
        "\n",
        "plt.subplot(233)\n",
        "plt.title('Accuracy')\n",
        "plt.plot(history.history['accuracy'], label='train')\n",
        "plt.plot(history.history['val_accuracy'], label='val')\n",
        "plt.legend()\n",
        "plt.show()"
      ],
      "metadata": {
        "colab": {
          "base_uri": "https://localhost:8080/",
          "height": 337
        },
        "id": "6-0ynCwwUy_G",
        "outputId": "f141d7f2-e00c-4a46-fa9e-0c60c553206f"
      },
      "execution_count": 93,
      "outputs": [
        {
          "output_type": "display_data",
          "data": {
            "text/plain": [
              "<Figure size 960x640 with 2 Axes>"
            ],
            "image/png": "[encoded data removed]"
          },
          "metadata": {
            "needs_background": "light"
          }
        }
      ]
    },
    {
      "cell_type": "code",
      "source": [
        "y_hat = model.predict(x_test_hog)"
      ],
      "metadata": {
        "colab": {
          "base_uri": "https://localhost:8080/"
        },
        "id": "HA43bPFFbgql",
        "outputId": "a801b15e-1af4-4fab-fcb5-b25bb1275cfe"
      },
      "execution_count": 94,
      "outputs": [
        {
          "output_type": "stream",
          "name": "stdout",
          "text": [
            "157/157 [==============================] - 0s 1ms/step\n"
          ]
        }
      ]
    },
    {
      "cell_type": "code",
      "source": [
        "y_hat[y_hat>=0.5] = 1\n",
        "y_hat[y_hat<0.5] = 0"
      ],
      "metadata": {
        "id": "r7qOaqaKcNOW"
      },
      "execution_count": 95,
      "outputs": []
    },
    {
      "cell_type": "code",
      "source": [
        "print('\\nFor Test Set')\n",
        "f1 = f1_score(y_test, y_hat, average='micro')\n",
        "print('F1 score: ' , f1)\n",
        "\n",
        "accuracy = accuracy_score(y_test, y_hat)\n",
        "print('Accuracy: ' , accuracy)\n",
        "\n",
        "precision = precision_score(y_test, y_hat, average='micro')\n",
        "print('Precision: ' , precision)\n",
        "\n",
        "recall = recall_score(y_test, y_hat, average='micro')\n",
        "print('Recall: ' , recall)\n",
        "\n",
        "matrix = ConfusionMatrixDisplay(confusion_matrix(y_test.argmax(axis=1), y_hat.argmax(axis=1)))\n",
        "print('Confusion Matrix: \\n')\n",
        "matrix.plot()\n",
        "plt.show()"
      ],
      "metadata": {
        "colab": {
          "base_uri": "https://localhost:8080/",
          "height": 424
        },
        "id": "CUg-aVrycDY8",
        "outputId": "b4b69c91-a7b2-4390-de7b-a1595d4023fd"
      },
      "execution_count": 96,
      "outputs": [
        {
          "output_type": "stream",
          "name": "stdout",
          "text": [
            "\n",
            "For Test Set\n",
            "F1 score:  0.906246866539657\n",
            "Accuracy:  0.9038\n",
            "Precision:  0.9087070178966419\n",
            "Recall:  0.9038\n",
            "Confusion Matrix: \n",
            "\n"
          ]
        },
        {
          "output_type": "display_data",
          "data": {
            "text/plain": [
              "<Figure size 432x288 with 2 Axes>"
            ],
            "image/png": "[encoded data removed]"
          },
          "metadata": {
            "needs_background": "light"
          }
        }
      ]
    }
  ]
}