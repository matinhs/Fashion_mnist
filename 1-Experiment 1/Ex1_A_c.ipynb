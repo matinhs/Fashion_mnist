{
  "nbformat": 4,
  "nbformat_minor": 0,
  "metadata": {
    "colab": {
      "provenance": []
    },
    "kernelspec": {
      "name": "python3",
      "display_name": "Python 3"
    },
    "language_info": {
      "name": "python"
    },
    "accelerator": "GPU",
    "gpuClass": "standard"
  },
  "cells": [
    {
      "cell_type": "markdown",
      "source": [
        "# Importing the libraries"
      ],
      "metadata": {
        "id": "u63o1hNWDFK4"
      }
    },
    {
      "cell_type": "code",
      "execution_count": 70,
      "metadata": {
        "id": "y4tcghPIAgC4"
      },
      "outputs": [],
      "source": [
        "import cv2\n",
        "import numpy as np\n",
        "import tensorflow as tf\n",
        "from sklearn import preprocessing, model_selection\n",
        "from tensorflow.keras.utils import to_categorical\n",
        "from matplotlib import pyplot as plt\n",
        "from sklearn.preprocessing import StandardScaler\n",
        "from keras.models import Sequential\n",
        "from keras.layers import Dense, Activation, Dropout, BatchNormalization\n",
        "from keras import regularizers, optimizers\n",
        "from tensorflow.keras.optimizers import Adam\n",
        "from keras.metrics import categorical_crossentropy\n",
        "from sklearn.metrics import precision_score, recall_score, f1_score, confusion_matrix, accuracy_score, ConfusionMatrixDisplay"
      ]
    },
    {
      "cell_type": "markdown",
      "source": [
        "# Loading and Preprocessing the data"
      ],
      "metadata": {
        "id": "Pdxi3RwHDKz4"
      }
    },
    {
      "cell_type": "code",
      "source": [
        "fashion_mnist = tf.keras.datasets.fashion_mnist\n",
        "(x_train, y_train), (x_test, y_test) = fashion_mnist.load_data()"
      ],
      "metadata": {
        "id": "dEskrJIuBi79"
      },
      "execution_count": 10,
      "outputs": []
    },
    {
      "cell_type": "code",
      "source": [
        "x_val, x_test, y_val, y_test = model_selection.train_test_split(x_test, y_test, test_size=0.5, random_state=42)"
      ],
      "metadata": {
        "id": "iNNsDiOmCZLb"
      },
      "execution_count": 11,
      "outputs": []
    },
    {
      "cell_type": "code",
      "source": [
        "winSize = (28,28)\n",
        "blockSize = (28,28)\n",
        "blockStride = (2,2)\n",
        "cellSize = (4,4)\n",
        "nbins = 9\n",
        "derivAperture = 1\n",
        "winSigma = 4.\n",
        "histogramNormType = 0\n",
        "L2HysThreshold = 0.2\n",
        "gammaCorrection = 0\n",
        "nlevels = 64\n",
        "signedGradients = True\n",
        "\n",
        "hog = cv2.HOGDescriptor(winSize,blockSize,blockStride,\n",
        "cellSize,nbins,derivAperture,\n",
        "winSigma,histogramNormType,L2HysThreshold,\n",
        "gammaCorrection,nlevels, signedGradients)\n"
      ],
      "metadata": {
        "id": "Tls681NlE01F"
      },
      "execution_count": 29,
      "outputs": []
    },
    {
      "cell_type": "code",
      "source": [
        "x_train_hog = np.array([hog.compute(x_train[0])])\n",
        "x_test_hog = np.array([hog.compute(x_test[0])])\n",
        "x_val_hog = np.array([hog.compute(x_val[0])])\n",
        "for i in range(x_train.shape[0]-1):\n",
        "    descriptor = hog.compute(x_train[i+1])\n",
        "    x_train_hog = np.append(x_train_hog, np.array([descriptor]), axis=0)\n",
        "for i in range(x_test.shape[0]-1):\n",
        "    descriptor2 = hog.compute(x_test[i+1])\n",
        "    x_test_hog = np.append(x_test_hog, np.array([descriptor2]), axis=0)\n",
        "for i in range(x_val.shape[0]-1):\n",
        "    descriptor3 = hog.compute(x_val[i+1])\n",
        "    x_val_hog = np.append(x_val_hog, np.array([descriptor3]), axis=0)\n",
        "\n",
        "sc = StandardScaler()\n",
        "x_train_hog = sc.fit_transform(x_train_hog)\n",
        "x_test_hog = sc.transform(x_test_hog)\n",
        "x_val_hog = sc.transform(x_val_hog)"
      ],
      "metadata": {
        "id": "N_5NmiUdKOJq"
      },
      "execution_count": 30,
      "outputs": []
    },
    {
      "cell_type": "code",
      "source": [
        "y_train = to_categorical(y_train)\n",
        "y_test = to_categorical(y_test)\n",
        "y_val = to_categorical(y_val)"
      ],
      "metadata": {
        "id": "AhNHIs9rSDHk"
      },
      "execution_count": 31,
      "outputs": []
    },
    {
      "cell_type": "markdown",
      "source": [
        "# Implementing the model and training it"
      ],
      "metadata": {
        "id": "-czqXwS7S1up"
      }
    },
    {
      "cell_type": "code",
      "source": [
        "model = tf.keras.models.Sequential()\n",
        "model.add(Dense(units=32*3, activation='relu', kernel_regularizer=regularizers.l2(1e-5)))\n",
        "model.add(BatchNormalization())\n",
        "model.add(Dense(10, activation='softmax'))"
      ],
      "metadata": {
        "id": "jR_gKUt8S6R1"
      },
      "execution_count": 97,
      "outputs": []
    },
    {
      "cell_type": "code",
      "source": [
        "lr_schedule = tf.keras.optimizers.schedules.ExponentialDecay(\n",
        "    0.001,\n",
        "    decay_steps=100000,\n",
        "    decay_rate=0.96,\n",
        "    staircase=True)"
      ],
      "metadata": {
        "id": "tF-Ye9awVH7o"
      },
      "execution_count": 98,
      "outputs": []
    },
    {
      "cell_type": "code",
      "source": [
        "model.compile(Adam(learning_rate=lr_schedule), loss='categorical_crossentropy', metrics=['accuracy'])"
      ],
      "metadata": {
        "id": "F8JcUtWuUEnZ"
      },
      "execution_count": 99,
      "outputs": []
    },
    {
      "cell_type": "code",
      "source": [
        "history = model.fit(x_train_hog, y_train, batch_size = 64, epochs = 50, validation_data=(x_val_hog, y_val))"
      ],
      "metadata": {
        "colab": {
          "base_uri": "https://localhost:8080/"
        },
        "id": "bUCeNIeNUQd0",
        "outputId": "9513ccd3-f92b-416d-a978-ac107aa9ddca"
      },
      "execution_count": 100,
      "outputs": [
        {
          "output_type": "stream",
          "name": "stdout",
          "text": [
            "Epoch 1/50\n",
            "938/938 [==============================] - 4s 4ms/step - loss: 0.3989 - accuracy: 0.8613 - val_loss: 0.3120 - val_accuracy: 0.8900\n",
            "Epoch 2/50\n",
            "938/938 [==============================] - 4s 4ms/step - loss: 0.2758 - accuracy: 0.9023 - val_loss: 0.2741 - val_accuracy: 0.9056\n",
            "Epoch 3/50\n",
            "938/938 [==============================] - 4s 4ms/step - loss: 0.2438 - accuracy: 0.9125 - val_loss: 0.2650 - val_accuracy: 0.9076\n",
            "Epoch 4/50\n",
            "938/938 [==============================] - 4s 4ms/step - loss: 0.2214 - accuracy: 0.9223 - val_loss: 0.2578 - val_accuracy: 0.9100\n",
            "Epoch 5/50\n",
            "938/938 [==============================] - 4s 4ms/step - loss: 0.2055 - accuracy: 0.9271 - val_loss: 0.2538 - val_accuracy: 0.9102\n",
            "Epoch 6/50\n",
            "938/938 [==============================] - 4s 4ms/step - loss: 0.1913 - accuracy: 0.9328 - val_loss: 0.2584 - val_accuracy: 0.9120\n",
            "Epoch 7/50\n",
            "938/938 [==============================] - 4s 4ms/step - loss: 0.1793 - accuracy: 0.9373 - val_loss: 0.2534 - val_accuracy: 0.9162\n",
            "Epoch 8/50\n",
            "938/938 [==============================] - 4s 4ms/step - loss: 0.1689 - accuracy: 0.9408 - val_loss: 0.2645 - val_accuracy: 0.9128\n",
            "Epoch 9/50\n",
            "938/938 [==============================] - 4s 4ms/step - loss: 0.1611 - accuracy: 0.9435 - val_loss: 0.2642 - val_accuracy: 0.9138\n",
            "Epoch 10/50\n",
            "938/938 [==============================] - 4s 4ms/step - loss: 0.1515 - accuracy: 0.9479 - val_loss: 0.2678 - val_accuracy: 0.9122\n",
            "Epoch 11/50\n",
            "938/938 [==============================] - 4s 4ms/step - loss: 0.1446 - accuracy: 0.9500 - val_loss: 0.2758 - val_accuracy: 0.9102\n",
            "Epoch 12/50\n",
            "938/938 [==============================] - 4s 4ms/step - loss: 0.1360 - accuracy: 0.9530 - val_loss: 0.2847 - val_accuracy: 0.9130\n",
            "Epoch 13/50\n",
            "938/938 [==============================] - 4s 4ms/step - loss: 0.1299 - accuracy: 0.9554 - val_loss: 0.2814 - val_accuracy: 0.9128\n",
            "Epoch 14/50\n",
            "938/938 [==============================] - 4s 4ms/step - loss: 0.1233 - accuracy: 0.9574 - val_loss: 0.2840 - val_accuracy: 0.9142\n",
            "Epoch 15/50\n",
            "938/938 [==============================] - 4s 4ms/step - loss: 0.1192 - accuracy: 0.9602 - val_loss: 0.2916 - val_accuracy: 0.9100\n",
            "Epoch 16/50\n",
            "938/938 [==============================] - 4s 4ms/step - loss: 0.1156 - accuracy: 0.9614 - val_loss: 0.3028 - val_accuracy: 0.9108\n",
            "Epoch 17/50\n",
            "938/938 [==============================] - 4s 4ms/step - loss: 0.1105 - accuracy: 0.9627 - val_loss: 0.3005 - val_accuracy: 0.9118\n",
            "Epoch 18/50\n",
            "938/938 [==============================] - 5s 5ms/step - loss: 0.1048 - accuracy: 0.9652 - val_loss: 0.3170 - val_accuracy: 0.9096\n",
            "Epoch 19/50\n",
            "938/938 [==============================] - 4s 4ms/step - loss: 0.1030 - accuracy: 0.9663 - val_loss: 0.3197 - val_accuracy: 0.9116\n",
            "Epoch 20/50\n",
            "938/938 [==============================] - 4s 4ms/step - loss: 0.0984 - accuracy: 0.9679 - val_loss: 0.3153 - val_accuracy: 0.9126\n",
            "Epoch 21/50\n",
            "938/938 [==============================] - 4s 4ms/step - loss: 0.0945 - accuracy: 0.9689 - val_loss: 0.3308 - val_accuracy: 0.9080\n",
            "Epoch 22/50\n",
            "938/938 [==============================] - 4s 4ms/step - loss: 0.0931 - accuracy: 0.9693 - val_loss: 0.3471 - val_accuracy: 0.9110\n",
            "Epoch 23/50\n",
            "938/938 [==============================] - 4s 4ms/step - loss: 0.0882 - accuracy: 0.9715 - val_loss: 0.3481 - val_accuracy: 0.9074\n",
            "Epoch 24/50\n",
            "938/938 [==============================] - 4s 4ms/step - loss: 0.0871 - accuracy: 0.9719 - val_loss: 0.3514 - val_accuracy: 0.9120\n",
            "Epoch 25/50\n",
            "938/938 [==============================] - 4s 4ms/step - loss: 0.0860 - accuracy: 0.9724 - val_loss: 0.3689 - val_accuracy: 0.9082\n",
            "Epoch 26/50\n",
            "938/938 [==============================] - 4s 4ms/step - loss: 0.0812 - accuracy: 0.9749 - val_loss: 0.3656 - val_accuracy: 0.9094\n",
            "Epoch 27/50\n",
            "938/938 [==============================] - 4s 4ms/step - loss: 0.0792 - accuracy: 0.9748 - val_loss: 0.3714 - val_accuracy: 0.9094\n",
            "Epoch 28/50\n",
            "938/938 [==============================] - 4s 4ms/step - loss: 0.0796 - accuracy: 0.9748 - val_loss: 0.3766 - val_accuracy: 0.9086\n",
            "Epoch 29/50\n",
            "938/938 [==============================] - 4s 4ms/step - loss: 0.0759 - accuracy: 0.9773 - val_loss: 0.3770 - val_accuracy: 0.9086\n",
            "Epoch 30/50\n",
            "938/938 [==============================] - 4s 4ms/step - loss: 0.0756 - accuracy: 0.9769 - val_loss: 0.3881 - val_accuracy: 0.9052\n",
            "Epoch 31/50\n",
            "938/938 [==============================] - 4s 4ms/step - loss: 0.0759 - accuracy: 0.9760 - val_loss: 0.3964 - val_accuracy: 0.9068\n",
            "Epoch 32/50\n",
            "938/938 [==============================] - 4s 4ms/step - loss: 0.0747 - accuracy: 0.9773 - val_loss: 0.4107 - val_accuracy: 0.9066\n",
            "Epoch 33/50\n",
            "938/938 [==============================] - 4s 4ms/step - loss: 0.0692 - accuracy: 0.9790 - val_loss: 0.3995 - val_accuracy: 0.9068\n",
            "Epoch 34/50\n",
            "938/938 [==============================] - 4s 4ms/step - loss: 0.0695 - accuracy: 0.9796 - val_loss: 0.4259 - val_accuracy: 0.9070\n",
            "Epoch 35/50\n",
            "938/938 [==============================] - 4s 4ms/step - loss: 0.0659 - accuracy: 0.9811 - val_loss: 0.4111 - val_accuracy: 0.9094\n",
            "Epoch 36/50\n",
            "938/938 [==============================] - 4s 4ms/step - loss: 0.0686 - accuracy: 0.9794 - val_loss: 0.4213 - val_accuracy: 0.9120\n",
            "Epoch 37/50\n",
            "938/938 [==============================] - 4s 4ms/step - loss: 0.0652 - accuracy: 0.9807 - val_loss: 0.4323 - val_accuracy: 0.9060\n",
            "Epoch 38/50\n",
            "938/938 [==============================] - 4s 4ms/step - loss: 0.0661 - accuracy: 0.9808 - val_loss: 0.4341 - val_accuracy: 0.9086\n",
            "Epoch 39/50\n",
            "938/938 [==============================] - 4s 4ms/step - loss: 0.0654 - accuracy: 0.9812 - val_loss: 0.4464 - val_accuracy: 0.9022\n",
            "Epoch 40/50\n",
            "938/938 [==============================] - 4s 4ms/step - loss: 0.0647 - accuracy: 0.9809 - val_loss: 0.4354 - val_accuracy: 0.9112\n",
            "Epoch 41/50\n",
            "938/938 [==============================] - 4s 4ms/step - loss: 0.0614 - accuracy: 0.9833 - val_loss: 0.4597 - val_accuracy: 0.9048\n",
            "Epoch 42/50\n",
            "938/938 [==============================] - 4s 4ms/step - loss: 0.0608 - accuracy: 0.9831 - val_loss: 0.4549 - val_accuracy: 0.9066\n",
            "Epoch 43/50\n",
            "938/938 [==============================] - 4s 4ms/step - loss: 0.0617 - accuracy: 0.9829 - val_loss: 0.4584 - val_accuracy: 0.9064\n",
            "Epoch 44/50\n",
            "938/938 [==============================] - 4s 4ms/step - loss: 0.0590 - accuracy: 0.9838 - val_loss: 0.4534 - val_accuracy: 0.9048\n",
            "Epoch 45/50\n",
            "938/938 [==============================] - 4s 4ms/step - loss: 0.0590 - accuracy: 0.9837 - val_loss: 0.4861 - val_accuracy: 0.9044\n",
            "Epoch 46/50\n",
            "938/938 [==============================] - 4s 4ms/step - loss: 0.0602 - accuracy: 0.9832 - val_loss: 0.4770 - val_accuracy: 0.9044\n",
            "Epoch 47/50\n",
            "938/938 [==============================] - 4s 4ms/step - loss: 0.0593 - accuracy: 0.9841 - val_loss: 0.4964 - val_accuracy: 0.9014\n",
            "Epoch 48/50\n",
            "938/938 [==============================] - 4s 4ms/step - loss: 0.0561 - accuracy: 0.9849 - val_loss: 0.4878 - val_accuracy: 0.9088\n",
            "Epoch 49/50\n",
            "938/938 [==============================] - 4s 4ms/step - loss: 0.0581 - accuracy: 0.9852 - val_loss: 0.5168 - val_accuracy: 0.9052\n",
            "Epoch 50/50\n",
            "938/938 [==============================] - 4s 4ms/step - loss: 0.0568 - accuracy: 0.9847 - val_loss: 0.5233 - val_accuracy: 0.9032\n"
          ]
        }
      ]
    },
    {
      "cell_type": "markdown",
      "source": [
        "# Evaluation"
      ],
      "metadata": {
        "id": "J9iLndfoUwW_"
      }
    },
    {
      "cell_type": "code",
      "source": [
        "plt.figure(dpi=160)\n",
        "\n",
        "plt.subplot(231)\n",
        "plt.title('Loss')\n",
        "plt.plot(history.history['loss'], label='train')\n",
        "plt.plot(history.history['val_loss'], label='val')\n",
        "plt.legend()\n",
        "\n",
        "plt.subplot(233)\n",
        "plt.title('Accuracy')\n",
        "plt.plot(history.history['accuracy'], label='train')\n",
        "plt.plot(history.history['val_accuracy'], label='val')\n",
        "plt.legend()\n",
        "plt.show()"
      ],
      "metadata": {
        "colab": {
          "base_uri": "https://localhost:8080/",
          "height": 337
        },
        "id": "6-0ynCwwUy_G",
        "outputId": "374125a5-912d-44cc-fec8-8e480d7e97f4"
      },
      "execution_count": 101,
      "outputs": [
        {
          "output_type": "display_data",
          "data": {
            "text/plain": [
              "<Figure size 960x640 with 2 Axes>"
            ],
            "image/png": "[encoded data removed]"
          },
          "metadata": {
            "needs_background": "light"
          }
        }
      ]
    },
    {
      "cell_type": "code",
      "source": [
        "y_hat = model.predict(x_test_hog)"
      ],
      "metadata": {
        "colab": {
          "base_uri": "https://localhost:8080/"
        },
        "id": "HA43bPFFbgql",
        "outputId": "53c690b3-e3c5-4d25-9616-a59fea9faa22"
      },
      "execution_count": 102,
      "outputs": [
        {
          "output_type": "stream",
          "name": "stdout",
          "text": [
            "157/157 [==============================] - 0s 2ms/step\n"
          ]
        }
      ]
    },
    {
      "cell_type": "code",
      "source": [
        "y_hat[y_hat>=0.5] = 1\n",
        "y_hat[y_hat<0.5] = 0"
      ],
      "metadata": {
        "id": "r7qOaqaKcNOW"
      },
      "execution_count": 103,
      "outputs": []
    },
    {
      "cell_type": "code",
      "source": [
        "print('\\nFor Test Set')\n",
        "f1 = f1_score(y_test, y_hat, average='micro')\n",
        "print('F1 score: ' , f1)\n",
        "\n",
        "accuracy = accuracy_score(y_test, y_hat)\n",
        "print('Accuracy: ' , accuracy)\n",
        "\n",
        "precision = precision_score(y_test, y_hat, average='micro')\n",
        "print('Precision: ' , precision)\n",
        "\n",
        "recall = recall_score(y_test, y_hat, average='micro')\n",
        "print('Recall: ' , recall)\n",
        "\n",
        "matrix = ConfusionMatrixDisplay(confusion_matrix(y_test.argmax(axis=1), y_hat.argmax(axis=1)))\n",
        "print('Confusion Matrix: \\n')\n",
        "matrix.plot()\n",
        "plt.show()"
      ],
      "metadata": {
        "colab": {
          "base_uri": "https://localhost:8080/",
          "height": 424
        },
        "id": "CUg-aVrycDY8",
        "outputId": "90b71c79-6835-412c-d603-68b0e8312468"
      },
      "execution_count": 104,
      "outputs": [
        {
          "output_type": "stream",
          "name": "stdout",
          "text": [
            "\n",
            "For Test Set\n",
            "F1 score:  0.9065785521177531\n",
            "Accuracy:  0.9054\n",
            "Precision:  0.9077601764587928\n",
            "Recall:  0.9054\n",
            "Confusion Matrix: \n",
            "\n"
          ]
        },
        {
          "output_type": "display_data",
          "data": {
            "text/plain": [
              "<Figure size 432x288 with 2 Axes>"
            ],
            "image/png": "[encoded data removed]"
          },
          "metadata": {
            "needs_background": "light"
          }
        }
      ]
    }
  ]
}