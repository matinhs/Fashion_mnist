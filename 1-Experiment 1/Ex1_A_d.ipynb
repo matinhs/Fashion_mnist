{
  "nbformat": 4,
  "nbformat_minor": 0,
  "metadata": {
    "colab": {
      "provenance": []
    },
    "kernelspec": {
      "name": "python3",
      "display_name": "Python 3"
    },
    "language_info": {
      "name": "python"
    },
    "accelerator": "GPU",
    "gpuClass": "standard"
  },
  "cells": [
    {
      "cell_type": "markdown",
      "source": [
        "# Importing the libraries"
      ],
      "metadata": {
        "id": "u63o1hNWDFK4"
      }
    },
    {
      "cell_type": "code",
      "execution_count": 70,
      "metadata": {
        "id": "y4tcghPIAgC4"
      },
      "outputs": [],
      "source": [
        "import cv2\n",
        "import numpy as np\n",
        "import tensorflow as tf\n",
        "from sklearn import preprocessing, model_selection\n",
        "from tensorflow.keras.utils import to_categorical\n",
        "from matplotlib import pyplot as plt\n",
        "from sklearn.preprocessing import StandardScaler\n",
        "from keras.models import Sequential\n",
        "from keras.layers import Dense, Activation, Dropout, BatchNormalization\n",
        "from keras import regularizers, optimizers\n",
        "from tensorflow.keras.optimizers import Adam\n",
        "from keras.metrics import categorical_crossentropy\n",
        "from sklearn.metrics import precision_score, recall_score, f1_score, confusion_matrix, accuracy_score, ConfusionMatrixDisplay"
      ]
    },
    {
      "cell_type": "markdown",
      "source": [
        "# Loading and Preprocessing the data"
      ],
      "metadata": {
        "id": "Pdxi3RwHDKz4"
      }
    },
    {
      "cell_type": "code",
      "source": [
        "fashion_mnist = tf.keras.datasets.fashion_mnist\n",
        "(x_train, y_train), (x_test, y_test) = fashion_mnist.load_data()"
      ],
      "metadata": {
        "id": "dEskrJIuBi79"
      },
      "execution_count": 10,
      "outputs": []
    },
    {
      "cell_type": "code",
      "source": [
        "x_val, x_test, y_val, y_test = model_selection.train_test_split(x_test, y_test, test_size=0.5, random_state=42)"
      ],
      "metadata": {
        "id": "iNNsDiOmCZLb"
      },
      "execution_count": 11,
      "outputs": []
    },
    {
      "cell_type": "code",
      "source": [
        "winSize = (28,28)\n",
        "blockSize = (28,28)\n",
        "blockStride = (2,2)\n",
        "cellSize = (4,4)\n",
        "nbins = 9\n",
        "derivAperture = 1\n",
        "winSigma = 4.\n",
        "histogramNormType = 0\n",
        "L2HysThreshold = 0.2\n",
        "gammaCorrection = 0\n",
        "nlevels = 64\n",
        "signedGradients = True\n",
        "\n",
        "hog = cv2.HOGDescriptor(winSize,blockSize,blockStride,\n",
        "cellSize,nbins,derivAperture,\n",
        "winSigma,histogramNormType,L2HysThreshold,\n",
        "gammaCorrection,nlevels, signedGradients)\n"
      ],
      "metadata": {
        "id": "Tls681NlE01F"
      },
      "execution_count": 29,
      "outputs": []
    },
    {
      "cell_type": "code",
      "source": [
        "x_train_hog = np.array([hog.compute(x_train[0])])\n",
        "x_test_hog = np.array([hog.compute(x_test[0])])\n",
        "x_val_hog = np.array([hog.compute(x_val[0])])\n",
        "for i in range(x_train.shape[0]-1):\n",
        "    descriptor = hog.compute(x_train[i+1])\n",
        "    x_train_hog = np.append(x_train_hog, np.array([descriptor]), axis=0)\n",
        "for i in range(x_test.shape[0]-1):\n",
        "    descriptor2 = hog.compute(x_test[i+1])\n",
        "    x_test_hog = np.append(x_test_hog, np.array([descriptor2]), axis=0)\n",
        "for i in range(x_val.shape[0]-1):\n",
        "    descriptor3 = hog.compute(x_val[i+1])\n",
        "    x_val_hog = np.append(x_val_hog, np.array([descriptor3]), axis=0)\n",
        "\n",
        "sc = StandardScaler()\n",
        "x_train_hog = sc.fit_transform(x_train_hog)\n",
        "x_test_hog = sc.transform(x_test_hog)\n",
        "x_val_hog = sc.transform(x_val_hog)"
      ],
      "metadata": {
        "id": "N_5NmiUdKOJq"
      },
      "execution_count": 30,
      "outputs": []
    },
    {
      "cell_type": "code",
      "source": [
        "y_train = to_categorical(y_train)\n",
        "y_test = to_categorical(y_test)\n",
        "y_val = to_categorical(y_val)"
      ],
      "metadata": {
        "id": "AhNHIs9rSDHk"
      },
      "execution_count": 31,
      "outputs": []
    },
    {
      "cell_type": "markdown",
      "source": [
        "# Implementing the model and training it"
      ],
      "metadata": {
        "id": "-czqXwS7S1up"
      }
    },
    {
      "cell_type": "code",
      "source": [
        "model = tf.keras.models.Sequential()\n",
        "model.add(Dense(units=32*4, activation='relu', kernel_regularizer=regularizers.l2(1e-5)))\n",
        "model.add(BatchNormalization())\n",
        "model.add(Dense(10, activation='softmax'))"
      ],
      "metadata": {
        "id": "jR_gKUt8S6R1"
      },
      "execution_count": 105,
      "outputs": []
    },
    {
      "cell_type": "code",
      "source": [
        "lr_schedule = tf.keras.optimizers.schedules.ExponentialDecay(\n",
        "    0.001,\n",
        "    decay_steps=100000,\n",
        "    decay_rate=0.96,\n",
        "    staircase=True)"
      ],
      "metadata": {
        "id": "tF-Ye9awVH7o"
      },
      "execution_count": 106,
      "outputs": []
    },
    {
      "cell_type": "code",
      "source": [
        "model.compile(Adam(learning_rate=lr_schedule), loss='categorical_crossentropy', metrics=['accuracy'])"
      ],
      "metadata": {
        "id": "F8JcUtWuUEnZ"
      },
      "execution_count": 107,
      "outputs": []
    },
    {
      "cell_type": "code",
      "source": [
        "history = model.fit(x_train_hog, y_train, batch_size = 64, epochs = 50, validation_data=(x_val_hog, y_val))"
      ],
      "metadata": {
        "colab": {
          "base_uri": "https://localhost:8080/"
        },
        "id": "bUCeNIeNUQd0",
        "outputId": "aa962488-85c9-4aa6-ea80-4b73ca871ed5"
      },
      "execution_count": 108,
      "outputs": [
        {
          "output_type": "stream",
          "name": "stdout",
          "text": [
            "Epoch 1/50\n",
            "938/938 [==============================] - 4s 4ms/step - loss: 0.3860 - accuracy: 0.8677 - val_loss: 0.3057 - val_accuracy: 0.8922\n",
            "Epoch 2/50\n",
            "938/938 [==============================] - 4s 4ms/step - loss: 0.2689 - accuracy: 0.9051 - val_loss: 0.2742 - val_accuracy: 0.9012\n",
            "Epoch 3/50\n",
            "938/938 [==============================] - 4s 4ms/step - loss: 0.2364 - accuracy: 0.9168 - val_loss: 0.2534 - val_accuracy: 0.9120\n",
            "Epoch 4/50\n",
            "938/938 [==============================] - 4s 4ms/step - loss: 0.2132 - accuracy: 0.9252 - val_loss: 0.2539 - val_accuracy: 0.9092\n",
            "Epoch 5/50\n",
            "938/938 [==============================] - 4s 4ms/step - loss: 0.1969 - accuracy: 0.9312 - val_loss: 0.2569 - val_accuracy: 0.9122\n",
            "Epoch 6/50\n",
            "938/938 [==============================] - 4s 4ms/step - loss: 0.1828 - accuracy: 0.9351 - val_loss: 0.2555 - val_accuracy: 0.9106\n",
            "Epoch 7/50\n",
            "938/938 [==============================] - 4s 4ms/step - loss: 0.1697 - accuracy: 0.9413 - val_loss: 0.2518 - val_accuracy: 0.9164\n",
            "Epoch 8/50\n",
            "938/938 [==============================] - 4s 4ms/step - loss: 0.1590 - accuracy: 0.9445 - val_loss: 0.2598 - val_accuracy: 0.9182\n",
            "Epoch 9/50\n",
            "938/938 [==============================] - 4s 4ms/step - loss: 0.1460 - accuracy: 0.9496 - val_loss: 0.2642 - val_accuracy: 0.9136\n",
            "Epoch 10/50\n",
            "938/938 [==============================] - 4s 4ms/step - loss: 0.1393 - accuracy: 0.9526 - val_loss: 0.2653 - val_accuracy: 0.9162\n",
            "Epoch 11/50\n",
            "938/938 [==============================] - 4s 4ms/step - loss: 0.1309 - accuracy: 0.9549 - val_loss: 0.2739 - val_accuracy: 0.9154\n",
            "Epoch 12/50\n",
            "938/938 [==============================] - 4s 4ms/step - loss: 0.1246 - accuracy: 0.9576 - val_loss: 0.2918 - val_accuracy: 0.9116\n",
            "Epoch 13/50\n",
            "938/938 [==============================] - 4s 5ms/step - loss: 0.1174 - accuracy: 0.9609 - val_loss: 0.2923 - val_accuracy: 0.9154\n",
            "Epoch 14/50\n",
            "938/938 [==============================] - 4s 4ms/step - loss: 0.1112 - accuracy: 0.9636 - val_loss: 0.2971 - val_accuracy: 0.9136\n",
            "Epoch 15/50\n",
            "938/938 [==============================] - 4s 4ms/step - loss: 0.1062 - accuracy: 0.9654 - val_loss: 0.2943 - val_accuracy: 0.9116\n",
            "Epoch 16/50\n",
            "938/938 [==============================] - 4s 4ms/step - loss: 0.1027 - accuracy: 0.9660 - val_loss: 0.3047 - val_accuracy: 0.9098\n",
            "Epoch 17/50\n",
            "938/938 [==============================] - 4s 4ms/step - loss: 0.0965 - accuracy: 0.9690 - val_loss: 0.3039 - val_accuracy: 0.9132\n",
            "Epoch 18/50\n",
            "938/938 [==============================] - 4s 4ms/step - loss: 0.0930 - accuracy: 0.9704 - val_loss: 0.3277 - val_accuracy: 0.9114\n",
            "Epoch 19/50\n",
            "938/938 [==============================] - 4s 4ms/step - loss: 0.0871 - accuracy: 0.9732 - val_loss: 0.3366 - val_accuracy: 0.9108\n",
            "Epoch 20/50\n",
            "938/938 [==============================] - 4s 4ms/step - loss: 0.0872 - accuracy: 0.9719 - val_loss: 0.3301 - val_accuracy: 0.9078\n",
            "Epoch 21/50\n",
            "938/938 [==============================] - 4s 4ms/step - loss: 0.0835 - accuracy: 0.9742 - val_loss: 0.3382 - val_accuracy: 0.9150\n",
            "Epoch 22/50\n",
            "938/938 [==============================] - 4s 4ms/step - loss: 0.0809 - accuracy: 0.9747 - val_loss: 0.3388 - val_accuracy: 0.9168\n",
            "Epoch 23/50\n",
            "938/938 [==============================] - 4s 4ms/step - loss: 0.0770 - accuracy: 0.9772 - val_loss: 0.3350 - val_accuracy: 0.9176\n",
            "Epoch 24/50\n",
            "938/938 [==============================] - 4s 4ms/step - loss: 0.0775 - accuracy: 0.9765 - val_loss: 0.3486 - val_accuracy: 0.9110\n",
            "Epoch 25/50\n",
            "938/938 [==============================] - 4s 4ms/step - loss: 0.0744 - accuracy: 0.9773 - val_loss: 0.3813 - val_accuracy: 0.9106\n",
            "Epoch 26/50\n",
            "938/938 [==============================] - 4s 4ms/step - loss: 0.0706 - accuracy: 0.9789 - val_loss: 0.3870 - val_accuracy: 0.9108\n",
            "Epoch 27/50\n",
            "938/938 [==============================] - 4s 4ms/step - loss: 0.0709 - accuracy: 0.9790 - val_loss: 0.3863 - val_accuracy: 0.9098\n",
            "Epoch 28/50\n",
            "938/938 [==============================] - 5s 5ms/step - loss: 0.0687 - accuracy: 0.9800 - val_loss: 0.3871 - val_accuracy: 0.9100\n",
            "Epoch 29/50\n",
            "938/938 [==============================] - 4s 4ms/step - loss: 0.0682 - accuracy: 0.9802 - val_loss: 0.3979 - val_accuracy: 0.9116\n",
            "Epoch 30/50\n",
            "938/938 [==============================] - 4s 4ms/step - loss: 0.0651 - accuracy: 0.9815 - val_loss: 0.3881 - val_accuracy: 0.9182\n",
            "Epoch 31/50\n",
            "938/938 [==============================] - 4s 4ms/step - loss: 0.0630 - accuracy: 0.9823 - val_loss: 0.4228 - val_accuracy: 0.9138\n",
            "Epoch 32/50\n",
            "938/938 [==============================] - 4s 4ms/step - loss: 0.0658 - accuracy: 0.9820 - val_loss: 0.4114 - val_accuracy: 0.9090\n",
            "Epoch 33/50\n",
            "938/938 [==============================] - 4s 4ms/step - loss: 0.0623 - accuracy: 0.9828 - val_loss: 0.4084 - val_accuracy: 0.9104\n",
            "Epoch 34/50\n",
            "938/938 [==============================] - 4s 4ms/step - loss: 0.0636 - accuracy: 0.9826 - val_loss: 0.4194 - val_accuracy: 0.9100\n",
            "Epoch 35/50\n",
            "938/938 [==============================] - 4s 4ms/step - loss: 0.0593 - accuracy: 0.9842 - val_loss: 0.4381 - val_accuracy: 0.9094\n",
            "Epoch 36/50\n",
            "938/938 [==============================] - 4s 4ms/step - loss: 0.0604 - accuracy: 0.9842 - val_loss: 0.4289 - val_accuracy: 0.9088\n",
            "Epoch 37/50\n",
            "938/938 [==============================] - 4s 4ms/step - loss: 0.0606 - accuracy: 0.9843 - val_loss: 0.4438 - val_accuracy: 0.9098\n",
            "Epoch 38/50\n",
            "938/938 [==============================] - 4s 4ms/step - loss: 0.0597 - accuracy: 0.9844 - val_loss: 0.4310 - val_accuracy: 0.9128\n",
            "Epoch 39/50\n",
            "938/938 [==============================] - 4s 4ms/step - loss: 0.0586 - accuracy: 0.9851 - val_loss: 0.4582 - val_accuracy: 0.9062\n",
            "Epoch 40/50\n",
            "938/938 [==============================] - 4s 4ms/step - loss: 0.0555 - accuracy: 0.9858 - val_loss: 0.4594 - val_accuracy: 0.9082\n",
            "Epoch 41/50\n",
            "938/938 [==============================] - 4s 4ms/step - loss: 0.0578 - accuracy: 0.9852 - val_loss: 0.4846 - val_accuracy: 0.9072\n",
            "Epoch 42/50\n",
            "938/938 [==============================] - 4s 4ms/step - loss: 0.0551 - accuracy: 0.9869 - val_loss: 0.4679 - val_accuracy: 0.9076\n",
            "Epoch 43/50\n",
            "938/938 [==============================] - 4s 4ms/step - loss: 0.0548 - accuracy: 0.9867 - val_loss: 0.4565 - val_accuracy: 0.9094\n",
            "Epoch 44/50\n",
            "938/938 [==============================] - 4s 4ms/step - loss: 0.0577 - accuracy: 0.9855 - val_loss: 0.4829 - val_accuracy: 0.9042\n",
            "Epoch 45/50\n",
            "938/938 [==============================] - 4s 4ms/step - loss: 0.0528 - accuracy: 0.9875 - val_loss: 0.5038 - val_accuracy: 0.9094\n",
            "Epoch 46/50\n",
            "938/938 [==============================] - 4s 4ms/step - loss: 0.0543 - accuracy: 0.9871 - val_loss: 0.4751 - val_accuracy: 0.9092\n",
            "Epoch 47/50\n",
            "938/938 [==============================] - 4s 4ms/step - loss: 0.0521 - accuracy: 0.9875 - val_loss: 0.4839 - val_accuracy: 0.9088\n",
            "Epoch 48/50\n",
            "938/938 [==============================] - 4s 4ms/step - loss: 0.0561 - accuracy: 0.9866 - val_loss: 0.4764 - val_accuracy: 0.9132\n",
            "Epoch 49/50\n",
            "938/938 [==============================] - 4s 4ms/step - loss: 0.0538 - accuracy: 0.9873 - val_loss: 0.4979 - val_accuracy: 0.9066\n",
            "Epoch 50/50\n",
            "938/938 [==============================] - 4s 4ms/step - loss: 0.0536 - accuracy: 0.9877 - val_loss: 0.4996 - val_accuracy: 0.9068\n"
          ]
        }
      ]
    },
    {
      "cell_type": "markdown",
      "source": [
        "# Evaluation"
      ],
      "metadata": {
        "id": "J9iLndfoUwW_"
      }
    },
    {
      "cell_type": "code",
      "source": [
        "plt.figure(dpi=160)\n",
        "\n",
        "plt.subplot(231)\n",
        "plt.title('Loss')\n",
        "plt.plot(history.history['loss'], label='train')\n",
        "plt.plot(history.history['val_loss'], label='val')\n",
        "plt.legend()\n",
        "\n",
        "plt.subplot(233)\n",
        "plt.title('Accuracy')\n",
        "plt.plot(history.history['accuracy'], label='train')\n",
        "plt.plot(history.history['val_accuracy'], label='val')\n",
        "plt.legend()\n",
        "plt.show()"
      ],
      "metadata": {
        "colab": {
          "base_uri": "https://localhost:8080/",
          "height": 337
        },
        "id": "6-0ynCwwUy_G",
        "outputId": "f7520794-a4ab-42fd-d1bc-e33bc33a1d40"
      },
      "execution_count": 109,
      "outputs": [
        {
          "output_type": "display_data",
          "data": {
            "text/plain": [
              "<Figure size 960x640 with 2 Axes>"
            ],
            "image/png": "[encoded data removed]"
          },
          "metadata": {
            "needs_background": "light"
          }
        }
      ]
    },
    {
      "cell_type": "code",
      "source": [
        "y_hat = model.predict(x_test_hog)"
      ],
      "metadata": {
        "colab": {
          "base_uri": "https://localhost:8080/"
        },
        "id": "HA43bPFFbgql",
        "outputId": "3acb3ceb-1ff6-4f54-bc5c-dabb98d0a307"
      },
      "execution_count": 110,
      "outputs": [
        {
          "output_type": "stream",
          "name": "stdout",
          "text": [
            "157/157 [==============================] - 0s 2ms/step\n"
          ]
        }
      ]
    },
    {
      "cell_type": "code",
      "source": [
        "y_hat[y_hat>=0.5] = 1\n",
        "y_hat[y_hat<0.5] = 0"
      ],
      "metadata": {
        "id": "r7qOaqaKcNOW"
      },
      "execution_count": 111,
      "outputs": []
    },
    {
      "cell_type": "code",
      "source": [
        "print('\\nFor Test Set')\n",
        "f1 = f1_score(y_test, y_hat, average='micro')\n",
        "print('F1 score: ' , f1)\n",
        "\n",
        "accuracy = accuracy_score(y_test, y_hat)\n",
        "print('Accuracy: ' , accuracy)\n",
        "\n",
        "precision = precision_score(y_test, y_hat, average='micro')\n",
        "print('Precision: ' , precision)\n",
        "\n",
        "recall = recall_score(y_test, y_hat, average='micro')\n",
        "print('Recall: ' , recall)\n",
        "\n",
        "matrix = ConfusionMatrixDisplay(confusion_matrix(y_test.argmax(axis=1), y_hat.argmax(axis=1)))\n",
        "print('Confusion Matrix: \\n')\n",
        "matrix.plot()\n",
        "plt.show()"
      ],
      "metadata": {
        "colab": {
          "base_uri": "https://localhost:8080/",
          "height": 426
        },
        "id": "CUg-aVrycDY8",
        "outputId": "9dd03a21-6570-445e-9022-796db4c42d9e"
      },
      "execution_count": 112,
      "outputs": [
        {
          "output_type": "stream",
          "name": "stdout",
          "text": [
            "\n",
            "For Test Set\n",
            "F1 score:  0.9077246768860837\n",
            "Accuracy:  0.906\n",
            "Precision:  0.909455932543666\n",
            "Recall:  0.906\n",
            "Confusion Matrix: \n",
            "\n"
          ]
        },
        {
          "output_type": "display_data",
          "data": {
            "text/plain": [
              "<Figure size 432x288 with 2 Axes>"
            ],
            "image/png": "[encoded data removed]"
          },
          "metadata": {
            "needs_background": "light"
          }
        }
      ]
    }
  ]
}