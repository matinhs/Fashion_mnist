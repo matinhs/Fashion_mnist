{
  "nbformat": 4,
  "nbformat_minor": 0,
  "metadata": {
    "colab": {
      "provenance": [],
      "toc_visible": true
    },
    "kernelspec": {
      "name": "python3",
      "display_name": "Python 3"
    },
    "language_info": {
      "name": "python"
    },
    "accelerator": "GPU",
    "gpuClass": "standard"
  },
  "cells": [
    {
      "cell_type": "markdown",
      "source": [
        "# Importing the libraries"
      ],
      "metadata": {
        "id": "u63o1hNWDFK4"
      }
    },
    {
      "cell_type": "code",
      "execution_count": 121,
      "metadata": {
        "id": "y4tcghPIAgC4"
      },
      "outputs": [],
      "source": [
        "import cv2\n",
        "import numpy as np\n",
        "import tensorflow as tf\n",
        "from sklearn import preprocessing, model_selection\n",
        "from tensorflow.keras.utils import to_categorical\n",
        "from matplotlib import pyplot as plt\n",
        "from sklearn.preprocessing import StandardScaler\n",
        "from keras.models import Sequential\n",
        "from keras.layers import Dense, Activation, Dropout, BatchNormalization, ReLU\n",
        "from keras import regularizers, optimizers\n",
        "from tensorflow.keras.optimizers import Adam\n",
        "from keras.metrics import categorical_crossentropy\n",
        "from sklearn.metrics import precision_score, recall_score, f1_score, confusion_matrix, accuracy_score, ConfusionMatrixDisplay"
      ]
    },
    {
      "cell_type": "markdown",
      "source": [
        "# Loading and Preprocessing the data"
      ],
      "metadata": {
        "id": "Pdxi3RwHDKz4"
      }
    },
    {
      "cell_type": "code",
      "source": [
        "fashion_mnist = tf.keras.datasets.fashion_mnist\n",
        "(x_train, y_train), (x_test, y_test) = fashion_mnist.load_data()"
      ],
      "metadata": {
        "id": "dEskrJIuBi79"
      },
      "execution_count": 10,
      "outputs": []
    },
    {
      "cell_type": "code",
      "source": [
        "x_val, x_test, y_val, y_test = model_selection.train_test_split(x_test, y_test, test_size=0.5, random_state=42)"
      ],
      "metadata": {
        "id": "iNNsDiOmCZLb"
      },
      "execution_count": 11,
      "outputs": []
    },
    {
      "cell_type": "code",
      "source": [
        "winSize = (28,28)\n",
        "blockSize = (28,28)\n",
        "blockStride = (2,2)\n",
        "cellSize = (4,4)\n",
        "nbins = 9\n",
        "derivAperture = 1\n",
        "winSigma = 4.\n",
        "histogramNormType = 0\n",
        "L2HysThreshold = 0.2\n",
        "gammaCorrection = 0\n",
        "nlevels = 64\n",
        "signedGradients = True\n",
        "\n",
        "hog = cv2.HOGDescriptor(winSize,blockSize,blockStride,\n",
        "cellSize,nbins,derivAperture,\n",
        "winSigma,histogramNormType,L2HysThreshold,\n",
        "gammaCorrection,nlevels, signedGradients)\n"
      ],
      "metadata": {
        "id": "Tls681NlE01F"
      },
      "execution_count": 29,
      "outputs": []
    },
    {
      "cell_type": "code",
      "source": [
        "x_train_hog = np.array([hog.compute(x_train[0])])\n",
        "x_test_hog = np.array([hog.compute(x_test[0])])\n",
        "x_val_hog = np.array([hog.compute(x_val[0])])\n",
        "for i in range(x_train.shape[0]-1):\n",
        "    descriptor = hog.compute(x_train[i+1])\n",
        "    x_train_hog = np.append(x_train_hog, np.array([descriptor]), axis=0)\n",
        "for i in range(x_test.shape[0]-1):\n",
        "    descriptor2 = hog.compute(x_test[i+1])\n",
        "    x_test_hog = np.append(x_test_hog, np.array([descriptor2]), axis=0)\n",
        "for i in range(x_val.shape[0]-1):\n",
        "    descriptor3 = hog.compute(x_val[i+1])\n",
        "    x_val_hog = np.append(x_val_hog, np.array([descriptor3]), axis=0)\n",
        "\n",
        "sc = StandardScaler()\n",
        "x_train_hog = sc.fit_transform(x_train_hog)\n",
        "x_test_hog = sc.transform(x_test_hog)\n",
        "x_val_hog = sc.transform(x_val_hog)"
      ],
      "metadata": {
        "id": "N_5NmiUdKOJq"
      },
      "execution_count": 30,
      "outputs": []
    },
    {
      "cell_type": "code",
      "source": [
        "y_train = to_categorical(y_train)\n",
        "y_test = to_categorical(y_test)\n",
        "y_val = to_categorical(y_val)"
      ],
      "metadata": {
        "id": "AhNHIs9rSDHk"
      },
      "execution_count": 31,
      "outputs": []
    },
    {
      "cell_type": "markdown",
      "source": [
        "# Implementing the model and training it"
      ],
      "metadata": {
        "id": "-czqXwS7S1up"
      }
    },
    {
      "cell_type": "code",
      "source": [
        "model = tf.keras.models.Sequential()\n",
        "model.add(Dense(units=32, kernel_regularizer=regularizers.l2(1e-4)))\n",
        "model.add(BatchNormalization())\n",
        "model.add(ReLU())\n",
        "model.add(Dropout(0.2))\n",
        "model.add(Dense(units=32, kernel_regularizer=regularizers.l2(1e-4)))\n",
        "model.add(BatchNormalization())\n",
        "model.add(ReLU())\n",
        "model.add(Dropout(0.2))\n",
        "model.add(Dense(units=32, kernel_regularizer=regularizers.l2(1e-4)))\n",
        "model.add(BatchNormalization())\n",
        "model.add(ReLU())\n",
        "model.add(Dropout(0.3))\n",
        "model.add(Dense(units=32, kernel_regularizer=regularizers.l2(1e-4)))\n",
        "model.add(BatchNormalization())\n",
        "model.add(ReLU())\n",
        "model.add(Dense(10, activation='softmax'))"
      ],
      "metadata": {
        "id": "jR_gKUt8S6R1"
      },
      "execution_count": 151,
      "outputs": []
    },
    {
      "cell_type": "code",
      "source": [
        "lr_schedule = tf.keras.optimizers.schedules.ExponentialDecay(\n",
        "    0.001,\n",
        "    decay_steps=100000,\n",
        "    decay_rate=0.96,\n",
        "    staircase=True)"
      ],
      "metadata": {
        "id": "tF-Ye9awVH7o"
      },
      "execution_count": 152,
      "outputs": []
    },
    {
      "cell_type": "code",
      "source": [
        "model.compile(Adam(learning_rate=lr_schedule), loss='categorical_crossentropy', metrics=['accuracy'])"
      ],
      "metadata": {
        "id": "F8JcUtWuUEnZ"
      },
      "execution_count": 153,
      "outputs": []
    },
    {
      "cell_type": "code",
      "source": [
        "model.summary()"
      ],
      "metadata": {
        "colab": {
          "base_uri": "https://localhost:8080/"
        },
        "id": "k-DZc00hkh7y",
        "outputId": "57f1d1de-7408-482a-af70-038097859e5d"
      },
      "execution_count": 160,
      "outputs": [
        {
          "output_type": "stream",
          "name": "stdout",
          "text": [
            "Model: \"sequential_8\"\n",
            "_________________________________________________________________\n",
            " Layer (type)                Output Shape              Param #   \n",
            "=================================================================\n",
            " dense_21 (Dense)            (None, 32)                14144     \n",
            "                                                                 \n",
            " batch_normalization_13 (Bat  (None, 32)               128       \n",
            " chNormalization)                                                \n",
            "                                                                 \n",
            " re_lu_8 (ReLU)              (None, 32)                0         \n",
            "                                                                 \n",
            " dropout_5 (Dropout)         (None, 32)                0         \n",
            "                                                                 \n",
            " dense_22 (Dense)            (None, 32)                1056      \n",
            "                                                                 \n",
            " batch_normalization_14 (Bat  (None, 32)               128       \n",
            " chNormalization)                                                \n",
            "                                                                 \n",
            " re_lu_9 (ReLU)              (None, 32)                0         \n",
            "                                                                 \n",
            " dropout_6 (Dropout)         (None, 32)                0         \n",
            "                                                                 \n",
            " dense_23 (Dense)            (None, 32)                1056      \n",
            "                                                                 \n",
            " batch_normalization_15 (Bat  (None, 32)               128       \n",
            " chNormalization)                                                \n",
            "                                                                 \n",
            " re_lu_10 (ReLU)             (None, 32)                0         \n",
            "                                                                 \n",
            " dropout_7 (Dropout)         (None, 32)                0         \n",
            "                                                                 \n",
            " dense_24 (Dense)            (None, 32)                1056      \n",
            "                                                                 \n",
            " batch_normalization_16 (Bat  (None, 32)               128       \n",
            " chNormalization)                                                \n",
            "                                                                 \n",
            " re_lu_11 (ReLU)             (None, 32)                0         \n",
            "                                                                 \n",
            " dense_25 (Dense)            (None, 10)                330       \n",
            "                                                                 \n",
            "=================================================================\n",
            "Total params: 18,154\n",
            "Trainable params: 17,898\n",
            "Non-trainable params: 256\n",
            "_________________________________________________________________\n"
          ]
        }
      ]
    },
    {
      "cell_type": "code",
      "source": [
        "history = model.fit(x_train_hog, y_train, batch_size = 64, epochs = 50, validation_data=(x_val_hog, y_val))"
      ],
      "metadata": {
        "colab": {
          "base_uri": "https://localhost:8080/"
        },
        "id": "bUCeNIeNUQd0",
        "outputId": "91998d69-7738-4afa-e064-399eab94bc8e"
      },
      "execution_count": 155,
      "outputs": [
        {
          "output_type": "stream",
          "name": "stdout",
          "text": [
            "Epoch 1/50\n",
            "938/938 [==============================] - 7s 6ms/step - loss: 0.9201 - accuracy: 0.6861 - val_loss: 0.4456 - val_accuracy: 0.8498\n",
            "Epoch 2/50\n",
            "938/938 [==============================] - 6s 6ms/step - loss: 0.5645 - accuracy: 0.8166 - val_loss: 0.3880 - val_accuracy: 0.8772\n",
            "Epoch 3/50\n",
            "938/938 [==============================] - 6s 6ms/step - loss: 0.5118 - accuracy: 0.8377 - val_loss: 0.3704 - val_accuracy: 0.8818\n",
            "Epoch 4/50\n",
            "938/938 [==============================] - 6s 6ms/step - loss: 0.4825 - accuracy: 0.8478 - val_loss: 0.3547 - val_accuracy: 0.8860\n",
            "Epoch 5/50\n",
            "938/938 [==============================] - 6s 6ms/step - loss: 0.4599 - accuracy: 0.8533 - val_loss: 0.3406 - val_accuracy: 0.8884\n",
            "Epoch 6/50\n",
            "938/938 [==============================] - 6s 6ms/step - loss: 0.4519 - accuracy: 0.8588 - val_loss: 0.3363 - val_accuracy: 0.8900\n",
            "Epoch 7/50\n",
            "938/938 [==============================] - 7s 7ms/step - loss: 0.4409 - accuracy: 0.8609 - val_loss: 0.3365 - val_accuracy: 0.8956\n",
            "Epoch 8/50\n",
            "938/938 [==============================] - 6s 6ms/step - loss: 0.4327 - accuracy: 0.8634 - val_loss: 0.3298 - val_accuracy: 0.8948\n",
            "Epoch 9/50\n",
            "938/938 [==============================] - 6s 6ms/step - loss: 0.4208 - accuracy: 0.8668 - val_loss: 0.3301 - val_accuracy: 0.8956\n",
            "Epoch 10/50\n",
            "938/938 [==============================] - 6s 6ms/step - loss: 0.4212 - accuracy: 0.8660 - val_loss: 0.3319 - val_accuracy: 0.8964\n",
            "Epoch 11/50\n",
            "938/938 [==============================] - 6s 6ms/step - loss: 0.4171 - accuracy: 0.8679 - val_loss: 0.3267 - val_accuracy: 0.8990\n",
            "Epoch 12/50\n",
            "938/938 [==============================] - 6s 6ms/step - loss: 0.4107 - accuracy: 0.8709 - val_loss: 0.3238 - val_accuracy: 0.8992\n",
            "Epoch 13/50\n",
            "938/938 [==============================] - 6s 6ms/step - loss: 0.4074 - accuracy: 0.8731 - val_loss: 0.3299 - val_accuracy: 0.8962\n",
            "Epoch 14/50\n",
            "938/938 [==============================] - 6s 6ms/step - loss: 0.4018 - accuracy: 0.8736 - val_loss: 0.3221 - val_accuracy: 0.8992\n",
            "Epoch 15/50\n",
            "938/938 [==============================] - 6s 6ms/step - loss: 0.4025 - accuracy: 0.8745 - val_loss: 0.3231 - val_accuracy: 0.8962\n",
            "Epoch 16/50\n",
            "938/938 [==============================] - 6s 6ms/step - loss: 0.3967 - accuracy: 0.8761 - val_loss: 0.3271 - val_accuracy: 0.8952\n",
            "Epoch 17/50\n",
            "938/938 [==============================] - 6s 6ms/step - loss: 0.3936 - accuracy: 0.8777 - val_loss: 0.3151 - val_accuracy: 0.9006\n",
            "Epoch 18/50\n",
            "938/938 [==============================] - 6s 6ms/step - loss: 0.3936 - accuracy: 0.8769 - val_loss: 0.3138 - val_accuracy: 0.9008\n",
            "Epoch 19/50\n",
            "938/938 [==============================] - 6s 6ms/step - loss: 0.3915 - accuracy: 0.8772 - val_loss: 0.3206 - val_accuracy: 0.9012\n",
            "Epoch 20/50\n",
            "938/938 [==============================] - 6s 6ms/step - loss: 0.3935 - accuracy: 0.8784 - val_loss: 0.3132 - val_accuracy: 0.9022\n",
            "Epoch 21/50\n",
            "938/938 [==============================] - 6s 6ms/step - loss: 0.3905 - accuracy: 0.8791 - val_loss: 0.3135 - val_accuracy: 0.9044\n",
            "Epoch 22/50\n",
            "938/938 [==============================] - 6s 6ms/step - loss: 0.3918 - accuracy: 0.8777 - val_loss: 0.3191 - val_accuracy: 0.9008\n",
            "Epoch 23/50\n",
            "938/938 [==============================] - 6s 6ms/step - loss: 0.3935 - accuracy: 0.8771 - val_loss: 0.3170 - val_accuracy: 0.8990\n",
            "Epoch 24/50\n",
            "938/938 [==============================] - 7s 7ms/step - loss: 0.3863 - accuracy: 0.8807 - val_loss: 0.3207 - val_accuracy: 0.8988\n",
            "Epoch 25/50\n",
            "938/938 [==============================] - 6s 6ms/step - loss: 0.3859 - accuracy: 0.8806 - val_loss: 0.3238 - val_accuracy: 0.8970\n",
            "Epoch 26/50\n",
            "938/938 [==============================] - 6s 6ms/step - loss: 0.3853 - accuracy: 0.8818 - val_loss: 0.3315 - val_accuracy: 0.8944\n",
            "Epoch 27/50\n",
            "938/938 [==============================] - 6s 6ms/step - loss: 0.3833 - accuracy: 0.8815 - val_loss: 0.3230 - val_accuracy: 0.8994\n",
            "Epoch 28/50\n",
            "938/938 [==============================] - 6s 6ms/step - loss: 0.3902 - accuracy: 0.8802 - val_loss: 0.3235 - val_accuracy: 0.8986\n",
            "Epoch 29/50\n",
            "938/938 [==============================] - 6s 6ms/step - loss: 0.3854 - accuracy: 0.8799 - val_loss: 0.3174 - val_accuracy: 0.9026\n",
            "Epoch 30/50\n",
            "938/938 [==============================] - 6s 6ms/step - loss: 0.3832 - accuracy: 0.8815 - val_loss: 0.3238 - val_accuracy: 0.8950\n",
            "Epoch 31/50\n",
            "938/938 [==============================] - 6s 6ms/step - loss: 0.3853 - accuracy: 0.8814 - val_loss: 0.3248 - val_accuracy: 0.9012\n",
            "Epoch 32/50\n",
            "938/938 [==============================] - 6s 6ms/step - loss: 0.3881 - accuracy: 0.8824 - val_loss: 0.3202 - val_accuracy: 0.9012\n",
            "Epoch 33/50\n",
            "938/938 [==============================] - 6s 6ms/step - loss: 0.3829 - accuracy: 0.8835 - val_loss: 0.3199 - val_accuracy: 0.8998\n",
            "Epoch 34/50\n",
            "938/938 [==============================] - 6s 6ms/step - loss: 0.3788 - accuracy: 0.8852 - val_loss: 0.3237 - val_accuracy: 0.9020\n",
            "Epoch 35/50\n",
            "938/938 [==============================] - 6s 6ms/step - loss: 0.3844 - accuracy: 0.8824 - val_loss: 0.3266 - val_accuracy: 0.8992\n",
            "Epoch 36/50\n",
            "938/938 [==============================] - 6s 6ms/step - loss: 0.3802 - accuracy: 0.8825 - val_loss: 0.3207 - val_accuracy: 0.9028\n",
            "Epoch 37/50\n",
            "938/938 [==============================] - 6s 6ms/step - loss: 0.3823 - accuracy: 0.8827 - val_loss: 0.3258 - val_accuracy: 0.8998\n",
            "Epoch 38/50\n",
            "938/938 [==============================] - 6s 6ms/step - loss: 0.3791 - accuracy: 0.8834 - val_loss: 0.3132 - val_accuracy: 0.9066\n",
            "Epoch 39/50\n",
            "938/938 [==============================] - 6s 6ms/step - loss: 0.3812 - accuracy: 0.8839 - val_loss: 0.3195 - val_accuracy: 0.9006\n",
            "Epoch 40/50\n",
            "938/938 [==============================] - 6s 6ms/step - loss: 0.3807 - accuracy: 0.8846 - val_loss: 0.3189 - val_accuracy: 0.9008\n",
            "Epoch 41/50\n",
            "938/938 [==============================] - 6s 6ms/step - loss: 0.3764 - accuracy: 0.8839 - val_loss: 0.3242 - val_accuracy: 0.9004\n",
            "Epoch 42/50\n",
            "938/938 [==============================] - 6s 6ms/step - loss: 0.3766 - accuracy: 0.8839 - val_loss: 0.3228 - val_accuracy: 0.9022\n",
            "Epoch 43/50\n",
            "938/938 [==============================] - 6s 6ms/step - loss: 0.3806 - accuracy: 0.8833 - val_loss: 0.3199 - val_accuracy: 0.9020\n",
            "Epoch 44/50\n",
            "938/938 [==============================] - 6s 6ms/step - loss: 0.3777 - accuracy: 0.8836 - val_loss: 0.3252 - val_accuracy: 0.9038\n",
            "Epoch 45/50\n",
            "938/938 [==============================] - 6s 6ms/step - loss: 0.3776 - accuracy: 0.8840 - val_loss: 0.3268 - val_accuracy: 0.9018\n",
            "Epoch 46/50\n",
            "938/938 [==============================] - 6s 6ms/step - loss: 0.3792 - accuracy: 0.8843 - val_loss: 0.3188 - val_accuracy: 0.9024\n",
            "Epoch 47/50\n",
            "938/938 [==============================] - 6s 6ms/step - loss: 0.3792 - accuracy: 0.8838 - val_loss: 0.3274 - val_accuracy: 0.8966\n",
            "Epoch 48/50\n",
            "938/938 [==============================] - 6s 6ms/step - loss: 0.3768 - accuracy: 0.8839 - val_loss: 0.3290 - val_accuracy: 0.8956\n",
            "Epoch 49/50\n",
            "938/938 [==============================] - 6s 6ms/step - loss: 0.3720 - accuracy: 0.8860 - val_loss: 0.3284 - val_accuracy: 0.8946\n",
            "Epoch 50/50\n",
            "938/938 [==============================] - 7s 7ms/step - loss: 0.3753 - accuracy: 0.8854 - val_loss: 0.3191 - val_accuracy: 0.8994\n"
          ]
        }
      ]
    },
    {
      "cell_type": "markdown",
      "source": [
        "# Evaluation"
      ],
      "metadata": {
        "id": "J9iLndfoUwW_"
      }
    },
    {
      "cell_type": "code",
      "source": [
        "plt.figure(dpi=160)\n",
        "\n",
        "plt.subplot(231)\n",
        "plt.title('Loss')\n",
        "plt.plot(history.history['loss'], label='train')\n",
        "plt.plot(history.history['val_loss'], label='val')\n",
        "plt.legend()\n",
        "\n",
        "plt.subplot(233)\n",
        "plt.title('Accuracy')\n",
        "plt.plot(history.history['accuracy'], label='train')\n",
        "plt.plot(history.history['val_accuracy'], label='val')\n",
        "plt.legend()\n",
        "plt.show()"
      ],
      "metadata": {
        "colab": {
          "base_uri": "https://localhost:8080/",
          "height": 337
        },
        "id": "6-0ynCwwUy_G",
        "outputId": "b3885407-b962-457a-af85-92416933dc24"
      },
      "execution_count": 156,
      "outputs": [
        {
          "output_type": "display_data",
          "data": {
            "text/plain": [
              "<Figure size 960x640 with 2 Axes>"
            ],
            "image/png": "[encoded data removed]"
          },
          "metadata": {
            "needs_background": "light"
          }
        }
      ]
    },
    {
      "cell_type": "code",
      "source": [
        "y_hat = model.predict(x_test_hog)"
      ],
      "metadata": {
        "colab": {
          "base_uri": "https://localhost:8080/"
        },
        "id": "HA43bPFFbgql",
        "outputId": "057b8f30-f325-46b5-b487-54139daf001e"
      },
      "execution_count": 157,
      "outputs": [
        {
          "output_type": "stream",
          "name": "stdout",
          "text": [
            "157/157 [==============================] - 0s 2ms/step\n"
          ]
        }
      ]
    },
    {
      "cell_type": "code",
      "source": [
        "y_hat[y_hat>=0.5] = 1\n",
        "y_hat[y_hat<0.5] = 0"
      ],
      "metadata": {
        "id": "r7qOaqaKcNOW"
      },
      "execution_count": 158,
      "outputs": []
    },
    {
      "cell_type": "code",
      "source": [
        "print('\\nFor Test Set')\n",
        "f1 = f1_score(y_test, y_hat, average='micro')\n",
        "print('F1 score: ' , f1)\n",
        "\n",
        "accuracy = accuracy_score(y_test, y_hat)\n",
        "print('Accuracy: ' , accuracy)\n",
        "\n",
        "precision = precision_score(y_test, y_hat, average='micro')\n",
        "print('Precision: ' , precision)\n",
        "\n",
        "recall = recall_score(y_test, y_hat, average='micro')\n",
        "print('Recall: ' , recall)\n",
        "\n",
        "matrix = ConfusionMatrixDisplay(confusion_matrix(y_test.argmax(axis=1), y_hat.argmax(axis=1)))\n",
        "print('Confusion Matrix: \\n')\n",
        "matrix.plot()\n",
        "plt.show()"
      ],
      "metadata": {
        "colab": {
          "base_uri": "https://localhost:8080/",
          "height": 424
        },
        "id": "CUg-aVrycDY8",
        "outputId": "625ab47c-1ef7-42f7-d198-6dcbf383f11b"
      },
      "execution_count": 159,
      "outputs": [
        {
          "output_type": "stream",
          "name": "stdout",
          "text": [
            "\n",
            "For Test Set\n",
            "F1 score:  0.9008423830305491\n",
            "Accuracy:  0.8876\n",
            "Precision:  0.9144858850195755\n",
            "Recall:  0.8876\n",
            "Confusion Matrix: \n",
            "\n"
          ]
        },
        {
          "output_type": "display_data",
          "data": {
            "text/plain": [
              "<Figure size 432x288 with 2 Axes>"
            ],
            "image/png": "[encoded data removed]"
          },
          "metadata": {
            "needs_background": "light"
          }
        }
      ]
    }
  ]
}