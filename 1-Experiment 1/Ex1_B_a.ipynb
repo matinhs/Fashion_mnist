{
  "nbformat": 4,
  "nbformat_minor": 0,
  "metadata": {
    "colab": {
      "provenance": []
    },
    "kernelspec": {
      "name": "python3",
      "display_name": "Python 3"
    },
    "language_info": {
      "name": "python"
    },
    "accelerator": "GPU",
    "gpuClass": "standard"
  },
  "cells": [
    {
      "cell_type": "markdown",
      "source": [
        "# Importing the libraries"
      ],
      "metadata": {
        "id": "u63o1hNWDFK4"
      }
    },
    {
      "cell_type": "code",
      "execution_count": 70,
      "metadata": {
        "id": "y4tcghPIAgC4"
      },
      "outputs": [],
      "source": [
        "import cv2\n",
        "import numpy as np\n",
        "import tensorflow as tf\n",
        "from sklearn import preprocessing, model_selection\n",
        "from tensorflow.keras.utils import to_categorical\n",
        "from matplotlib import pyplot as plt\n",
        "from sklearn.preprocessing import StandardScaler\n",
        "from keras.models import Sequential\n",
        "from keras.layers import Dense, Activation, Dropout, BatchNormalization\n",
        "from keras import regularizers, optimizers\n",
        "from tensorflow.keras.optimizers import Adam\n",
        "from keras.metrics import categorical_crossentropy\n",
        "from sklearn.metrics import precision_score, recall_score, f1_score, confusion_matrix, accuracy_score, ConfusionMatrixDisplay"
      ]
    },
    {
      "cell_type": "markdown",
      "source": [
        "# Loading and Preprocessing the data"
      ],
      "metadata": {
        "id": "Pdxi3RwHDKz4"
      }
    },
    {
      "cell_type": "code",
      "source": [
        "fashion_mnist = tf.keras.datasets.fashion_mnist\n",
        "(x_train, y_train), (x_test, y_test) = fashion_mnist.load_data()"
      ],
      "metadata": {
        "id": "dEskrJIuBi79"
      },
      "execution_count": 10,
      "outputs": []
    },
    {
      "cell_type": "code",
      "source": [
        "x_val, x_test, y_val, y_test = model_selection.train_test_split(x_test, y_test, test_size=0.5, random_state=42)"
      ],
      "metadata": {
        "id": "iNNsDiOmCZLb"
      },
      "execution_count": 11,
      "outputs": []
    },
    {
      "cell_type": "code",
      "source": [
        "winSize = (28,28)\n",
        "blockSize = (28,28)\n",
        "blockStride = (2,2)\n",
        "cellSize = (4,4)\n",
        "nbins = 9\n",
        "derivAperture = 1\n",
        "winSigma = 4.\n",
        "histogramNormType = 0\n",
        "L2HysThreshold = 0.2\n",
        "gammaCorrection = 0\n",
        "nlevels = 64\n",
        "signedGradients = True\n",
        "\n",
        "hog = cv2.HOGDescriptor(winSize,blockSize,blockStride,\n",
        "cellSize,nbins,derivAperture,\n",
        "winSigma,histogramNormType,L2HysThreshold,\n",
        "gammaCorrection,nlevels, signedGradients)\n"
      ],
      "metadata": {
        "id": "Tls681NlE01F"
      },
      "execution_count": 29,
      "outputs": []
    },
    {
      "cell_type": "code",
      "source": [
        "x_train_hog = np.array([hog.compute(x_train[0])])\n",
        "x_test_hog = np.array([hog.compute(x_test[0])])\n",
        "x_val_hog = np.array([hog.compute(x_val[0])])\n",
        "for i in range(x_train.shape[0]-1):\n",
        "    descriptor = hog.compute(x_train[i+1])\n",
        "    x_train_hog = np.append(x_train_hog, np.array([descriptor]), axis=0)\n",
        "for i in range(x_test.shape[0]-1):\n",
        "    descriptor2 = hog.compute(x_test[i+1])\n",
        "    x_test_hog = np.append(x_test_hog, np.array([descriptor2]), axis=0)\n",
        "for i in range(x_val.shape[0]-1):\n",
        "    descriptor3 = hog.compute(x_val[i+1])\n",
        "    x_val_hog = np.append(x_val_hog, np.array([descriptor3]), axis=0)\n",
        "\n",
        "sc = StandardScaler()\n",
        "x_train_hog = sc.fit_transform(x_train_hog)\n",
        "x_test_hog = sc.transform(x_test_hog)\n",
        "x_val_hog = sc.transform(x_val_hog)"
      ],
      "metadata": {
        "id": "N_5NmiUdKOJq"
      },
      "execution_count": 30,
      "outputs": []
    },
    {
      "cell_type": "code",
      "source": [
        "y_train = to_categorical(y_train)\n",
        "y_test = to_categorical(y_test)\n",
        "y_val = to_categorical(y_val)"
      ],
      "metadata": {
        "id": "AhNHIs9rSDHk"
      },
      "execution_count": 31,
      "outputs": []
    },
    {
      "cell_type": "code",
      "source": [
        "np.save('x_train',x_train_hog)\n",
        "np.save('x_test',x_test_hog)\n",
        "np.save('x_val',x_val_hog)\n",
        "np.save('y_train',y_train)\n",
        "np.save('y_test',y_test)\n",
        "np.save('y_val',y_val)"
      ],
      "metadata": {
        "id": "af4w6j4pSUd9"
      },
      "execution_count": 34,
      "outputs": []
    },
    {
      "cell_type": "markdown",
      "source": [
        "# Implementing the model and training it"
      ],
      "metadata": {
        "id": "-czqXwS7S1up"
      }
    },
    {
      "cell_type": "code",
      "source": [
        "model = tf.keras.models.Sequential()\n",
        "model.add(Dense(units=32, activation='relu', kernel_regularizer=regularizers.l2(1e-5)))\n",
        "model.add(BatchNormalization())\n",
        "model.add(Dense(10, activation='softmax'))"
      ],
      "metadata": {
        "id": "jR_gKUt8S6R1"
      },
      "execution_count": 35,
      "outputs": []
    },
    {
      "cell_type": "code",
      "source": [
        "lr_schedule = tf.keras.optimizers.schedules.ExponentialDecay(\n",
        "    0.001,\n",
        "    decay_steps=100000,\n",
        "    decay_rate=0.96,\n",
        "    staircase=True)"
      ],
      "metadata": {
        "id": "tF-Ye9awVH7o"
      },
      "execution_count": 66,
      "outputs": []
    },
    {
      "cell_type": "code",
      "source": [
        "model.compile(Adam(learning_rate=lr_schedule), loss='categorical_crossentropy', metrics=['accuracy'])"
      ],
      "metadata": {
        "id": "F8JcUtWuUEnZ"
      },
      "execution_count": 65,
      "outputs": []
    },
    {
      "cell_type": "code",
      "source": [
        "history = model.fit(x_train_hog, y_train, batch_size = 64, epochs = 50, validation_data=(x_val_hog, y_val))"
      ],
      "metadata": {
        "colab": {
          "base_uri": "https://localhost:8080/"
        },
        "id": "bUCeNIeNUQd0",
        "outputId": "5d4dfa8d-f1c8-49d3-d1c8-85855b410d09"
      },
      "execution_count": 67,
      "outputs": [
        {
          "output_type": "stream",
          "name": "stdout",
          "text": [
            "Epoch 1/50\n",
            "938/938 [==============================] - 4s 4ms/step - loss: 0.1666 - accuracy: 0.9409 - val_loss: 0.3013 - val_accuracy: 0.9036\n",
            "Epoch 2/50\n",
            "938/938 [==============================] - 3s 4ms/step - loss: 0.1642 - accuracy: 0.9423 - val_loss: 0.3041 - val_accuracy: 0.9016\n",
            "Epoch 3/50\n",
            "938/938 [==============================] - 3s 3ms/step - loss: 0.1634 - accuracy: 0.9415 - val_loss: 0.3112 - val_accuracy: 0.9038\n",
            "Epoch 4/50\n",
            "938/938 [==============================] - 3s 4ms/step - loss: 0.1605 - accuracy: 0.9437 - val_loss: 0.3013 - val_accuracy: 0.9074\n",
            "Epoch 5/50\n",
            "938/938 [==============================] - 3s 4ms/step - loss: 0.1602 - accuracy: 0.9427 - val_loss: 0.3114 - val_accuracy: 0.9024\n",
            "Epoch 6/50\n",
            "938/938 [==============================] - 3s 4ms/step - loss: 0.1574 - accuracy: 0.9448 - val_loss: 0.3194 - val_accuracy: 0.9022\n",
            "Epoch 7/50\n",
            "938/938 [==============================] - 4s 4ms/step - loss: 0.1554 - accuracy: 0.9448 - val_loss: 0.3180 - val_accuracy: 0.9008\n",
            "Epoch 8/50\n",
            "938/938 [==============================] - 3s 4ms/step - loss: 0.1546 - accuracy: 0.9450 - val_loss: 0.3213 - val_accuracy: 0.9060\n",
            "Epoch 9/50\n",
            "938/938 [==============================] - 3s 4ms/step - loss: 0.1529 - accuracy: 0.9457 - val_loss: 0.3217 - val_accuracy: 0.9022\n",
            "Epoch 10/50\n",
            "938/938 [==============================] - 3s 4ms/step - loss: 0.1527 - accuracy: 0.9455 - val_loss: 0.3187 - val_accuracy: 0.9026\n",
            "Epoch 11/50\n",
            "938/938 [==============================] - 3s 3ms/step - loss: 0.1500 - accuracy: 0.9470 - val_loss: 0.3162 - val_accuracy: 0.8992\n",
            "Epoch 12/50\n",
            "938/938 [==============================] - 3s 4ms/step - loss: 0.1492 - accuracy: 0.9478 - val_loss: 0.3328 - val_accuracy: 0.8970\n",
            "Epoch 13/50\n",
            "938/938 [==============================] - 3s 3ms/step - loss: 0.1482 - accuracy: 0.9483 - val_loss: 0.3234 - val_accuracy: 0.9016\n",
            "Epoch 14/50\n",
            "938/938 [==============================] - 3s 4ms/step - loss: 0.1478 - accuracy: 0.9486 - val_loss: 0.3233 - val_accuracy: 0.9056\n",
            "Epoch 15/50\n",
            "938/938 [==============================] - 3s 3ms/step - loss: 0.1471 - accuracy: 0.9475 - val_loss: 0.3311 - val_accuracy: 0.9036\n",
            "Epoch 16/50\n",
            "938/938 [==============================] - 3s 3ms/step - loss: 0.1454 - accuracy: 0.9483 - val_loss: 0.3371 - val_accuracy: 0.8996\n",
            "Epoch 17/50\n",
            "938/938 [==============================] - 3s 4ms/step - loss: 0.1427 - accuracy: 0.9507 - val_loss: 0.3366 - val_accuracy: 0.8998\n",
            "Epoch 18/50\n",
            "938/938 [==============================] - 3s 4ms/step - loss: 0.1422 - accuracy: 0.9498 - val_loss: 0.3364 - val_accuracy: 0.9034\n",
            "Epoch 19/50\n",
            "938/938 [==============================] - 3s 3ms/step - loss: 0.1426 - accuracy: 0.9504 - val_loss: 0.3412 - val_accuracy: 0.9040\n",
            "Epoch 20/50\n",
            "938/938 [==============================] - 3s 3ms/step - loss: 0.1402 - accuracy: 0.9514 - val_loss: 0.3328 - val_accuracy: 0.9032\n",
            "Epoch 21/50\n",
            "938/938 [==============================] - 3s 4ms/step - loss: 0.1404 - accuracy: 0.9505 - val_loss: 0.3423 - val_accuracy: 0.9042\n",
            "Epoch 22/50\n",
            "938/938 [==============================] - 3s 4ms/step - loss: 0.1402 - accuracy: 0.9512 - val_loss: 0.3448 - val_accuracy: 0.9044\n",
            "Epoch 23/50\n",
            "938/938 [==============================] - 3s 4ms/step - loss: 0.1383 - accuracy: 0.9523 - val_loss: 0.3395 - val_accuracy: 0.9042\n",
            "Epoch 24/50\n",
            "938/938 [==============================] - 3s 3ms/step - loss: 0.1369 - accuracy: 0.9525 - val_loss: 0.3454 - val_accuracy: 0.9026\n",
            "Epoch 25/50\n",
            "938/938 [==============================] - 3s 4ms/step - loss: 0.1374 - accuracy: 0.9521 - val_loss: 0.3545 - val_accuracy: 0.8984\n",
            "Epoch 26/50\n",
            "938/938 [==============================] - 3s 4ms/step - loss: 0.1364 - accuracy: 0.9529 - val_loss: 0.3473 - val_accuracy: 0.9000\n",
            "Epoch 27/50\n",
            "938/938 [==============================] - 3s 4ms/step - loss: 0.1344 - accuracy: 0.9529 - val_loss: 0.3515 - val_accuracy: 0.9020\n",
            "Epoch 28/50\n",
            "938/938 [==============================] - 3s 3ms/step - loss: 0.1358 - accuracy: 0.9517 - val_loss: 0.3626 - val_accuracy: 0.9020\n",
            "Epoch 29/50\n",
            "938/938 [==============================] - 3s 3ms/step - loss: 0.1327 - accuracy: 0.9526 - val_loss: 0.3487 - val_accuracy: 0.9004\n",
            "Epoch 30/50\n",
            "938/938 [==============================] - 3s 3ms/step - loss: 0.1345 - accuracy: 0.9529 - val_loss: 0.3541 - val_accuracy: 0.9014\n",
            "Epoch 31/50\n",
            "938/938 [==============================] - 3s 3ms/step - loss: 0.1309 - accuracy: 0.9550 - val_loss: 0.3640 - val_accuracy: 0.9000\n",
            "Epoch 32/50\n",
            "938/938 [==============================] - 3s 3ms/step - loss: 0.1328 - accuracy: 0.9534 - val_loss: 0.3673 - val_accuracy: 0.9010\n",
            "Epoch 33/50\n",
            "938/938 [==============================] - 3s 4ms/step - loss: 0.1312 - accuracy: 0.9541 - val_loss: 0.3648 - val_accuracy: 0.9008\n",
            "Epoch 34/50\n",
            "938/938 [==============================] - 3s 4ms/step - loss: 0.1307 - accuracy: 0.9541 - val_loss: 0.3604 - val_accuracy: 0.9006\n",
            "Epoch 35/50\n",
            "938/938 [==============================] - 3s 3ms/step - loss: 0.1291 - accuracy: 0.9557 - val_loss: 0.3566 - val_accuracy: 0.9002\n",
            "Epoch 36/50\n",
            "938/938 [==============================] - 3s 4ms/step - loss: 0.1297 - accuracy: 0.9552 - val_loss: 0.3641 - val_accuracy: 0.9016\n",
            "Epoch 37/50\n",
            "938/938 [==============================] - 4s 5ms/step - loss: 0.1299 - accuracy: 0.9558 - val_loss: 0.3619 - val_accuracy: 0.9030\n",
            "Epoch 38/50\n",
            "938/938 [==============================] - 3s 3ms/step - loss: 0.1281 - accuracy: 0.9546 - val_loss: 0.3829 - val_accuracy: 0.8990\n",
            "Epoch 39/50\n",
            "938/938 [==============================] - 3s 3ms/step - loss: 0.1275 - accuracy: 0.9560 - val_loss: 0.3688 - val_accuracy: 0.9014\n",
            "Epoch 40/50\n",
            "938/938 [==============================] - 3s 3ms/step - loss: 0.1285 - accuracy: 0.9552 - val_loss: 0.3747 - val_accuracy: 0.8994\n",
            "Epoch 41/50\n",
            "938/938 [==============================] - 3s 3ms/step - loss: 0.1267 - accuracy: 0.9553 - val_loss: 0.3715 - val_accuracy: 0.9018\n",
            "Epoch 42/50\n",
            "938/938 [==============================] - 3s 4ms/step - loss: 0.1272 - accuracy: 0.9557 - val_loss: 0.3785 - val_accuracy: 0.9000\n",
            "Epoch 43/50\n",
            "938/938 [==============================] - 3s 4ms/step - loss: 0.1258 - accuracy: 0.9568 - val_loss: 0.3793 - val_accuracy: 0.8986\n",
            "Epoch 44/50\n",
            "938/938 [==============================] - 3s 4ms/step - loss: 0.1256 - accuracy: 0.9560 - val_loss: 0.3794 - val_accuracy: 0.9012\n",
            "Epoch 45/50\n",
            "938/938 [==============================] - 3s 3ms/step - loss: 0.1263 - accuracy: 0.9571 - val_loss: 0.3801 - val_accuracy: 0.9000\n",
            "Epoch 46/50\n",
            "938/938 [==============================] - 3s 3ms/step - loss: 0.1255 - accuracy: 0.9573 - val_loss: 0.3841 - val_accuracy: 0.8970\n",
            "Epoch 47/50\n",
            "938/938 [==============================] - 3s 3ms/step - loss: 0.1244 - accuracy: 0.9583 - val_loss: 0.3807 - val_accuracy: 0.8962\n",
            "Epoch 48/50\n",
            "938/938 [==============================] - 3s 3ms/step - loss: 0.1228 - accuracy: 0.9585 - val_loss: 0.3881 - val_accuracy: 0.9028\n",
            "Epoch 49/50\n",
            "938/938 [==============================] - 3s 3ms/step - loss: 0.1232 - accuracy: 0.9567 - val_loss: 0.3930 - val_accuracy: 0.8964\n",
            "Epoch 50/50\n",
            "938/938 [==============================] - 3s 4ms/step - loss: 0.1234 - accuracy: 0.9582 - val_loss: 0.3839 - val_accuracy: 0.9004\n"
          ]
        }
      ]
    },
    {
      "cell_type": "markdown",
      "source": [
        "# Evaluation"
      ],
      "metadata": {
        "id": "J9iLndfoUwW_"
      }
    },
    {
      "cell_type": "code",
      "source": [
        "plt.figure( dpi=160)\n",
        "\n",
        "plt.subplot(231)\n",
        "plt.title('Loss')\n",
        "plt.plot(history.history['loss'], label='train')\n",
        "plt.plot(history.history['val_loss'], label='val')\n",
        "plt.legend()\n",
        "\n",
        "plt.subplot(233)\n",
        "plt.title('Accuracy')\n",
        "plt.plot(history.history['accuracy'], label='train')\n",
        "plt.plot(history.history['val_accuracy'], label='val')\n",
        "plt.legend()\n",
        "plt.show()"
      ],
      "metadata": {
        "colab": {
          "base_uri": "https://localhost:8080/",
          "height": 337
        },
        "id": "6-0ynCwwUy_G",
        "outputId": "ff4e53fb-450c-4ec5-bd90-997ab8088da2"
      },
      "execution_count": 88,
      "outputs": [
        {
          "output_type": "display_data",
          "data": {
            "text/plain": [
              "<Figure size 960x640 with 2 Axes>"
            ],
            "image/png": "[encoded data removed]"
          },
          "metadata": {
            "needs_background": "light"
          }
        }
      ]
    },
    {
      "cell_type": "code",
      "source": [
        "y_hat = model.predict(x_test_hog)"
      ],
      "metadata": {
        "colab": {
          "base_uri": "https://localhost:8080/"
        },
        "id": "HA43bPFFbgql",
        "outputId": "ef84e797-f806-434e-cc08-cac3152bfa4c"
      },
      "execution_count": 72,
      "outputs": [
        {
          "output_type": "stream",
          "name": "stdout",
          "text": [
            "157/157 [==============================] - 0s 1ms/step\n"
          ]
        }
      ]
    },
    {
      "cell_type": "code",
      "source": [
        "y_hat[y_hat>=0.5] = 1\n",
        "y_hat[y_hat<0.5] = 0"
      ],
      "metadata": {
        "id": "r7qOaqaKcNOW"
      },
      "execution_count": 83,
      "outputs": []
    },
    {
      "cell_type": "code",
      "source": [
        "print('\\nFor Test Set')\n",
        "f1 = f1_score(y_test, y_hat, average='micro')\n",
        "print('F1 score: ' , f1)\n",
        "\n",
        "accuracy = accuracy_score(y_test, y_hat)\n",
        "print('Accuracy: ' , accuracy)\n",
        "\n",
        "precision = precision_score(y_test, y_hat, average='micro')\n",
        "print('Precision: ' , precision)\n",
        "\n",
        "recall = recall_score(y_test, y_hat, average='micro')\n",
        "print('Recall: ' , recall)\n",
        "\n",
        "matrix = ConfusionMatrixDisplay(confusion_matrix(y_test.argmax(axis=1), y_hat.argmax(axis=1)))\n",
        "print('Confusion Matrix: \\n')\n",
        "matrix.plot()\n",
        "plt.show()"
      ],
      "metadata": {
        "colab": {
          "base_uri": "https://localhost:8080/",
          "height": 426
        },
        "id": "CUg-aVrycDY8",
        "outputId": "c392bc37-9872-47ac-a856-3fd15cee53a9"
      },
      "execution_count": 86,
      "outputs": [
        {
          "output_type": "stream",
          "name": "stdout",
          "text": [
            "\n",
            "For Test Set\n",
            "F1 score:  0.8986846068882418\n",
            "Accuracy:  0.895\n",
            "Precision:  0.9023996773543053\n",
            "Recall:  0.895\n",
            "Confusion Matrix: \n",
            "\n"
          ]
        },
        {
          "output_type": "display_data",
          "data": {
            "text/plain": [
              "<Figure size 432x288 with 2 Axes>"
            ],
            "image/png": "[encoded data removed]"
          },
          "metadata": {
            "needs_background": "light"
          }
        }
      ]
    }
  ]
}